{
 "cells": [
  {
   "cell_type": "code",
   "execution_count": 433,
   "metadata": {
    "deletable": false,
    "editable": false
   },
   "outputs": [
    {
     "name": "stdout",
     "output_type": "stream",
     "text": [
      "=====================================================================\n",
      "Assignment: hw3\n",
      "OK, version v1.13.11\n",
      "=====================================================================\n",
      "\n"
     ]
    }
   ],
   "source": [
    "# Initialize OK\n",
    "from client.api.notebook import Notebook\n",
    "ok = Notebook('hw3.ok')"
   ]
  },
  {
   "cell_type": "markdown",
   "metadata": {
    "nbgrader": {
     "grade": false,
     "grade_id": "intro",
     "locked": true,
     "schema_version": 2,
     "solution": false
    }
   },
   "source": [
    "# Homework 3: Trump, Twitter, and Text\n",
    "\n",
    "## Due Date: Friday 6/12, 11:59 pm PST\n",
    "\n",
    "Welcome to the third homework assignment of Data 100/200! In this assignment, we will work with Twitter data in order to analyze Donald Trump's tweets.\n",
    "\n",
    "**Collaboration Policy**\n",
    "\n",
    "Data science is a collaborative activity. While you may talk with others about the homework, we ask that you **write your solutions individually**. If you do discuss the assignments with others please **include their names** below."
   ]
  },
  {
   "cell_type": "markdown",
   "metadata": {},
   "source": [
    "**Collaborators**: *list collaborators here*"
   ]
  },
  {
   "cell_type": "code",
   "execution_count": 434,
   "metadata": {
    "nbgrader": {
     "grade": false,
     "grade_id": "import",
     "locked": true,
     "schema_version": 2,
     "solution": false
    }
   },
   "outputs": [],
   "source": [
    "# Run this cell to set up your notebook\n",
    "import csv\n",
    "import numpy as np\n",
    "import pandas as pd\n",
    "import matplotlib.pyplot as plt\n",
    "import json\n",
    "import zipfile\n",
    "\n",
    "# Ensure that Pandas shows at least 280 characters in columns, so we can see full tweets\n",
    "pd.set_option('max_colwidth', 280)\n",
    "\n",
    "%matplotlib inline\n",
    "plt.style.use('fivethirtyeight')\n",
    "import seaborn as sns\n",
    "sns.set()\n",
    "sns.set_context(\"talk\")\n",
    "import re"
   ]
  },
  {
   "cell_type": "markdown",
   "metadata": {},
   "source": [
    "### Score Breakdown\n",
    "\n",
    "Question | Points\n",
    "--- | ---\n",
    "Question 1 | 2\n",
    "Question 2 | 1\n",
    "Question 3 | 2\n",
    "Question 4a | 1\n",
    "Question 4b | 2\n",
    "Question 4c | 2\n",
    "Question 5a | 1\n",
    "Question 5b | 1\n",
    "Question 5c | 1\n",
    "Question 5d | 2\n",
    "Question 5e | 2\n",
    "Question 6a | 1\n",
    "Question 6b | 1\n",
    "Total | 19"
   ]
  },
  {
   "cell_type": "markdown",
   "metadata": {
    "nbgrader": {
     "grade": false,
     "grade_id": "q3",
     "locked": true,
     "schema_version": 2,
     "solution": false
    }
   },
   "source": [
    "---\n",
    "# Part 1: Importing the Data\n",
    "\n",
    "We will again use the `fetch_and_cache` utility to download the dataset. "
   ]
  },
  {
   "cell_type": "code",
   "execution_count": 435,
   "metadata": {
    "nbgrader": {
     "grade": false,
     "grade_id": "download-data",
     "locked": true,
     "schema_version": 2,
     "solution": false
    }
   },
   "outputs": [
    {
     "name": "stdout",
     "output_type": "stream",
     "text": [
      "Using version already downloaded: Wed Jul 10 20:09:27 2019\n",
      "MD5 hash of file: f26e90f51b3d7b304d8db1ad5bee2f57\n",
      "Located at data/hw3-realdonaldtrump_tweets.json.zip\n"
     ]
    }
   ],
   "source": [
    "# Download the dataset\n",
    "from ds100_utils import fetch_and_cache\n",
    "data_url = 'http://www.ds100.org/sp19/assets/datasets/hw3-realdonaldtrump_tweets.json.zip'\n",
    "file_name = 'hw3-realdonaldtrump_tweets.json.zip'\n",
    "\n",
    "dest_path = fetch_and_cache(data_url=data_url, file=file_name)\n",
    "print(f'Located at {dest_path}')"
   ]
  },
  {
   "cell_type": "markdown",
   "metadata": {},
   "source": [
    "Now that we've downloaded the tweets, let's unzip them and load them into our notebook. Run the cell below to unzip and read tweets from the json file into a list named `all_tweets`."
   ]
  },
  {
   "cell_type": "code",
   "execution_count": 436,
   "metadata": {},
   "outputs": [],
   "source": [
    "# Unzip the dataset\n",
    "my_zip = zipfile.ZipFile(dest_path, 'r')\n",
    "with my_zip.open('hw3-realdonaldtrump_tweets.json', 'r') as f:\n",
    "    all_tweets = json.load(f)"
   ]
  },
  {
   "cell_type": "markdown",
   "metadata": {
    "nbgrader": {
     "grade": false,
     "grade_id": "formatting-note",
     "locked": true,
     "schema_version": 2,
     "solution": false
    }
   },
   "source": [
    "Here is what a typical tweet from `all_tweets` looks like:"
   ]
  },
  {
   "cell_type": "code",
   "execution_count": 437,
   "metadata": {
    "nbgrader": {
     "grade": false,
     "grade_id": "pprint-old-tweets",
     "locked": true,
     "schema_version": 2,
     "solution": false
    },
    "scrolled": false
   },
   "outputs": [
    {
     "name": "stdout",
     "output_type": "stream",
     "text": [
      "{'contributors': None,\n",
      " 'coordinates': None,\n",
      " 'created_at': 'Tue Oct 16 18:40:18 +0000 2018',\n",
      " 'display_text_range': [0, 174],\n",
      " 'entities': {'hashtags': [], 'symbols': [], 'urls': [], 'user_mentions': []},\n",
      " 'favorite_count': 52115,\n",
      " 'favorited': False,\n",
      " 'full_text': 'Just spoke with the Crown Prince of Saudi Arabia who totally '\n",
      "              'denied any knowledge of what took place in their Turkish '\n",
      "              'Consulate. He was with Secretary of State Mike Pompeo...',\n",
      " 'geo': None,\n",
      " 'id': 1052268011900555265,\n",
      " 'id_str': '1052268011900555265',\n",
      " 'in_reply_to_screen_name': None,\n",
      " 'in_reply_to_status_id': None,\n",
      " 'in_reply_to_status_id_str': None,\n",
      " 'in_reply_to_user_id': None,\n",
      " 'in_reply_to_user_id_str': None,\n",
      " 'is_quote_status': False,\n",
      " 'lang': 'en',\n",
      " 'place': None,\n",
      " 'retweet_count': 13493,\n",
      " 'retweeted': False,\n",
      " 'source': '<a href=\"http://twitter.com/download/iphone\" '\n",
      "           'rel=\"nofollow\">Twitter for iPhone</a>',\n",
      " 'truncated': False,\n",
      " 'user': {'contributors_enabled': False,\n",
      "          'created_at': 'Wed Mar 18 13:46:38 +0000 2009',\n",
      "          'default_profile': False,\n",
      "          'default_profile_image': False,\n",
      "          'description': '45th President of the United States of America🇺🇸',\n",
      "          'entities': {'description': {'urls': []},\n",
      "                       'url': {'urls': [{'display_url': 'Instagram.com/realDonaldTrump',\n",
      "                                         'expanded_url': 'http://www.Instagram.com/realDonaldTrump',\n",
      "                                         'indices': [0, 23],\n",
      "                                         'url': 'https://t.co/OMxB0x7xC5'}]}},\n",
      "          'favourites_count': 7,\n",
      "          'follow_request_sent': False,\n",
      "          'followers_count': 58311576,\n",
      "          'following': True,\n",
      "          'friends_count': 45,\n",
      "          'geo_enabled': True,\n",
      "          'has_extended_profile': False,\n",
      "          'id': 25073877,\n",
      "          'id_str': '25073877',\n",
      "          'is_translation_enabled': True,\n",
      "          'is_translator': False,\n",
      "          'lang': 'en',\n",
      "          'listed_count': 100264,\n",
      "          'location': 'Washington, DC',\n",
      "          'name': 'Donald J. Trump',\n",
      "          'notifications': False,\n",
      "          'profile_background_color': '6D5C18',\n",
      "          'profile_background_image_url': 'http://abs.twimg.com/images/themes/theme1/bg.png',\n",
      "          'profile_background_image_url_https': 'https://abs.twimg.com/images/themes/theme1/bg.png',\n",
      "          'profile_background_tile': True,\n",
      "          'profile_banner_url': 'https://pbs.twimg.com/profile_banners/25073877/1550087458',\n",
      "          'profile_image_url': 'http://pbs.twimg.com/profile_images/874276197357596672/kUuht00m_normal.jpg',\n",
      "          'profile_image_url_https': 'https://pbs.twimg.com/profile_images/874276197357596672/kUuht00m_normal.jpg',\n",
      "          'profile_link_color': '1B95E0',\n",
      "          'profile_sidebar_border_color': 'BDDCAD',\n",
      "          'profile_sidebar_fill_color': 'C5CEC0',\n",
      "          'profile_text_color': '333333',\n",
      "          'profile_use_background_image': True,\n",
      "          'protected': False,\n",
      "          'screen_name': 'realDonaldTrump',\n",
      "          'statuses_count': 40563,\n",
      "          'time_zone': None,\n",
      "          'translator_type': 'regular',\n",
      "          'url': 'https://t.co/OMxB0x7xC5',\n",
      "          'utc_offset': None,\n",
      "          'verified': True}}\n"
     ]
    }
   ],
   "source": [
    "from pprint import pprint # to get a more easily-readable view.\n",
    "pprint(all_tweets[-1])"
   ]
  },
  {
   "cell_type": "code",
   "execution_count": 438,
   "metadata": {},
   "outputs": [
    {
     "data": {
      "text/plain": [
       "10370"
      ]
     },
     "execution_count": 438,
     "metadata": {},
     "output_type": "execute_result"
    }
   ],
   "source": [
    "len(all_tweets)"
   ]
  },
  {
   "cell_type": "markdown",
   "metadata": {
    "deletable": false,
    "editable": false,
    "nbgrader": {
     "grade": false,
     "grade_id": "q3b",
     "locked": true,
     "schema_version": 2,
     "solution": false
    }
   },
   "source": [
    "## Question 1\n",
    "\n",
    "Construct a DataFrame called `trump` containing data from all the tweets stored in `all_tweets`. The index of the DataFrame should be the ID of each tweet (looks something like `907698529606541312`). It should have these columns:\n",
    "\n",
    "- `time`: The time the tweet was created encoded as a datetime object. (Use `pd.to_datetime` to encode the timestamp.)\n",
    "- `source`: The source device of the tweet.\n",
    "- `text`: The text of the tweet.\n",
    "- `retweet_count`: The retweet count of the tweet. \n",
    "\n",
    "Finally, **the resulting DataFrame should be sorted by the index.**\n",
    "\n",
    "**Warning:** *Some tweets will store the text in the `text` field and other will use the `full_text` field.*\n",
    "\n",
    "<!--\n",
    "BEGIN QUESTION\n",
    "name: q1\n",
    "points: 2\n",
    "-->"
   ]
  },
  {
   "cell_type": "code",
   "execution_count": 439,
   "metadata": {
    "nbgrader": {
     "grade": false,
     "grade_id": "q3b-answer",
     "locked": false,
     "schema_version": 2,
     "solution": true
    },
    "scrolled": true,
    "tags": [
     "student"
    ]
   },
   "outputs": [
    {
     "data": {
      "text/html": [
       "<div>\n",
       "<style scoped>\n",
       "    .dataframe tbody tr th:only-of-type {\n",
       "        vertical-align: middle;\n",
       "    }\n",
       "\n",
       "    .dataframe tbody tr th {\n",
       "        vertical-align: top;\n",
       "    }\n",
       "\n",
       "    .dataframe thead th {\n",
       "        text-align: right;\n",
       "    }\n",
       "</style>\n",
       "<table border=\"1\" class=\"dataframe\">\n",
       "  <thead>\n",
       "    <tr style=\"text-align: right;\">\n",
       "      <th></th>\n",
       "      <th>time</th>\n",
       "      <th>source</th>\n",
       "      <th>text</th>\n",
       "      <th>retweet_count</th>\n",
       "    </tr>\n",
       "    <tr>\n",
       "      <th>id</th>\n",
       "      <th></th>\n",
       "      <th></th>\n",
       "      <th></th>\n",
       "      <th></th>\n",
       "    </tr>\n",
       "  </thead>\n",
       "  <tbody>\n",
       "    <tr>\n",
       "      <th>786204978629185536</th>\n",
       "      <td>2016-10-12 14:00:48</td>\n",
       "      <td>&lt;a href=\"http://twitter.com/download/iphone\" rel=\"nofollow\"&gt;Twitter for iPhone&lt;/a&gt;</td>\n",
       "      <td>PAY TO PLAY POLITICS. \\n#CrookedHillary https://t.co/wjsl8ITVvknan</td>\n",
       "      <td>24915</td>\n",
       "    </tr>\n",
       "    <tr>\n",
       "      <th>786201435486781440</th>\n",
       "      <td>2016-10-12 13:46:43</td>\n",
       "      <td>&lt;a href=\"http://twitter.com/download/iphone\" rel=\"nofollow\"&gt;Twitter for iPhone&lt;/a&gt;</td>\n",
       "      <td>Very little pick-up by the dishonest media of incredible information provided by WikiLeaks. So dishonest! Rigged system!nan</td>\n",
       "      <td>22609</td>\n",
       "    </tr>\n",
       "    <tr>\n",
       "      <th>786189446274248704</th>\n",
       "      <td>2016-10-12 12:59:05</td>\n",
       "      <td>&lt;a href=\"http://twitter.com/download/android\" rel=\"nofollow\"&gt;Twitter for Android&lt;/a&gt;</td>\n",
       "      <td>Crooked Hillary Clinton likes to talk about the things she will do but she has been there for 30 years - why didn't she do them?nan</td>\n",
       "      <td>18329</td>\n",
       "    </tr>\n",
       "    <tr>\n",
       "      <th>786054986534969344</th>\n",
       "      <td>2016-10-12 04:04:47</td>\n",
       "      <td>&lt;a href=\"http://twitter.com/download/iphone\" rel=\"nofollow\"&gt;Twitter for iPhone&lt;/a&gt;</td>\n",
       "      <td>Thank you Florida- a MOVEMENT that has never been seen before and will never be seen again. Lets get out &amp;amp;… https://t.co/t9XM9wFDZInan</td>\n",
       "      <td>18789</td>\n",
       "    </tr>\n",
       "    <tr>\n",
       "      <th>786007502639038464</th>\n",
       "      <td>2016-10-12 00:56:06</td>\n",
       "      <td>&lt;a href=\"http://twitter.com/download/iphone\" rel=\"nofollow\"&gt;Twitter for iPhone&lt;/a&gt;</td>\n",
       "      <td>Join me Thursday in Florida &amp;amp; Ohio!\\nWest Palm Beach, FL at noon:\\nhttps://t.co/jwbZnQhxg9\\nCincinnati, OH this 7:30pm:\\nhttps://t.co/5w2UhalPIxnan</td>\n",
       "      <td>7761</td>\n",
       "    </tr>\n",
       "    <tr>\n",
       "      <th>785979396620324865</th>\n",
       "      <td>2016-10-11 23:04:25</td>\n",
       "      <td>&lt;a href=\"http://twitter.com/download/android\" rel=\"nofollow\"&gt;Twitter for Android&lt;/a&gt;</td>\n",
       "      <td>Wow, @CNN Town Hall questions were given to Crooked Hillary Clinton in advance of big debates against Bernie Sanders. Hillary &amp;amp; CNN FRAUD!nan</td>\n",
       "      <td>28714</td>\n",
       "    </tr>\n",
       "    <tr>\n",
       "      <th>785957064480653313</th>\n",
       "      <td>2016-10-11 21:35:41</td>\n",
       "      <td>&lt;a href=\"http://twitter.com/download/iphone\" rel=\"nofollow\"&gt;Twitter for iPhone&lt;/a&gt;</td>\n",
       "      <td>Thank you Texas! If you haven't registered to VOTE- today is your last day. Go to: https://t.co/HfihPEA3Sp &amp;amp; get ou… https://t.co/gxbDRD4x2knan</td>\n",
       "      <td>12555</td>\n",
       "    </tr>\n",
       "    <tr>\n",
       "      <th>785947219216125952</th>\n",
       "      <td>2016-10-11 20:56:33</td>\n",
       "      <td>&lt;a href=\"http://twitter.com/download/iphone\" rel=\"nofollow\"&gt;Twitter for iPhone&lt;/a&gt;</td>\n",
       "      <td>VOTER REGISTRATION DEADLINES TODAY. You can register now at: https://t.co/HfihPEA3Sp and get out to… https://t.co/LlFdF0DRX4nan</td>\n",
       "      <td>8094</td>\n",
       "    </tr>\n",
       "    <tr>\n",
       "      <th>785913754194104320</th>\n",
       "      <td>2016-10-11 18:43:35</td>\n",
       "      <td>&lt;a href=\"http://twitter.com/download/iphone\" rel=\"nofollow\"&gt;Twitter for iPhone&lt;/a&gt;</td>\n",
       "      <td>DON'T LET HER FOOL US AGAIN. https://t.co/3QSoADFh7Snan</td>\n",
       "      <td>28432</td>\n",
       "    </tr>\n",
       "    <tr>\n",
       "      <th>785910334427058177</th>\n",
       "      <td>2016-10-11 18:29:59</td>\n",
       "      <td>&lt;a href=\"http://twitter.com/download/iphone\" rel=\"nofollow\"&gt;Twitter for iPhone&lt;/a&gt;</td>\n",
       "      <td>Crooked's State Dept gave special attention to \"Friends of Bill\" after the Haiti Earthquake. Unbelievable! https://t.co/opP2l8ln0Jnan</td>\n",
       "      <td>13098</td>\n",
       "    </tr>\n",
       "    <tr>\n",
       "      <th>785904113540210688</th>\n",
       "      <td>2016-10-11 18:05:16</td>\n",
       "      <td>&lt;a href=\"http://twitter.com/download/iphone\" rel=\"nofollow\"&gt;Twitter for iPhone&lt;/a&gt;</td>\n",
       "      <td>RT @DonaldJTrumpJr: 13 states have voter registration deadlines TODAY: FL, OH, PA, MI, GA, TX, NM, IN, LA, TN, AR, KY, SC.\\n\\nRegister: https…nan</td>\n",
       "      <td>6719</td>\n",
       "    </tr>\n",
       "    <tr>\n",
       "      <th>785898532645502980</th>\n",
       "      <td>2016-10-11 17:43:06</td>\n",
       "      <td>&lt;a href=\"http://twitter.com/download/iphone\" rel=\"nofollow\"&gt;Twitter for iPhone&lt;/a&gt;</td>\n",
       "      <td>I hope people are looking at the disgraceful behavior of Hillary Clinton as exposed by WikiLeaks. She is unfit to run.nan</td>\n",
       "      <td>23235</td>\n",
       "    </tr>\n",
       "    <tr>\n",
       "      <th>785890855760465920</th>\n",
       "      <td>2016-10-11 17:12:35</td>\n",
       "      <td>&lt;a href=\"http://twitter.com/download/android\" rel=\"nofollow\"&gt;Twitter for Android&lt;/a&gt;</td>\n",
       "      <td>In Texas now, leaving soon for BIG rally in Florida!nan</td>\n",
       "      <td>8139</td>\n",
       "    </tr>\n",
       "    <tr>\n",
       "      <th>785885793340448769</th>\n",
       "      <td>2016-10-11 16:52:28</td>\n",
       "      <td>&lt;a href=\"http://twitter.com/download/android\" rel=\"nofollow\"&gt;Twitter for Android&lt;/a&gt;</td>\n",
       "      <td>The very foul mouthed Sen. John McCain begged for my support during his  primary (I gave, he won), then dropped me over locker room remarks!nan</td>\n",
       "      <td>21993</td>\n",
       "    </tr>\n",
       "    <tr>\n",
       "      <th>785863826361184257</th>\n",
       "      <td>2016-10-11 15:25:11</td>\n",
       "      <td>&lt;a href=\"http://twitter.com/download/iphone\" rel=\"nofollow\"&gt;Twitter for iPhone&lt;/a&gt;</td>\n",
       "      <td>Wow. Unbelievable. https://t.co/RcBPCcmwnDnan</td>\n",
       "      <td>19035</td>\n",
       "    </tr>\n",
       "    <tr>\n",
       "      <th>785854588654092290</th>\n",
       "      <td>2016-10-11 14:48:29</td>\n",
       "      <td>&lt;a href=\"http://twitter.com/download/iphone\" rel=\"nofollow\"&gt;Twitter for iPhone&lt;/a&gt;</td>\n",
       "      <td>Disloyal R's are far more difficult than Crooked Hillary. They come at you from all sides. They don’t know how to win - I will teach them!nan</td>\n",
       "      <td>22089</td>\n",
       "    </tr>\n",
       "    <tr>\n",
       "      <th>785846205750337537</th>\n",
       "      <td>2016-10-11 14:15:10</td>\n",
       "      <td>&lt;a href=\"http://twitter.com\" rel=\"nofollow\"&gt;Twitter Web Client&lt;/a&gt;</td>\n",
       "      <td>With the exception of cheating Bernie out of the nom the Dems have always proven to be far more loyal to each other than the Republicans!nan</td>\n",
       "      <td>14909</td>\n",
       "    </tr>\n",
       "    <tr>\n",
       "      <th>785842546878578688</th>\n",
       "      <td>2016-10-11 14:00:38</td>\n",
       "      <td>&lt;a href=\"http://twitter.com/download/iphone\" rel=\"nofollow\"&gt;Twitter for iPhone&lt;/a&gt;</td>\n",
       "      <td>It is so nice that the shackles have been taken off me and I can now fight for America the way I want to.nan</td>\n",
       "      <td>23727</td>\n",
       "    </tr>\n",
       "    <tr>\n",
       "      <th>785842270801133568</th>\n",
       "      <td>2016-10-11 13:59:32</td>\n",
       "      <td>&lt;a href=\"http://twitter.com/download/iphone\" rel=\"nofollow\"&gt;Twitter for iPhone&lt;/a&gt;</td>\n",
       "      <td>RT @EricTrump: 13 states have voter registration deadlines TODAY: FL, OH, PA, MI, GA, TX, NM, IN, LA, TN, AR, KY, SC.\\n\\nRegister: https://t.…nan</td>\n",
       "      <td>8818</td>\n",
       "    </tr>\n",
       "    <tr>\n",
       "      <th>785828772423561216</th>\n",
       "      <td>2016-10-11 13:05:53</td>\n",
       "      <td>&lt;a href=\"http://twitter.com/download/android\" rel=\"nofollow\"&gt;Twitter for Android&lt;/a&gt;</td>\n",
       "      <td>Our very weak and ineffective leader, Paul Ryan, had a bad conference call where his members went wild at his disloyalty.nan</td>\n",
       "      <td>17774</td>\n",
       "    </tr>\n",
       "    <tr>\n",
       "      <th>785816454042124288</th>\n",
       "      <td>2016-10-11 12:16:57</td>\n",
       "      <td>&lt;a href=\"http://twitter.com/download/iphone\" rel=\"nofollow\"&gt;Twitter for iPhone&lt;/a&gt;</td>\n",
       "      <td>Despite winning the second debate in a landslide (every poll), it is hard to do well when Paul Ryan and others give zero support!nan</td>\n",
       "      <td>18035</td>\n",
       "    </tr>\n",
       "    <tr>\n",
       "      <th>785654535234531329</th>\n",
       "      <td>2016-10-11 01:33:32</td>\n",
       "      <td>&lt;a href=\"http://twitter.com/download/iphone\" rel=\"nofollow\"&gt;Twitter for iPhone&lt;/a&gt;</td>\n",
       "      <td>Thank you Pennsylvania. This is a MOVEMENT like we have never seen before! #VoteTrumpPence16 on 11/8/16- together,… https://t.co/x0197JL5RUnan</td>\n",
       "      <td>15018</td>\n",
       "    </tr>\n",
       "    <tr>\n",
       "      <th>785608815962099712</th>\n",
       "      <td>2016-10-10 22:31:52</td>\n",
       "      <td>&lt;a href=\"http://twitter.com/download/iphone\" rel=\"nofollow\"&gt;Twitter for iPhone&lt;/a&gt;</td>\n",
       "      <td>Is this really America? Terrible! https://t.co/WiwC61PIFunan</td>\n",
       "      <td>19892</td>\n",
       "    </tr>\n",
       "    <tr>\n",
       "      <th>785563318652178432</th>\n",
       "      <td>2016-10-10 19:31:04</td>\n",
       "      <td>&lt;a href=\"http://twitter.com/download/android\" rel=\"nofollow\"&gt;Twitter for Android&lt;/a&gt;</td>\n",
       "      <td>Wow, @CNN got caught fixing their \"focus group\" in order to make Crooked Hillary look better. Really pathetic and totally dishonest!nan</td>\n",
       "      <td>28336</td>\n",
       "    </tr>\n",
       "    <tr>\n",
       "      <th>785561269571026946</th>\n",
       "      <td>2016-10-10 19:22:56</td>\n",
       "      <td>&lt;a href=\"http://twitter.com/download/iphone\" rel=\"nofollow\"&gt;Twitter for iPhone&lt;/a&gt;</td>\n",
       "      <td>Debate polls look great - thank you!\\n#MAGA #AmericaFirst https://t.co/4peQ3Sswdznan</td>\n",
       "      <td>15732</td>\n",
       "    </tr>\n",
       "    <tr>\n",
       "      <th>785559022082658305</th>\n",
       "      <td>2016-10-10 19:14:00</td>\n",
       "      <td>&lt;a href=\"http://twitter.com/download/iphone\" rel=\"nofollow\"&gt;Twitter for iPhone&lt;/a&gt;</td>\n",
       "      <td>CNN is the worst - fortunately they have bad ratings because everyone knows they are biased. https://t.co/oFRfNY2rUYnan</td>\n",
       "      <td>14212</td>\n",
       "    </tr>\n",
       "    <tr>\n",
       "      <th>785530928256933888</th>\n",
       "      <td>2016-10-10 17:22:22</td>\n",
       "      <td>&lt;a href=\"http://twitter.com/download/android\" rel=\"nofollow\"&gt;Twitter for Android&lt;/a&gt;</td>\n",
       "      <td>Paul Ryan should spend more time on balancing the budget, jobs and illegal immigration and not waste his time on fighting Republican nomineenan</td>\n",
       "      <td>29781</td>\n",
       "    </tr>\n",
       "    <tr>\n",
       "      <th>785527400528568320</th>\n",
       "      <td>2016-10-10 17:08:21</td>\n",
       "      <td>&lt;a href=\"http://twitter.com/download/android\" rel=\"nofollow\"&gt;Twitter for Android&lt;/a&gt;</td>\n",
       "      <td>Thank you for all of the great comments on the debate last night. Very exciting!nan</td>\n",
       "      <td>11795</td>\n",
       "    </tr>\n",
       "    <tr>\n",
       "      <th>785323809062653952</th>\n",
       "      <td>2016-10-10 03:39:21</td>\n",
       "      <td>&lt;a href=\"http://twitter.com/download/iphone\" rel=\"nofollow\"&gt;Twitter for iPhone&lt;/a&gt;</td>\n",
       "      <td>Thank you St. Louis, Missouri!\\n#MakeAmericaGreatAgain  \\nhttps://t.co/2llBltf0mE https://t.co/wBmVxf1a9Dnan</td>\n",
       "      <td>16007</td>\n",
       "    </tr>\n",
       "    <tr>\n",
       "      <th>785314249044140036</th>\n",
       "      <td>2016-10-10 03:01:22</td>\n",
       "      <td>&lt;a href=\"http://twitter.com/download/iphone\" rel=\"nofollow\"&gt;Twitter for iPhone&lt;/a&gt;</td>\n",
       "      <td>RT @mike_pence: Congrats to my running mate @realDonaldTrump on a big debate win! Proud to stand with you as we #MAGA.nan</td>\n",
       "      <td>40835</td>\n",
       "    </tr>\n",
       "    <tr>\n",
       "      <th>...</th>\n",
       "      <td>...</td>\n",
       "      <td>...</td>\n",
       "      <td>...</td>\n",
       "      <td>...</td>\n",
       "    </tr>\n",
       "    <tr>\n",
       "      <th>1052883467430694912</th>\n",
       "      <td>2018-10-18 11:25:54</td>\n",
       "      <td>&lt;a href=\"http://twitter.com/download/iphone\" rel=\"nofollow\"&gt;Twitter for iPhone&lt;/a&gt;</td>\n",
       "      <td>nanI am watching the Democrat Party led (because they want Open Borders and existing weak laws) assault on our country by Guatemala, Honduras and El Salvador, whose leaders are doing little to stop this large flow of people, INCLUDING MANY CRIMINALS, from entering Mexico to U...</td>\n",
       "      <td>22550</td>\n",
       "    </tr>\n",
       "    <tr>\n",
       "      <th>1052741954918866944</th>\n",
       "      <td>2018-10-18 02:03:35</td>\n",
       "      <td>&lt;a href=\"http://twitter.com/download/iphone\" rel=\"nofollow\"&gt;Twitter for iPhone&lt;/a&gt;</td>\n",
       "      <td>nanEver since his vicious and totally false statements about Admiral Ron Jackson, the highly respected White House Doctor for Obama, Bush &amp;amp; me, Senator John Tester looks to be in big trouble in the Great State of Montana! He behaved worse than the Democrat Mob did with Ju...</td>\n",
       "      <td>23313</td>\n",
       "    </tr>\n",
       "    <tr>\n",
       "      <th>1052681628240281600</th>\n",
       "      <td>2018-10-17 22:03:52</td>\n",
       "      <td>&lt;a href=\"http://twitter.com/download/iphone\" rel=\"nofollow\"&gt;Twitter for iPhone&lt;/a&gt;</td>\n",
       "      <td>nanThis afternoon, it was my great honor to present @USMC Sergeant Major John Canley the Medal of Honor in the East Room of the @WhiteHouse! https://t.co/EI1DD4AkC9 https://t.co/6JJm1SRcQ9</td>\n",
       "      <td>11369</td>\n",
       "    </tr>\n",
       "    <tr>\n",
       "      <th>1052653446053154816</th>\n",
       "      <td>2018-10-17 20:11:53</td>\n",
       "      <td>&lt;a href=\"http://twitter.com/download/iphone\" rel=\"nofollow\"&gt;Twitter for iPhone&lt;/a&gt;</td>\n",
       "      <td>nanRT @USMC: LIVE from the White House: Sgt. Maj. John Canley becomes the 300th Marine to receive the Medal of Honor. https://t.co/sD93rrqaoZ</td>\n",
       "      <td>10917</td>\n",
       "    </tr>\n",
       "    <tr>\n",
       "      <th>1052644447853453312</th>\n",
       "      <td>2018-10-17 19:36:08</td>\n",
       "      <td>&lt;a href=\"http://twitter.com/download/iphone\" rel=\"nofollow\"&gt;Twitter for iPhone&lt;/a&gt;</td>\n",
       "      <td>nanCongressman Neal Dunn (@DunnCampaign) of Florida has done an outstanding job at everything having to do with #MAGA. Now working hard on hurricane relief and rebuild. Strong on Crime, strong on Borders, loves our Military and our Vets. Neal has my highest Endorsement!</td>\n",
       "      <td>11911</td>\n",
       "    </tr>\n",
       "    <tr>\n",
       "      <th>1052641581650640903</th>\n",
       "      <td>2018-10-17 19:24:44</td>\n",
       "      <td>&lt;a href=\"http://twitter.com/download/iphone\" rel=\"nofollow\"&gt;Twitter for iPhone&lt;/a&gt;</td>\n",
       "      <td>nanCollege educated women want safety, security and healthcare protections – very much along with financial and economic health for themselves and our Country. I supply all of this far better than any Democrat (for decades, actually). That’s why they will be voting for me!</td>\n",
       "      <td>22316</td>\n",
       "    </tr>\n",
       "    <tr>\n",
       "      <th>1052618395722559488</th>\n",
       "      <td>2018-10-17 17:52:36</td>\n",
       "      <td>&lt;a href=\"https://studio.twitter.com\" rel=\"nofollow\"&gt;Twitter Media Studio&lt;/a&gt;</td>\n",
       "      <td>nanhttps://t.co/mNkDYgu5sr</td>\n",
       "      <td>9283</td>\n",
       "    </tr>\n",
       "    <tr>\n",
       "      <th>1052615582560923648</th>\n",
       "      <td>2018-10-17 17:41:26</td>\n",
       "      <td>&lt;a href=\"https://studio.twitter.com\" rel=\"nofollow\"&gt;Twitter Media Studio&lt;/a&gt;</td>\n",
       "      <td>nanhttps://t.co/MadlgNheSe</td>\n",
       "      <td>8397</td>\n",
       "    </tr>\n",
       "    <tr>\n",
       "      <th>1052614789828993024</th>\n",
       "      <td>2018-10-17 17:38:17</td>\n",
       "      <td>&lt;a href=\"https://studio.twitter.com\" rel=\"nofollow\"&gt;Twitter Media Studio&lt;/a&gt;</td>\n",
       "      <td>nanhttps://t.co/CMxxW2fEDq</td>\n",
       "      <td>10559</td>\n",
       "    </tr>\n",
       "    <tr>\n",
       "      <th>1052612579099521024</th>\n",
       "      <td>2018-10-17 17:29:30</td>\n",
       "      <td>&lt;a href=\"https://studio.twitter.com\" rel=\"nofollow\"&gt;Twitter Media Studio&lt;/a&gt;</td>\n",
       "      <td>nanhttps://t.co/afqHydsMB5</td>\n",
       "      <td>8124</td>\n",
       "    </tr>\n",
       "    <tr>\n",
       "      <th>1052609907344715777</th>\n",
       "      <td>2018-10-17 17:18:53</td>\n",
       "      <td>&lt;a href=\"http://twitter.com/download/iphone\" rel=\"nofollow\"&gt;Twitter for iPhone&lt;/a&gt;</td>\n",
       "      <td>nan“President Donald J. Trump is Following Through on His Promise to Cut Burdensome Red Tape and Unleash the American Economy”\\nRead more: https://t.co/SrBaQzpq4E https://t.co/zF8fEsw3in</td>\n",
       "      <td>8686</td>\n",
       "    </tr>\n",
       "    <tr>\n",
       "      <th>1052608125839265792</th>\n",
       "      <td>2018-10-17 17:11:48</td>\n",
       "      <td>&lt;a href=\"http://twitter.com/download/iphone\" rel=\"nofollow\"&gt;Twitter for iPhone&lt;/a&gt;</td>\n",
       "      <td>nanRT @GOP: You can cast your ballot before Election Day in:\\n➡️KS\\n➡️NC\\n➡️TN\\nGet out and vote ➡️ https://t.co/YIO9A13Uio https://t.co/bxkCMApisn</td>\n",
       "      <td>6233</td>\n",
       "    </tr>\n",
       "    <tr>\n",
       "      <th>1052608114346926081</th>\n",
       "      <td>2018-10-17 17:11:45</td>\n",
       "      <td>&lt;a href=\"http://twitter.com/download/iphone\" rel=\"nofollow\"&gt;Twitter for iPhone&lt;/a&gt;</td>\n",
       "      <td>nanRT @GOP: TODAY is the LAST day to register to vote in Massachusetts and Wisconsin!\\nRegister today ➡️ https://t.co/CZsNCAAomd https://t.co/3…</td>\n",
       "      <td>4438</td>\n",
       "    </tr>\n",
       "    <tr>\n",
       "      <th>1052556944068755456</th>\n",
       "      <td>2018-10-17 13:48:25</td>\n",
       "      <td>&lt;a href=\"http://twitter.com/download/iphone\" rel=\"nofollow\"&gt;Twitter for iPhone&lt;/a&gt;</td>\n",
       "      <td>nanRepublicans must make the horrendous, weak and outdated immigration laws, and the Border, a part of the Midterms!</td>\n",
       "      <td>16878</td>\n",
       "    </tr>\n",
       "    <tr>\n",
       "      <th>1052556222459727872</th>\n",
       "      <td>2018-10-17 13:45:33</td>\n",
       "      <td>&lt;a href=\"http://twitter.com/download/iphone\" rel=\"nofollow\"&gt;Twitter for iPhone&lt;/a&gt;</td>\n",
       "      <td>nanHard to believe that with thousands of people from South of the Border, walking unimpeded toward our country in the form of large Caravans, that the Democrats won’t approve legislation that will allow laws for the protection of our country. Great Midterm issue for Republic...</td>\n",
       "      <td>24810</td>\n",
       "    </tr>\n",
       "    <tr>\n",
       "      <th>1052539788190986240</th>\n",
       "      <td>2018-10-17 12:40:15</td>\n",
       "      <td>&lt;a href=\"http://twitter.com/download/iphone\" rel=\"nofollow\"&gt;Twitter for iPhone&lt;/a&gt;</td>\n",
       "      <td>nan“Network News gave Zero coverage to the Big Day the Stock Market had yesterday.” @foxandfriends</td>\n",
       "      <td>13724</td>\n",
       "    </tr>\n",
       "    <tr>\n",
       "      <th>1052537536961306625</th>\n",
       "      <td>2018-10-17 12:31:18</td>\n",
       "      <td>&lt;a href=\"http://twitter.com/download/iphone\" rel=\"nofollow\"&gt;Twitter for iPhone&lt;/a&gt;</td>\n",
       "      <td>nanAugust job openings hit a record 7.14 million. Congratulations USA!</td>\n",
       "      <td>16543</td>\n",
       "    </tr>\n",
       "    <tr>\n",
       "      <th>1052532141941301248</th>\n",
       "      <td>2018-10-17 12:09:52</td>\n",
       "      <td>&lt;a href=\"http://twitter.com/download/iphone\" rel=\"nofollow\"&gt;Twitter for iPhone&lt;/a&gt;</td>\n",
       "      <td>nanAP headline was very different from my quote and meaning in the story. They just can’t help themselves. FAKE NEWS!</td>\n",
       "      <td>13582</td>\n",
       "    </tr>\n",
       "    <tr>\n",
       "      <th>1052529703800721408</th>\n",
       "      <td>2018-10-17 12:00:11</td>\n",
       "      <td>&lt;a href=\"http://twitter.com/download/iphone\" rel=\"nofollow\"&gt;Twitter for iPhone&lt;/a&gt;</td>\n",
       "      <td>nanTed Cruz has done so much for Texas, including massive cuts in taxes and regulations - which has brought Texas to the best jobs numbers in the history of the state. He watches carefully over your 2nd Amendment. O’Rourke would blow it all! Ted has long had my Strong Endorse...</td>\n",
       "      <td>19682</td>\n",
       "    </tr>\n",
       "    <tr>\n",
       "      <th>1052527724143763456</th>\n",
       "      <td>2018-10-17 11:52:19</td>\n",
       "      <td>&lt;a href=\"http://twitter.com/download/iphone\" rel=\"nofollow\"&gt;Twitter for iPhone&lt;/a&gt;</td>\n",
       "      <td>nanWatched the debate last night &amp;amp; Beto O’Rourke, who wants higher taxes and far more regulations, is not in the same league with Ted Cruz &amp;amp; what the great people of Texas stand for &amp;amp; want. Ted is strong on Crime, Border &amp;amp; 2nd A, loves our Military, Vets, Low ...</td>\n",
       "      <td>19848</td>\n",
       "    </tr>\n",
       "    <tr>\n",
       "      <th>1052522197347119104</th>\n",
       "      <td>2018-10-17 11:30:21</td>\n",
       "      <td>&lt;a href=\"http://twitter.com/download/iphone\" rel=\"nofollow\"&gt;Twitter for iPhone&lt;/a&gt;</td>\n",
       "      <td>nan“Trump could be the most honest president in modern history. When you look at the real barometer of presidential truthfulness, which is promise keeping, he is probably the most honest president in American history. He’s done exactly what he said he would do.” Marc Thiessen...</td>\n",
       "      <td>22105</td>\n",
       "    </tr>\n",
       "    <tr>\n",
       "      <th>1052388580734263297</th>\n",
       "      <td>2018-10-17 02:39:24</td>\n",
       "      <td>&lt;a href=\"http://twitter.com/download/iphone\" rel=\"nofollow\"&gt;Twitter for iPhone&lt;/a&gt;</td>\n",
       "      <td>nanStock Market up 548 points today. Also, GREAT jobs numbers!</td>\n",
       "      <td>13275</td>\n",
       "    </tr>\n",
       "    <tr>\n",
       "      <th>1052387851088867330</th>\n",
       "      <td>2018-10-17 02:36:30</td>\n",
       "      <td>&lt;a href=\"http://twitter.com/download/iphone\" rel=\"nofollow\"&gt;Twitter for iPhone&lt;/a&gt;</td>\n",
       "      <td>nanElizabeth Warren is being hammered, even by the Left. Her false claim of Indian heritage is only selling to VERY LOW I.Q. individuals!</td>\n",
       "      <td>19934</td>\n",
       "    </tr>\n",
       "    <tr>\n",
       "      <th>1052369731959820292</th>\n",
       "      <td>2018-10-17 01:24:30</td>\n",
       "      <td>&lt;a href=\"http://twitter.com/download/iphone\" rel=\"nofollow\"&gt;Twitter for iPhone&lt;/a&gt;</td>\n",
       "      <td>nanAnybody entering the United States illegally will be arrested and detained, prior to being sent back to their country!</td>\n",
       "      <td>41374</td>\n",
       "    </tr>\n",
       "    <tr>\n",
       "      <th>1052368431201341447</th>\n",
       "      <td>2018-10-17 01:19:20</td>\n",
       "      <td>&lt;a href=\"http://twitter.com/download/iphone\" rel=\"nofollow\"&gt;Twitter for iPhone&lt;/a&gt;</td>\n",
       "      <td>nanWe have today informed the countries of Honduras, Guatemala and El Salvador that if they allow their citizens, or others, to journey through their borders and up to the United States, with the intention of entering our country illegally, all payments made to them will STOP...</td>\n",
       "      <td>35310</td>\n",
       "    </tr>\n",
       "    <tr>\n",
       "      <th>1052344365442588673</th>\n",
       "      <td>2018-10-16 23:43:42</td>\n",
       "      <td>&lt;a href=\"http://twitter.com/download/iphone\" rel=\"nofollow\"&gt;Twitter for iPhone&lt;/a&gt;</td>\n",
       "      <td>nanI will be interviewed tonight by Trish Regan on @FoxBusiness at 8:00 P.M., right after the great Lou Dobbs!</td>\n",
       "      <td>8053</td>\n",
       "    </tr>\n",
       "    <tr>\n",
       "      <th>1052340597900627968</th>\n",
       "      <td>2018-10-16 23:28:44</td>\n",
       "      <td>&lt;a href=\"http://twitter.com/download/iphone\" rel=\"nofollow\"&gt;Twitter for iPhone&lt;/a&gt;</td>\n",
       "      <td>nanRT @FoxBusiness: TONIGHT: @POTUS talks 2020 election in an exclusive interview with @trish_regan. Don't miss the full interview on 'Trish R…</td>\n",
       "      <td>7013</td>\n",
       "    </tr>\n",
       "    <tr>\n",
       "      <th>1052270676982333442</th>\n",
       "      <td>2018-10-16 18:50:54</td>\n",
       "      <td>&lt;a href=\"http://twitter.com/download/iphone\" rel=\"nofollow\"&gt;Twitter for iPhone&lt;/a&gt;</td>\n",
       "      <td>nanWOW, John James is making headway in Michigan. We are bringing jobs back to the State, and the People of Michigan appreciate it. Debbie Stabenow has been no help, if anything, a major hindrance. John James is a star, I hope the voters see it. Polls are tightening!</td>\n",
       "      <td>26394</td>\n",
       "    </tr>\n",
       "    <tr>\n",
       "      <th>1052268013876064256</th>\n",
       "      <td>2018-10-16 18:40:19</td>\n",
       "      <td>&lt;a href=\"http://twitter.com/download/iphone\" rel=\"nofollow\"&gt;Twitter for iPhone&lt;/a&gt;</td>\n",
       "      <td>nan...during the call, and told me that he has already started, and will rapidly expand, a full and complete investigation into this matter. Answers will be forthcoming shortly.</td>\n",
       "      <td>10024</td>\n",
       "    </tr>\n",
       "    <tr>\n",
       "      <th>1052268011900555265</th>\n",
       "      <td>2018-10-16 18:40:18</td>\n",
       "      <td>&lt;a href=\"http://twitter.com/download/iphone\" rel=\"nofollow\"&gt;Twitter for iPhone&lt;/a&gt;</td>\n",
       "      <td>nanJust spoke with the Crown Prince of Saudi Arabia who totally denied any knowledge of what took place in their Turkish Consulate. He was with Secretary of State Mike Pompeo...</td>\n",
       "      <td>13493</td>\n",
       "    </tr>\n",
       "  </tbody>\n",
       "</table>\n",
       "<p>10370 rows × 4 columns</p>\n",
       "</div>"
      ],
      "text/plain": [
       "                                   time  \\\n",
       "id                                        \n",
       "786204978629185536  2016-10-12 14:00:48   \n",
       "786201435486781440  2016-10-12 13:46:43   \n",
       "786189446274248704  2016-10-12 12:59:05   \n",
       "786054986534969344  2016-10-12 04:04:47   \n",
       "786007502639038464  2016-10-12 00:56:06   \n",
       "785979396620324865  2016-10-11 23:04:25   \n",
       "785957064480653313  2016-10-11 21:35:41   \n",
       "785947219216125952  2016-10-11 20:56:33   \n",
       "785913754194104320  2016-10-11 18:43:35   \n",
       "785910334427058177  2016-10-11 18:29:59   \n",
       "785904113540210688  2016-10-11 18:05:16   \n",
       "785898532645502980  2016-10-11 17:43:06   \n",
       "785890855760465920  2016-10-11 17:12:35   \n",
       "785885793340448769  2016-10-11 16:52:28   \n",
       "785863826361184257  2016-10-11 15:25:11   \n",
       "785854588654092290  2016-10-11 14:48:29   \n",
       "785846205750337537  2016-10-11 14:15:10   \n",
       "785842546878578688  2016-10-11 14:00:38   \n",
       "785842270801133568  2016-10-11 13:59:32   \n",
       "785828772423561216  2016-10-11 13:05:53   \n",
       "785816454042124288  2016-10-11 12:16:57   \n",
       "785654535234531329  2016-10-11 01:33:32   \n",
       "785608815962099712  2016-10-10 22:31:52   \n",
       "785563318652178432  2016-10-10 19:31:04   \n",
       "785561269571026946  2016-10-10 19:22:56   \n",
       "785559022082658305  2016-10-10 19:14:00   \n",
       "785530928256933888  2016-10-10 17:22:22   \n",
       "785527400528568320  2016-10-10 17:08:21   \n",
       "785323809062653952  2016-10-10 03:39:21   \n",
       "785314249044140036  2016-10-10 03:01:22   \n",
       "...                                 ...   \n",
       "1052883467430694912 2018-10-18 11:25:54   \n",
       "1052741954918866944 2018-10-18 02:03:35   \n",
       "1052681628240281600 2018-10-17 22:03:52   \n",
       "1052653446053154816 2018-10-17 20:11:53   \n",
       "1052644447853453312 2018-10-17 19:36:08   \n",
       "1052641581650640903 2018-10-17 19:24:44   \n",
       "1052618395722559488 2018-10-17 17:52:36   \n",
       "1052615582560923648 2018-10-17 17:41:26   \n",
       "1052614789828993024 2018-10-17 17:38:17   \n",
       "1052612579099521024 2018-10-17 17:29:30   \n",
       "1052609907344715777 2018-10-17 17:18:53   \n",
       "1052608125839265792 2018-10-17 17:11:48   \n",
       "1052608114346926081 2018-10-17 17:11:45   \n",
       "1052556944068755456 2018-10-17 13:48:25   \n",
       "1052556222459727872 2018-10-17 13:45:33   \n",
       "1052539788190986240 2018-10-17 12:40:15   \n",
       "1052537536961306625 2018-10-17 12:31:18   \n",
       "1052532141941301248 2018-10-17 12:09:52   \n",
       "1052529703800721408 2018-10-17 12:00:11   \n",
       "1052527724143763456 2018-10-17 11:52:19   \n",
       "1052522197347119104 2018-10-17 11:30:21   \n",
       "1052388580734263297 2018-10-17 02:39:24   \n",
       "1052387851088867330 2018-10-17 02:36:30   \n",
       "1052369731959820292 2018-10-17 01:24:30   \n",
       "1052368431201341447 2018-10-17 01:19:20   \n",
       "1052344365442588673 2018-10-16 23:43:42   \n",
       "1052340597900627968 2018-10-16 23:28:44   \n",
       "1052270676982333442 2018-10-16 18:50:54   \n",
       "1052268013876064256 2018-10-16 18:40:19   \n",
       "1052268011900555265 2018-10-16 18:40:18   \n",
       "\n",
       "                                                                                                   source  \\\n",
       "id                                                                                                          \n",
       "786204978629185536     <a href=\"http://twitter.com/download/iphone\" rel=\"nofollow\">Twitter for iPhone</a>   \n",
       "786201435486781440     <a href=\"http://twitter.com/download/iphone\" rel=\"nofollow\">Twitter for iPhone</a>   \n",
       "786189446274248704   <a href=\"http://twitter.com/download/android\" rel=\"nofollow\">Twitter for Android</a>   \n",
       "786054986534969344     <a href=\"http://twitter.com/download/iphone\" rel=\"nofollow\">Twitter for iPhone</a>   \n",
       "786007502639038464     <a href=\"http://twitter.com/download/iphone\" rel=\"nofollow\">Twitter for iPhone</a>   \n",
       "785979396620324865   <a href=\"http://twitter.com/download/android\" rel=\"nofollow\">Twitter for Android</a>   \n",
       "785957064480653313     <a href=\"http://twitter.com/download/iphone\" rel=\"nofollow\">Twitter for iPhone</a>   \n",
       "785947219216125952     <a href=\"http://twitter.com/download/iphone\" rel=\"nofollow\">Twitter for iPhone</a>   \n",
       "785913754194104320     <a href=\"http://twitter.com/download/iphone\" rel=\"nofollow\">Twitter for iPhone</a>   \n",
       "785910334427058177     <a href=\"http://twitter.com/download/iphone\" rel=\"nofollow\">Twitter for iPhone</a>   \n",
       "785904113540210688     <a href=\"http://twitter.com/download/iphone\" rel=\"nofollow\">Twitter for iPhone</a>   \n",
       "785898532645502980     <a href=\"http://twitter.com/download/iphone\" rel=\"nofollow\">Twitter for iPhone</a>   \n",
       "785890855760465920   <a href=\"http://twitter.com/download/android\" rel=\"nofollow\">Twitter for Android</a>   \n",
       "785885793340448769   <a href=\"http://twitter.com/download/android\" rel=\"nofollow\">Twitter for Android</a>   \n",
       "785863826361184257     <a href=\"http://twitter.com/download/iphone\" rel=\"nofollow\">Twitter for iPhone</a>   \n",
       "785854588654092290     <a href=\"http://twitter.com/download/iphone\" rel=\"nofollow\">Twitter for iPhone</a>   \n",
       "785846205750337537                     <a href=\"http://twitter.com\" rel=\"nofollow\">Twitter Web Client</a>   \n",
       "785842546878578688     <a href=\"http://twitter.com/download/iphone\" rel=\"nofollow\">Twitter for iPhone</a>   \n",
       "785842270801133568     <a href=\"http://twitter.com/download/iphone\" rel=\"nofollow\">Twitter for iPhone</a>   \n",
       "785828772423561216   <a href=\"http://twitter.com/download/android\" rel=\"nofollow\">Twitter for Android</a>   \n",
       "785816454042124288     <a href=\"http://twitter.com/download/iphone\" rel=\"nofollow\">Twitter for iPhone</a>   \n",
       "785654535234531329     <a href=\"http://twitter.com/download/iphone\" rel=\"nofollow\">Twitter for iPhone</a>   \n",
       "785608815962099712     <a href=\"http://twitter.com/download/iphone\" rel=\"nofollow\">Twitter for iPhone</a>   \n",
       "785563318652178432   <a href=\"http://twitter.com/download/android\" rel=\"nofollow\">Twitter for Android</a>   \n",
       "785561269571026946     <a href=\"http://twitter.com/download/iphone\" rel=\"nofollow\">Twitter for iPhone</a>   \n",
       "785559022082658305     <a href=\"http://twitter.com/download/iphone\" rel=\"nofollow\">Twitter for iPhone</a>   \n",
       "785530928256933888   <a href=\"http://twitter.com/download/android\" rel=\"nofollow\">Twitter for Android</a>   \n",
       "785527400528568320   <a href=\"http://twitter.com/download/android\" rel=\"nofollow\">Twitter for Android</a>   \n",
       "785323809062653952     <a href=\"http://twitter.com/download/iphone\" rel=\"nofollow\">Twitter for iPhone</a>   \n",
       "785314249044140036     <a href=\"http://twitter.com/download/iphone\" rel=\"nofollow\">Twitter for iPhone</a>   \n",
       "...                                                                                                   ...   \n",
       "1052883467430694912    <a href=\"http://twitter.com/download/iphone\" rel=\"nofollow\">Twitter for iPhone</a>   \n",
       "1052741954918866944    <a href=\"http://twitter.com/download/iphone\" rel=\"nofollow\">Twitter for iPhone</a>   \n",
       "1052681628240281600    <a href=\"http://twitter.com/download/iphone\" rel=\"nofollow\">Twitter for iPhone</a>   \n",
       "1052653446053154816    <a href=\"http://twitter.com/download/iphone\" rel=\"nofollow\">Twitter for iPhone</a>   \n",
       "1052644447853453312    <a href=\"http://twitter.com/download/iphone\" rel=\"nofollow\">Twitter for iPhone</a>   \n",
       "1052641581650640903    <a href=\"http://twitter.com/download/iphone\" rel=\"nofollow\">Twitter for iPhone</a>   \n",
       "1052618395722559488          <a href=\"https://studio.twitter.com\" rel=\"nofollow\">Twitter Media Studio</a>   \n",
       "1052615582560923648          <a href=\"https://studio.twitter.com\" rel=\"nofollow\">Twitter Media Studio</a>   \n",
       "1052614789828993024          <a href=\"https://studio.twitter.com\" rel=\"nofollow\">Twitter Media Studio</a>   \n",
       "1052612579099521024          <a href=\"https://studio.twitter.com\" rel=\"nofollow\">Twitter Media Studio</a>   \n",
       "1052609907344715777    <a href=\"http://twitter.com/download/iphone\" rel=\"nofollow\">Twitter for iPhone</a>   \n",
       "1052608125839265792    <a href=\"http://twitter.com/download/iphone\" rel=\"nofollow\">Twitter for iPhone</a>   \n",
       "1052608114346926081    <a href=\"http://twitter.com/download/iphone\" rel=\"nofollow\">Twitter for iPhone</a>   \n",
       "1052556944068755456    <a href=\"http://twitter.com/download/iphone\" rel=\"nofollow\">Twitter for iPhone</a>   \n",
       "1052556222459727872    <a href=\"http://twitter.com/download/iphone\" rel=\"nofollow\">Twitter for iPhone</a>   \n",
       "1052539788190986240    <a href=\"http://twitter.com/download/iphone\" rel=\"nofollow\">Twitter for iPhone</a>   \n",
       "1052537536961306625    <a href=\"http://twitter.com/download/iphone\" rel=\"nofollow\">Twitter for iPhone</a>   \n",
       "1052532141941301248    <a href=\"http://twitter.com/download/iphone\" rel=\"nofollow\">Twitter for iPhone</a>   \n",
       "1052529703800721408    <a href=\"http://twitter.com/download/iphone\" rel=\"nofollow\">Twitter for iPhone</a>   \n",
       "1052527724143763456    <a href=\"http://twitter.com/download/iphone\" rel=\"nofollow\">Twitter for iPhone</a>   \n",
       "1052522197347119104    <a href=\"http://twitter.com/download/iphone\" rel=\"nofollow\">Twitter for iPhone</a>   \n",
       "1052388580734263297    <a href=\"http://twitter.com/download/iphone\" rel=\"nofollow\">Twitter for iPhone</a>   \n",
       "1052387851088867330    <a href=\"http://twitter.com/download/iphone\" rel=\"nofollow\">Twitter for iPhone</a>   \n",
       "1052369731959820292    <a href=\"http://twitter.com/download/iphone\" rel=\"nofollow\">Twitter for iPhone</a>   \n",
       "1052368431201341447    <a href=\"http://twitter.com/download/iphone\" rel=\"nofollow\">Twitter for iPhone</a>   \n",
       "1052344365442588673    <a href=\"http://twitter.com/download/iphone\" rel=\"nofollow\">Twitter for iPhone</a>   \n",
       "1052340597900627968    <a href=\"http://twitter.com/download/iphone\" rel=\"nofollow\">Twitter for iPhone</a>   \n",
       "1052270676982333442    <a href=\"http://twitter.com/download/iphone\" rel=\"nofollow\">Twitter for iPhone</a>   \n",
       "1052268013876064256    <a href=\"http://twitter.com/download/iphone\" rel=\"nofollow\">Twitter for iPhone</a>   \n",
       "1052268011900555265    <a href=\"http://twitter.com/download/iphone\" rel=\"nofollow\">Twitter for iPhone</a>   \n",
       "\n",
       "                                                                                                                                                                                                                                                                                                        text  \\\n",
       "id                                                                                                                                                                                                                                                                                                             \n",
       "786204978629185536                                                                                                                                                                                                                        PAY TO PLAY POLITICS. \\n#CrookedHillary https://t.co/wjsl8ITVvknan   \n",
       "786201435486781440                                                                                                                                                               Very little pick-up by the dishonest media of incredible information provided by WikiLeaks. So dishonest! Rigged system!nan   \n",
       "786189446274248704                                                                                                                                                       Crooked Hillary Clinton likes to talk about the things she will do but she has been there for 30 years - why didn't she do them?nan   \n",
       "786054986534969344                                                                                                                                                Thank you Florida- a MOVEMENT that has never been seen before and will never be seen again. Lets get out &amp;… https://t.co/t9XM9wFDZInan   \n",
       "786007502639038464                                                                                                                                   Join me Thursday in Florida &amp; Ohio!\\nWest Palm Beach, FL at noon:\\nhttps://t.co/jwbZnQhxg9\\nCincinnati, OH this 7:30pm:\\nhttps://t.co/5w2UhalPIxnan   \n",
       "785979396620324865                                                                                                                                         Wow, @CNN Town Hall questions were given to Crooked Hillary Clinton in advance of big debates against Bernie Sanders. Hillary &amp; CNN FRAUD!nan   \n",
       "785957064480653313                                                                                                                                       Thank you Texas! If you haven't registered to VOTE- today is your last day. Go to: https://t.co/HfihPEA3Sp &amp; get ou… https://t.co/gxbDRD4x2knan   \n",
       "785947219216125952                                                                                                                                                           VOTER REGISTRATION DEADLINES TODAY. You can register now at: https://t.co/HfihPEA3Sp and get out to… https://t.co/LlFdF0DRX4nan   \n",
       "785913754194104320                                                                                                                                                                                                                                   DON'T LET HER FOOL US AGAIN. https://t.co/3QSoADFh7Snan   \n",
       "785910334427058177                                                                                                                                                     Crooked's State Dept gave special attention to \"Friends of Bill\" after the Haiti Earthquake. Unbelievable! https://t.co/opP2l8ln0Jnan   \n",
       "785904113540210688                                                                                                                                         RT @DonaldJTrumpJr: 13 states have voter registration deadlines TODAY: FL, OH, PA, MI, GA, TX, NM, IN, LA, TN, AR, KY, SC.\\n\\nRegister: https…nan   \n",
       "785898532645502980                                                                                                                                                                 I hope people are looking at the disgraceful behavior of Hillary Clinton as exposed by WikiLeaks. She is unfit to run.nan   \n",
       "785890855760465920                                                                                                                                                                                                                                   In Texas now, leaving soon for BIG rally in Florida!nan   \n",
       "785885793340448769                                                                                                                                           The very foul mouthed Sen. John McCain begged for my support during his  primary (I gave, he won), then dropped me over locker room remarks!nan   \n",
       "785863826361184257                                                                                                                                                                                                                                             Wow. Unbelievable. https://t.co/RcBPCcmwnDnan   \n",
       "785854588654092290                                                                                                                                             Disloyal R's are far more difficult than Crooked Hillary. They come at you from all sides. They don’t know how to win - I will teach them!nan   \n",
       "785846205750337537                                                                                                                                              With the exception of cheating Bernie out of the nom the Dems have always proven to be far more loyal to each other than the Republicans!nan   \n",
       "785842546878578688                                                                                                                                                                              It is so nice that the shackles have been taken off me and I can now fight for America the way I want to.nan   \n",
       "785842270801133568                                                                                                                                         RT @EricTrump: 13 states have voter registration deadlines TODAY: FL, OH, PA, MI, GA, TX, NM, IN, LA, TN, AR, KY, SC.\\n\\nRegister: https://t.…nan   \n",
       "785828772423561216                                                                                                                                                              Our very weak and ineffective leader, Paul Ryan, had a bad conference call where his members went wild at his disloyalty.nan   \n",
       "785816454042124288                                                                                                                                                      Despite winning the second debate in a landslide (every poll), it is hard to do well when Paul Ryan and others give zero support!nan   \n",
       "785654535234531329                                                                                                                                            Thank you Pennsylvania. This is a MOVEMENT like we have never seen before! #VoteTrumpPence16 on 11/8/16- together,… https://t.co/x0197JL5RUnan   \n",
       "785608815962099712                                                                                                                                                                                                                              Is this really America? Terrible! https://t.co/WiwC61PIFunan   \n",
       "785563318652178432                                                                                                                                                   Wow, @CNN got caught fixing their \"focus group\" in order to make Crooked Hillary look better. Really pathetic and totally dishonest!nan   \n",
       "785561269571026946                                                                                                                                                                                                      Debate polls look great - thank you!\\n#MAGA #AmericaFirst https://t.co/4peQ3Sswdznan   \n",
       "785559022082658305                                                                                                                                                                   CNN is the worst - fortunately they have bad ratings because everyone knows they are biased. https://t.co/oFRfNY2rUYnan   \n",
       "785530928256933888                                                                                                                                           Paul Ryan should spend more time on balancing the budget, jobs and illegal immigration and not waste his time on fighting Republican nomineenan   \n",
       "785527400528568320                                                                                                                                                                                                       Thank you for all of the great comments on the debate last night. Very exciting!nan   \n",
       "785323809062653952                                                                                                                                                                              Thank you St. Louis, Missouri!\\n#MakeAmericaGreatAgain  \\nhttps://t.co/2llBltf0mE https://t.co/wBmVxf1a9Dnan   \n",
       "785314249044140036                                                                                                                                                                 RT @mike_pence: Congrats to my running mate @realDonaldTrump on a big debate win! Proud to stand with you as we #MAGA.nan   \n",
       "...                                                                                                                                                                                                                                                                                                      ...   \n",
       "1052883467430694912  nanI am watching the Democrat Party led (because they want Open Borders and existing weak laws) assault on our country by Guatemala, Honduras and El Salvador, whose leaders are doing little to stop this large flow of people, INCLUDING MANY CRIMINALS, from entering Mexico to U...   \n",
       "1052741954918866944  nanEver since his vicious and totally false statements about Admiral Ron Jackson, the highly respected White House Doctor for Obama, Bush &amp; me, Senator John Tester looks to be in big trouble in the Great State of Montana! He behaved worse than the Democrat Mob did with Ju...   \n",
       "1052681628240281600                                                                                             nanThis afternoon, it was my great honor to present @USMC Sergeant Major John Canley the Medal of Honor in the East Room of the @WhiteHouse! https://t.co/EI1DD4AkC9 https://t.co/6JJm1SRcQ9   \n",
       "1052653446053154816                                                                                                                                            nanRT @USMC: LIVE from the White House: Sgt. Maj. John Canley becomes the 300th Marine to receive the Medal of Honor. https://t.co/sD93rrqaoZ   \n",
       "1052644447853453312           nanCongressman Neal Dunn (@DunnCampaign) of Florida has done an outstanding job at everything having to do with #MAGA. Now working hard on hurricane relief and rebuild. Strong on Crime, strong on Borders, loves our Military and our Vets. Neal has my highest Endorsement!   \n",
       "1052641581650640903        nanCollege educated women want safety, security and healthcare protections – very much along with financial and economic health for themselves and our Country. I supply all of this far better than any Democrat (for decades, actually). That’s why they will be voting for me!   \n",
       "1052618395722559488                                                                                                                                                                                                                                                               nanhttps://t.co/mNkDYgu5sr   \n",
       "1052615582560923648                                                                                                                                                                                                                                                               nanhttps://t.co/MadlgNheSe   \n",
       "1052614789828993024                                                                                                                                                                                                                                                               nanhttps://t.co/CMxxW2fEDq   \n",
       "1052612579099521024                                                                                                                                                                                                                                                               nanhttps://t.co/afqHydsMB5   \n",
       "1052609907344715777                                                                                               nan“President Donald J. Trump is Following Through on His Promise to Cut Burdensome Red Tape and Unleash the American Economy”\\nRead more: https://t.co/SrBaQzpq4E https://t.co/zF8fEsw3in   \n",
       "1052608125839265792                                                                                                                                      nanRT @GOP: You can cast your ballot before Election Day in:\\n➡️KS\\n➡️NC\\n➡️TN\\nGet out and vote ➡️ https://t.co/YIO9A13Uio https://t.co/bxkCMApisn   \n",
       "1052608114346926081                                                                                                                                         nanRT @GOP: TODAY is the LAST day to register to vote in Massachusetts and Wisconsin!\\nRegister today ➡️ https://t.co/CZsNCAAomd https://t.co/3…   \n",
       "1052556944068755456                                                                                                                                                                     nanRepublicans must make the horrendous, weak and outdated immigration laws, and the Border, a part of the Midterms!   \n",
       "1052556222459727872  nanHard to believe that with thousands of people from South of the Border, walking unimpeded toward our country in the form of large Caravans, that the Democrats won’t approve legislation that will allow laws for the protection of our country. Great Midterm issue for Republic...   \n",
       "1052539788190986240                                                                                                                                                                                       nan“Network News gave Zero coverage to the Big Day the Stock Market had yesterday.” @foxandfriends   \n",
       "1052537536961306625                                                                                                                                                                                                                   nanAugust job openings hit a record 7.14 million. Congratulations USA!   \n",
       "1052532141941301248                                                                                                                                                                    nanAP headline was very different from my quote and meaning in the story. They just can’t help themselves. FAKE NEWS!   \n",
       "1052529703800721408  nanTed Cruz has done so much for Texas, including massive cuts in taxes and regulations - which has brought Texas to the best jobs numbers in the history of the state. He watches carefully over your 2nd Amendment. O’Rourke would blow it all! Ted has long had my Strong Endorse...   \n",
       "1052527724143763456  nanWatched the debate last night &amp; Beto O’Rourke, who wants higher taxes and far more regulations, is not in the same league with Ted Cruz &amp; what the great people of Texas stand for &amp; want. Ted is strong on Crime, Border &amp; 2nd A, loves our Military, Vets, Low ...   \n",
       "1052522197347119104  nan“Trump could be the most honest president in modern history. When you look at the real barometer of presidential truthfulness, which is promise keeping, he is probably the most honest president in American history. He’s done exactly what he said he would do.” Marc Thiessen...   \n",
       "1052388580734263297                                                                                                                                                                                                                           nanStock Market up 548 points today. Also, GREAT jobs numbers!   \n",
       "1052387851088867330                                                                                                                                                nanElizabeth Warren is being hammered, even by the Left. Her false claim of Indian heritage is only selling to VERY LOW I.Q. individuals!   \n",
       "1052369731959820292                                                                                                                                                                nanAnybody entering the United States illegally will be arrested and detained, prior to being sent back to their country!   \n",
       "1052368431201341447  nanWe have today informed the countries of Honduras, Guatemala and El Salvador that if they allow their citizens, or others, to journey through their borders and up to the United States, with the intention of entering our country illegally, all payments made to them will STOP...   \n",
       "1052344365442588673                                                                                                                                                                           nanI will be interviewed tonight by Trish Regan on @FoxBusiness at 8:00 P.M., right after the great Lou Dobbs!   \n",
       "1052340597900627968                                                                                                                                          nanRT @FoxBusiness: TONIGHT: @POTUS talks 2020 election in an exclusive interview with @trish_regan. Don't miss the full interview on 'Trish R…   \n",
       "1052270676982333442              nanWOW, John James is making headway in Michigan. We are bringing jobs back to the State, and the People of Michigan appreciate it. Debbie Stabenow has been no help, if anything, a major hindrance. John James is a star, I hope the voters see it. Polls are tightening!   \n",
       "1052268013876064256                                                                                                        nan...during the call, and told me that he has already started, and will rapidly expand, a full and complete investigation into this matter. Answers will be forthcoming shortly.   \n",
       "1052268011900555265                                                                                                        nanJust spoke with the Crown Prince of Saudi Arabia who totally denied any knowledge of what took place in their Turkish Consulate. He was with Secretary of State Mike Pompeo...   \n",
       "\n",
       "                     retweet_count  \n",
       "id                                  \n",
       "786204978629185536           24915  \n",
       "786201435486781440           22609  \n",
       "786189446274248704           18329  \n",
       "786054986534969344           18789  \n",
       "786007502639038464            7761  \n",
       "785979396620324865           28714  \n",
       "785957064480653313           12555  \n",
       "785947219216125952            8094  \n",
       "785913754194104320           28432  \n",
       "785910334427058177           13098  \n",
       "785904113540210688            6719  \n",
       "785898532645502980           23235  \n",
       "785890855760465920            8139  \n",
       "785885793340448769           21993  \n",
       "785863826361184257           19035  \n",
       "785854588654092290           22089  \n",
       "785846205750337537           14909  \n",
       "785842546878578688           23727  \n",
       "785842270801133568            8818  \n",
       "785828772423561216           17774  \n",
       "785816454042124288           18035  \n",
       "785654535234531329           15018  \n",
       "785608815962099712           19892  \n",
       "785563318652178432           28336  \n",
       "785561269571026946           15732  \n",
       "785559022082658305           14212  \n",
       "785530928256933888           29781  \n",
       "785527400528568320           11795  \n",
       "785323809062653952           16007  \n",
       "785314249044140036           40835  \n",
       "...                            ...  \n",
       "1052883467430694912          22550  \n",
       "1052741954918866944          23313  \n",
       "1052681628240281600          11369  \n",
       "1052653446053154816          10917  \n",
       "1052644447853453312          11911  \n",
       "1052641581650640903          22316  \n",
       "1052618395722559488           9283  \n",
       "1052615582560923648           8397  \n",
       "1052614789828993024          10559  \n",
       "1052612579099521024           8124  \n",
       "1052609907344715777           8686  \n",
       "1052608125839265792           6233  \n",
       "1052608114346926081           4438  \n",
       "1052556944068755456          16878  \n",
       "1052556222459727872          24810  \n",
       "1052539788190986240          13724  \n",
       "1052537536961306625          16543  \n",
       "1052532141941301248          13582  \n",
       "1052529703800721408          19682  \n",
       "1052527724143763456          19848  \n",
       "1052522197347119104          22105  \n",
       "1052388580734263297          13275  \n",
       "1052387851088867330          19934  \n",
       "1052369731959820292          41374  \n",
       "1052368431201341447          35310  \n",
       "1052344365442588673           8053  \n",
       "1052340597900627968           7013  \n",
       "1052270676982333442          26394  \n",
       "1052268013876064256          10024  \n",
       "1052268011900555265          13493  \n",
       "\n",
       "[10370 rows x 4 columns]"
      ]
     },
     "execution_count": 439,
     "metadata": {},
     "output_type": "execute_result"
    }
   ],
   "source": [
    "trump1=pd.DataFrame(data=all_tweets)\n",
    "trump2=trump1.loc[:,['id','created_at','source','text','full_text','retweet_count']]\n",
    "trump3=trump2.set_index('id')\n",
    "trump4=trump3.rename(index=str, columns={\"created_at\": \"time\"})\n",
    "trump4['time']=pd.to_datetime(trump4['time'])\n",
    "trump4['text']=trump4['text'].map(str)+trump4['full_text'].map(str)\n",
    "\n",
    "trump = trump4.drop(['full_text'],axis=1)\n",
    "trump.index=trump.index.astype(int)\n",
    "trump[\"time\"] = trump[\"time\"].values.astype('<M8[ns]')\n",
    "trump"
   ]
  },
  {
   "cell_type": "code",
   "execution_count": 440,
   "metadata": {
    "deletable": false,
    "editable": false
   },
   "outputs": [
    {
     "name": "stdout",
     "output_type": "stream",
     "text": [
      "~~~~~~~~~~~~~~~~~~~~~~~~~~~~~~~~~~~~~~~~~~~~~~~~~~~~~~~~~~~~~~~~~~~~~\n",
      "Running tests\n",
      "\n",
      "---------------------------------------------------------------------\n",
      "Test summary\n",
      "    Passed: 9\n",
      "    Failed: 0\n",
      "[ooooooooook] 100.0% passed\n",
      "\n"
     ]
    }
   ],
   "source": [
    "ok.grade(\"q1\");"
   ]
  },
  {
   "cell_type": "markdown",
   "metadata": {
    "nbgrader": {
     "grade": false,
     "grade_id": "question4",
     "locked": true,
     "schema_version": 2,
     "solution": false
    }
   },
   "source": [
    "---\n",
    "# Part 2: Tweet Source Analysis\n",
    "\n",
    "In the following questions, we are going to find out the charateristics of Trump tweets and the devices used for the tweets.\n",
    "\n",
    "First let's examine the source field:"
   ]
  },
  {
   "cell_type": "code",
   "execution_count": 441,
   "metadata": {
    "nbgrader": {
     "grade": false,
     "grade_id": "unique-sources",
     "locked": true,
     "schema_version": 2,
     "solution": false
    }
   },
   "outputs": [
    {
     "data": {
      "text/plain": [
       "array(['<a href=\"http://twitter.com/download/iphone\" rel=\"nofollow\">Twitter for iPhone</a>',\n",
       "       '<a href=\"http://twitter.com/download/android\" rel=\"nofollow\">Twitter for Android</a>',\n",
       "       '<a href=\"http://twitter.com\" rel=\"nofollow\">Twitter Web Client</a>',\n",
       "       '<a href=\"https://studio.twitter.com\" rel=\"nofollow\">Media Studio</a>',\n",
       "       '<a href=\"http://twitter.com/#!/download/ipad\" rel=\"nofollow\">Twitter for iPad</a>',\n",
       "       '<a href=\"http://instagram.com\" rel=\"nofollow\">Instagram</a>',\n",
       "       '<a href=\"https://mobile.twitter.com\" rel=\"nofollow\">Mobile Web (M5)</a>',\n",
       "       '<a href=\"https://ads.twitter.com\" rel=\"nofollow\">Twitter Ads</a>',\n",
       "       '<a href=\"https://periscope.tv\" rel=\"nofollow\">Periscope</a>',\n",
       "       '<a href=\"https://studio.twitter.com\" rel=\"nofollow\">Twitter Media Studio</a>'],\n",
       "      dtype=object)"
      ]
     },
     "execution_count": 441,
     "metadata": {},
     "output_type": "execute_result"
    }
   ],
   "source": [
    "trump['source'].unique()"
   ]
  },
  {
   "cell_type": "markdown",
   "metadata": {
    "deletable": false,
    "editable": false,
    "nbgrader": {
     "grade": false,
     "grade_id": "q4a",
     "locked": true,
     "schema_version": 2,
     "solution": false
    }
   },
   "source": [
    "## Question 2\n",
    "\n",
    "Notice how sources like \"Twitter for Android\" or \"Instagram\" are surrounded by HTML tags. In the cell below, clean up the `source` field by removing the HTML tags from each `source` entry.\n",
    "\n",
    "**Hints:** \n",
    "* Use `trump['source'].str.replace` along with a regular expression.\n",
    "* You may find it helpful to experiment with regular expressions at [regex101.com](https://regex101.com/).\n",
    "\n",
    "<!--\n",
    "BEGIN QUESTION\n",
    "name: q2\n",
    "points: 1\n",
    "-->"
   ]
  },
  {
   "cell_type": "code",
   "execution_count": 442,
   "metadata": {
    "nbgrader": {
     "grade": false,
     "grade_id": "q4a-answer",
     "locked": false,
     "schema_version": 2,
     "solution": true
    }
   },
   "outputs": [],
   "source": [
    "## Uncomment and complete\n",
    "trump['source']=trump['source'].str.replace(r'<[^>]*>','')"
   ]
  },
  {
   "cell_type": "code",
   "execution_count": 443,
   "metadata": {
    "deletable": false,
    "editable": false
   },
   "outputs": [
    {
     "name": "stdout",
     "output_type": "stream",
     "text": [
      "~~~~~~~~~~~~~~~~~~~~~~~~~~~~~~~~~~~~~~~~~~~~~~~~~~~~~~~~~~~~~~~~~~~~~\n",
      "Running tests\n",
      "\n",
      "---------------------------------------------------------------------\n",
      "Test summary\n",
      "    Passed: 1\n",
      "    Failed: 0\n",
      "[ooooooooook] 100.0% passed\n",
      "\n"
     ]
    }
   ],
   "source": [
    "ok.grade(\"q2\");"
   ]
  },
  {
   "cell_type": "markdown",
   "metadata": {
    "nbgrader": {
     "grade": false,
     "grade_id": "note-about-device-usage",
     "locked": true,
     "schema_version": 2,
     "solution": false
    }
   },
   "source": [
    "In the following plot, we see that there are two device types that are more commonly used than others."
   ]
  },
  {
   "cell_type": "code",
   "execution_count": 444,
   "metadata": {
    "nbgrader": {
     "grade": false,
     "grade_id": "device-usage-plot",
     "locked": true,
     "schema_version": 2,
     "solution": false
    }
   },
   "outputs": [
    {
     "data": {
      "image/png": "[encoded data removed]",
      "text/plain": [
       "<Figure size 576x432 with 1 Axes>"
      ]
     },
     "metadata": {},
     "output_type": "display_data"
    }
   ],
   "source": [
    "plt.figure(figsize=(8, 6))\n",
    "trump['source'].value_counts().plot(kind=\"bar\")\n",
    "plt.ylabel(\"Number of Tweets\")\n",
    "plt.title(\"Number of Tweets by Source\");"
   ]
  },
  {
   "cell_type": "markdown",
   "metadata": {
    "nbgrader": {
     "grade": false,
     "grade_id": "q5",
     "locked": true,
     "schema_version": 2,
     "solution": false
    }
   },
   "source": [
    "## Question 3\n",
    "\n",
    "Now that we have cleaned up the `source` field, let's now look at which device Trump has used over the entire time period of this dataset.\n",
    "\n",
    "To examine the distribution of dates we will convert the date to a fractional year that can be plotted as a distribution.\n",
    "\n",
    "(Code borrowed from https://stackoverflow.com/questions/6451655/python-how-to-convert-datetime-dates-to-decimal-years)"
   ]
  },
  {
   "cell_type": "code",
   "execution_count": 445,
   "metadata": {
    "nbgrader": {
     "grade": false,
     "grade_id": "fractional-year",
     "locked": true,
     "schema_version": 2,
     "solution": false
    }
   },
   "outputs": [],
   "source": [
    "import datetime\n",
    "def year_fraction(date):\n",
    "    start = datetime.date(date.year, 1, 1).toordinal()\n",
    "    year_length = datetime.date(date.year+1, 1, 1).toordinal() - start\n",
    "    return date.year + float(date.toordinal() - start) / year_length\n",
    "\n",
    "trump['year'] = trump['time'].apply(year_fraction)"
   ]
  },
  {
   "cell_type": "markdown",
   "metadata": {
    "deletable": false,
    "editable": false,
    "nbgrader": {
     "grade": false,
     "grade_id": "q5a",
     "locked": true,
     "schema_version": 2,
     "solution": false
    }
   },
   "source": [
    "Now, use `sns.distplot` to overlay the distributions of Trump's 2 most frequently used web technologies over the years. Your final plot should look like:\n",
    "\n",
    "<img src=\"images/source_years_q3.png\" width=\"600px\" />\n",
    "\n",
    "<!--\n",
    "BEGIN QUESTION\n",
    "name: q3\n",
    "points: 2\n",
    "manual: true\n",
    "-->\n",
    "<!-- EXPORT TO PDF -->"
   ]
  },
  {
   "cell_type": "code",
   "execution_count": 453,
   "metadata": {},
   "outputs": [
    {
     "data": {
      "image/png": "[encoded data removed]",
      "text/plain": [
       "<Figure size 1440x720 with 1 Axes>"
      ]
     },
     "metadata": {},
     "output_type": "display_data"
    }
   ],
   "source": [
    "iphone=trump[trump['source']=='Twitter for iPhone']['year']\n",
    "android=trump[trump['source']=='Twitter for Android']['year']\n",
    "sns.distplot(iphone,label='iPhone')\n",
    "sns.distplot(android,label='Android')\n",
    "plt.title('Distribution of Tweet Sources Over Years',fontsize=20)\n",
    "plt.xlabel('year',fontsize=20)\n",
    "plt.legend(prop={'size':20})\n",
    "sns.set(font_scale=2)\n"
   ]
  },
  {
   "cell_type": "markdown",
   "metadata": {
    "nbgrader": {
     "grade": false,
     "grade_id": "q4b",
     "locked": true,
     "schema_version": 2,
     "solution": false
    }
   },
   "source": [
    "## Question 4\n",
    "\n",
    "\n",
    "Is there a difference between Trump's tweet behavior across these devices? We will attempt to answer this question in our subsequent analysis.\n",
    "\n",
    "First, we'll take a look at whether Trump's tweets from an Android device come at different times than his tweets from an iPhone. Note that Twitter gives us his tweets in the [UTC timezone](https://www.wikiwand.com/en/List_of_UTC_time_offsets) (notice the `+0000` in the first few tweets)."
   ]
  },
  {
   "cell_type": "code",
   "execution_count": 454,
   "metadata": {
    "nbgrader": {
     "grade": false,
     "grade_id": "tweet-created-at",
     "locked": true,
     "schema_version": 2,
     "solution": false
    }
   },
   "outputs": [
    {
     "name": "stdout",
     "output_type": "stream",
     "text": [
      "Wed Oct 12 14:00:48 +0000 2016\n",
      "Wed Oct 12 13:46:43 +0000 2016\n",
      "Wed Oct 12 12:59:05 +0000 2016\n"
     ]
    }
   ],
   "source": [
    "for tweet in all_tweets[:3]:\n",
    "    print(tweet['created_at'])"
   ]
  },
  {
   "cell_type": "markdown",
   "metadata": {
    "nbgrader": {
     "grade": false,
     "grade_id": "convert-to-est-justification",
     "locked": true,
     "schema_version": 2,
     "solution": false
    }
   },
   "source": [
    "We'll convert the tweet times to US Eastern Time, the timezone of New York and Washington D.C., since those are the places we would expect the most tweet activity from Trump."
   ]
  },
  {
   "cell_type": "code",
   "execution_count": 455,
   "metadata": {
    "nbgrader": {
     "grade": false,
     "grade_id": "convert-to-est",
     "locked": true,
     "schema_version": 2,
     "solution": false
    }
   },
   "outputs": [
    {
     "data": {
      "text/html": [
       "<div>\n",
       "<style scoped>\n",
       "    .dataframe tbody tr th:only-of-type {\n",
       "        vertical-align: middle;\n",
       "    }\n",
       "\n",
       "    .dataframe tbody tr th {\n",
       "        vertical-align: top;\n",
       "    }\n",
       "\n",
       "    .dataframe thead th {\n",
       "        text-align: right;\n",
       "    }\n",
       "</style>\n",
       "<table border=\"1\" class=\"dataframe\">\n",
       "  <thead>\n",
       "    <tr style=\"text-align: right;\">\n",
       "      <th></th>\n",
       "      <th>time</th>\n",
       "      <th>source</th>\n",
       "      <th>text</th>\n",
       "      <th>retweet_count</th>\n",
       "      <th>year</th>\n",
       "      <th>est_time</th>\n",
       "    </tr>\n",
       "    <tr>\n",
       "      <th>id</th>\n",
       "      <th></th>\n",
       "      <th></th>\n",
       "      <th></th>\n",
       "      <th></th>\n",
       "      <th></th>\n",
       "      <th></th>\n",
       "    </tr>\n",
       "  </thead>\n",
       "  <tbody>\n",
       "    <tr>\n",
       "      <th>786204978629185536</th>\n",
       "      <td>2016-10-12 14:00:48</td>\n",
       "      <td>Twitter for iPhone</td>\n",
       "      <td>PAY TO PLAY POLITICS. \\n#CrookedHillary https://t.co/wjsl8ITVvknan</td>\n",
       "      <td>24915</td>\n",
       "      <td>2016.778689</td>\n",
       "      <td>2016-10-12 09:00:48-05:00</td>\n",
       "    </tr>\n",
       "    <tr>\n",
       "      <th>786201435486781440</th>\n",
       "      <td>2016-10-12 13:46:43</td>\n",
       "      <td>Twitter for iPhone</td>\n",
       "      <td>Very little pick-up by the dishonest media of incredible information provided by WikiLeaks. So dishonest! Rigged system!nan</td>\n",
       "      <td>22609</td>\n",
       "      <td>2016.778689</td>\n",
       "      <td>2016-10-12 08:46:43-05:00</td>\n",
       "    </tr>\n",
       "    <tr>\n",
       "      <th>786189446274248704</th>\n",
       "      <td>2016-10-12 12:59:05</td>\n",
       "      <td>Twitter for Android</td>\n",
       "      <td>Crooked Hillary Clinton likes to talk about the things she will do but she has been there for 30 years - why didn't she do them?nan</td>\n",
       "      <td>18329</td>\n",
       "      <td>2016.778689</td>\n",
       "      <td>2016-10-12 07:59:05-05:00</td>\n",
       "    </tr>\n",
       "    <tr>\n",
       "      <th>786054986534969344</th>\n",
       "      <td>2016-10-12 04:04:47</td>\n",
       "      <td>Twitter for iPhone</td>\n",
       "      <td>Thank you Florida- a MOVEMENT that has never been seen before and will never be seen again. Lets get out &amp;amp;… https://t.co/t9XM9wFDZInan</td>\n",
       "      <td>18789</td>\n",
       "      <td>2016.778689</td>\n",
       "      <td>2016-10-11 23:04:47-05:00</td>\n",
       "    </tr>\n",
       "    <tr>\n",
       "      <th>786007502639038464</th>\n",
       "      <td>2016-10-12 00:56:06</td>\n",
       "      <td>Twitter for iPhone</td>\n",
       "      <td>Join me Thursday in Florida &amp;amp; Ohio!\\nWest Palm Beach, FL at noon:\\nhttps://t.co/jwbZnQhxg9\\nCincinnati, OH this 7:30pm:\\nhttps://t.co/5w2UhalPIxnan</td>\n",
       "      <td>7761</td>\n",
       "      <td>2016.778689</td>\n",
       "      <td>2016-10-11 19:56:06-05:00</td>\n",
       "    </tr>\n",
       "  </tbody>\n",
       "</table>\n",
       "</div>"
      ],
      "text/plain": [
       "                                  time               source  \\\n",
       "id                                                            \n",
       "786204978629185536 2016-10-12 14:00:48   Twitter for iPhone   \n",
       "786201435486781440 2016-10-12 13:46:43   Twitter for iPhone   \n",
       "786189446274248704 2016-10-12 12:59:05  Twitter for Android   \n",
       "786054986534969344 2016-10-12 04:04:47   Twitter for iPhone   \n",
       "786007502639038464 2016-10-12 00:56:06   Twitter for iPhone   \n",
       "\n",
       "                                                                                                                                                                       text  \\\n",
       "id                                                                                                                                                                            \n",
       "786204978629185536                                                                                       PAY TO PLAY POLITICS. \\n#CrookedHillary https://t.co/wjsl8ITVvknan   \n",
       "786201435486781440                              Very little pick-up by the dishonest media of incredible information provided by WikiLeaks. So dishonest! Rigged system!nan   \n",
       "786189446274248704                      Crooked Hillary Clinton likes to talk about the things she will do but she has been there for 30 years - why didn't she do them?nan   \n",
       "786054986534969344               Thank you Florida- a MOVEMENT that has never been seen before and will never be seen again. Lets get out &amp;… https://t.co/t9XM9wFDZInan   \n",
       "786007502639038464  Join me Thursday in Florida &amp; Ohio!\\nWest Palm Beach, FL at noon:\\nhttps://t.co/jwbZnQhxg9\\nCincinnati, OH this 7:30pm:\\nhttps://t.co/5w2UhalPIxnan   \n",
       "\n",
       "                    retweet_count         year                  est_time  \n",
       "id                                                                        \n",
       "786204978629185536          24915  2016.778689 2016-10-12 09:00:48-05:00  \n",
       "786201435486781440          22609  2016.778689 2016-10-12 08:46:43-05:00  \n",
       "786189446274248704          18329  2016.778689 2016-10-12 07:59:05-05:00  \n",
       "786054986534969344          18789  2016.778689 2016-10-11 23:04:47-05:00  \n",
       "786007502639038464           7761  2016.778689 2016-10-11 19:56:06-05:00  "
      ]
     },
     "execution_count": 455,
     "metadata": {},
     "output_type": "execute_result"
    }
   ],
   "source": [
    "trump['est_time'] = (\n",
    "    trump['time'].dt.tz_localize(\"UTC\") # Set initial timezone to UTC\n",
    "                 .dt.tz_convert(\"EST\") # Convert to Eastern Time\n",
    ")\n",
    "trump.head()"
   ]
  },
  {
   "cell_type": "markdown",
   "metadata": {
    "deletable": false,
    "editable": false,
    "nbgrader": {
     "grade": false,
     "grade_id": "need-to-do",
     "locked": true,
     "schema_version": 2,
     "solution": false
    }
   },
   "source": [
    "### Question 4a\n",
    "\n",
    "Add a column called `hour` to the `trump` table which contains the hour of the day as floating point number computed by:\n",
    "\n",
    "$$\n",
    "\\text{hour} + \\frac{\\text{minute}}{60} + \\frac{\\text{second}}{60^2}\n",
    "$$\n",
    "\n",
    "* **Hint:** See the cell above for an example of working with [dt accessors](https://pandas.pydata.org/pandas-docs/stable/getting_started/basics.html#basics-dt-accessors).\n",
    "\n",
    "<!--\n",
    "BEGIN QUESTION\n",
    "name: q4a\n",
    "points: 1\n",
    "-->"
   ]
  },
  {
   "cell_type": "code",
   "execution_count": 456,
   "metadata": {
    "nbgrader": {
     "grade": false,
     "grade_id": "q4b-answer",
     "locked": false,
     "schema_version": 2,
     "solution": true
    },
    "tags": [
     "student"
    ]
   },
   "outputs": [],
   "source": [
    "hour=trump['est_time'].dt.hour\n",
    "minute=trump['est_time'].dt.minute\n",
    "second=trump['est_time'].dt.second\n",
    "trump['hour'] = hour + minute/60 + second/(60**2)"
   ]
  },
  {
   "cell_type": "code",
   "execution_count": 457,
   "metadata": {
    "deletable": false,
    "editable": false
   },
   "outputs": [
    {
     "name": "stdout",
     "output_type": "stream",
     "text": [
      "~~~~~~~~~~~~~~~~~~~~~~~~~~~~~~~~~~~~~~~~~~~~~~~~~~~~~~~~~~~~~~~~~~~~~\n",
      "Running tests\n",
      "\n",
      "---------------------------------------------------------------------\n",
      "Test summary\n",
      "    Passed: 1\n",
      "    Failed: 0\n",
      "[ooooooooook] 100.0% passed\n",
      "\n"
     ]
    }
   ],
   "source": [
    "ok.grade(\"q4a\");"
   ]
  },
  {
   "cell_type": "markdown",
   "metadata": {
    "deletable": false,
    "editable": false,
    "nbgrader": {
     "grade": false,
     "grade_id": "q4c",
     "locked": true,
     "schema_version": 2,
     "solution": false
    }
   },
   "source": [
    "### Question 4b\n",
    "\n",
    "Use this data along with the seaborn `distplot` function to examine the distribution over hours of the day in eastern time that trump tweets on each device for the 2 most commonly used devices.  Your plot should look similar to the following:\n",
    "\n",
    "<img src=\"images/device_hour4b.png\" width=\"600px\" />\n",
    "\n",
    "<!--\n",
    "BEGIN QUESTION\n",
    "name: q4b\n",
    "points: 2\n",
    "manual: true\n",
    "-->\n",
    "<!-- EXPORT TO PDF -->"
   ]
  },
  {
   "cell_type": "code",
   "execution_count": 458,
   "metadata": {
    "nbgrader": {
     "grade": true,
     "grade_id": "q4c-answer",
     "locked": false,
     "points": 2,
     "schema_version": 2,
     "solution": true
    }
   },
   "outputs": [
    {
     "data": {
      "image/png": "[encoded data removed]",
      "text/plain": [
       "<Figure size 1440x720 with 1 Axes>"
      ]
     },
     "metadata": {},
     "output_type": "display_data"
    }
   ],
   "source": [
    "### make your plot here\n",
    "iphone_hour = trump[trump['source']=='Twitter for iPhone']['est_time'].dt.hour\n",
    "android_hour = trump[trump['source']=='Twitter for Android']['est_time'].dt.hour\n",
    "sns.distplot(iphone_hour,hist=False,label='iPhone')\n",
    "sns.distplot(android_hour,hist=False,label='Android')\n",
    "plt.xlabel('hour')\n",
    "plt.ylabel('fraction')\n",
    "plt.title('Distribution of Tweet Hours for Different Tweet Souces')\n",
    "sns.set(font_scale=2)\n"
   ]
  },
  {
   "cell_type": "markdown",
   "metadata": {
    "deletable": false,
    "editable": false,
    "nbgrader": {
     "grade": false,
     "grade_id": "q4d",
     "locked": true,
     "schema_version": 2,
     "solution": false
    }
   },
   "source": [
    "### Question 4c\n",
    "\n",
    "According to [this Verge article](https://www.theverge.com/2017/3/29/15103504/donald-trump-iphone-using-switched-android), Donald Trump switched from an Android to an iPhone sometime in March 2017.\n",
    "\n",
    "Let's see if this information significantly changes our plot. Create a figure similar to your figure from question 4b, but this time, only use tweets that were tweeted before 2017. Your plot should look similar to the following:\n",
    "\n",
    "<img src=\"images/device_hour4c.png\" width=\"600px\" />\n",
    "\n",
    "<!--\n",
    "BEGIN QUESTION\n",
    "name: q4c\n",
    "points: 2\n",
    "manual: true\n",
    "-->\n",
    "<!-- EXPORT TO PDF -->"
   ]
  },
  {
   "cell_type": "code",
   "execution_count": 460,
   "metadata": {
    "nbgrader": {
     "grade": true,
     "grade_id": "cell-9d60149ec24272e3",
     "locked": false,
     "points": 0,
     "schema_version": 2,
     "solution": true
    }
   },
   "outputs": [
    {
     "data": {
      "image/png": "[encoded data removed]",
      "text/plain": [
       "<Figure size 1440x720 with 1 Axes>"
      ]
     },
     "metadata": {},
     "output_type": "display_data"
    }
   ],
   "source": [
    "### make your plot here\n",
    "bf2017_trump=trump[trump['year']<2017]\n",
    "iphone_hour_bf2017 = bf2017_trump[bf2017_trump['source']=='Twitter for iPhone']['est_time'].dt.hour\n",
    "android_hour_bf2017 = bf2017_trump[bf2017_trump['source']=='Twitter for Android']['est_time'].dt.hour\n",
    "sns.distplot(iphone_hour_bf2017,hist=False,label='iPhone')\n",
    "sns.distplot(android_hour_bf2017,hist=False,label='Android')\n",
    "plt.xlabel('hour')\n",
    "plt.ylabel('fraction')\n",
    "plt.title('Distribution of Tweet Hours for Different Tweet Souces (pre-2017)')\n",
    "plt.legend(prop={'size':20})\n",
    "sns.set(font_scale=2)\n"
   ]
  },
  {
   "cell_type": "markdown",
   "metadata": {
    "deletable": false,
    "editable": false
   },
   "source": [
    "### Question 4d\n",
    "\n",
    "During the campaign, it was theorized that Donald Trump's tweets from Android devices were written by him personally, and the tweets from iPhones were from his staff. Does your figure give support to this theory? What kinds of additional analysis could help support or reject this claim?\n",
    "\n",
    "<!--\n",
    "BEGIN QUESTION\n",
    "name: q4d\n",
    "points: 1\n",
    "manual: true\n",
    "-->\n",
    "<!-- EXPORT TO PDF -->"
   ]
  },
  {
   "cell_type": "markdown",
   "metadata": {
    "nbgrader": {
     "grade": true,
     "grade_id": "q4d-answer",
     "locked": false,
     "points": 1,
     "schema_version": 2,
     "solution": true
    },
    "tags": [
     "student",
     "written"
    ]
   },
   "source": [
    "I think the information from the figure <Distribution of Tweet Sources Over Years> and <Distribution of Tweet Hours for Different Tweet Souces (pre-2017)> can't support to this theory.<br><br>\n",
    "Here are the information we can get from the two figures:<br><br>\n",
    "1)Trump had tweets from both iPhone and Android before 2017, and the total time spending on Android was far more than the time on iPhone, which can tell that Trump usually wrote tweets on Android personally.<br><br>\n",
    "2)Trump stopped using Android after 2017. Then the total time spending on iPhone increased, which could conclude that Trump shifted his tweets from Android to iPhone after that, however, it was still much lower than the time spending on Android before. <br><br>\n",
    "3)Before 2017, he tweeted more on Android from 0~10, and he tweeted more on iPhone from 10~22, however, but this could only tell that he used his two phones at different times, but could not tell that his staff used his iPhone for tweeting.<br><br>\n",
    "Additional analysis on the number of days that Donald Trump used his iPhone and Android to tweet at the same time during the day will be helpful to find how many tweets from iPhones were posted at the same time as the tweets from Android during a day. If the result of that is big enough, it might help reject this claim."
   ]
  },
  {
   "cell_type": "markdown",
   "metadata": {
    "nbgrader": {
     "grade": false,
     "grade_id": "q6-header",
     "locked": true,
     "schema_version": 2,
     "solution": false
    }
   },
   "source": [
    "---\n",
    "# Part 3: Sentiment Analysis\n",
    "\n",
    "It turns out that we can use the words in Trump's tweets to calculate a measure of the sentiment of the tweet. For example, the sentence \"I love America!\" has positive sentiment, whereas the sentence \"I hate taxes!\" has a negative sentiment. In addition, some words have stronger positive / negative sentiment than others: \"I love America.\" is more positive than \"I like America.\"\n",
    "\n",
    "We will use the [VADER (Valence Aware Dictionary and sEntiment Reasoner)](https://github.com/cjhutto/vaderSentiment) lexicon to analyze the sentiment of Trump's tweets. VADER is a lexicon and rule-based sentiment analysis tool that is specifically attuned to sentiments expressed in social media which is great for our usage.\n",
    "\n",
    "The VADER lexicon gives the sentiment of individual words. Run the following cell to show the first few rows of the lexicon:"
   ]
  },
  {
   "cell_type": "code",
   "execution_count": 461,
   "metadata": {
    "nbgrader": {
     "grade": false,
     "grade_id": "head-vader",
     "locked": true,
     "schema_version": 2,
     "solution": false
    }
   },
   "outputs": [
    {
     "name": "stdout",
     "output_type": "stream",
     "text": [
      "$:\t-1.5\t0.80623\t[-1, -1, -1, -1, -3, -1, -3, -1, -2, -1]\n",
      "%)\t-0.4\t1.0198\t[-1, 0, -1, 0, 0, -2, -1, 2, -1, 0]\n",
      "%-)\t-1.5\t1.43178\t[-2, 0, -2, -2, -1, 2, -2, -3, -2, -3]\n",
      "&-:\t-0.4\t1.42829\t[-3, -1, 0, 0, -1, -1, -1, 2, -1, 2]\n",
      "&:\t-0.7\t0.64031\t[0, -1, -1, -1, 1, -1, -1, -1, -1, -1]\n",
      "( '}{' )\t1.6\t0.66332\t[1, 2, 2, 1, 1, 2, 2, 1, 3, 1]\n",
      "(%\t-0.9\t0.9434\t[0, 0, 1, -1, -1, -1, -2, -2, -1, -2]\n",
      "('-:\t2.2\t1.16619\t[4, 1, 4, 3, 1, 2, 3, 1, 2, 1]\n",
      "(':\t2.3\t0.9\t[1, 3, 3, 2, 2, 4, 2, 3, 1, 2]\n",
      "((-:\t2.1\t0.53852\t[2, 2, 2, 1, 2, 3, 2, 2, 3, 2]\n",
      "\n"
     ]
    }
   ],
   "source": [
    "print(''.join(open(\"vader_lexicon.txt\").readlines()[:10]))"
   ]
  },
  {
   "cell_type": "markdown",
   "metadata": {
    "deletable": false,
    "editable": false,
    "nbgrader": {
     "grade": false,
     "grade_id": "q6a-header",
     "locked": true,
     "schema_version": 2,
     "solution": false
    }
   },
   "source": [
    "## Question 5\n",
    "\n",
    "As you can see, the lexicon contains emojis too! Each row contains a word and the *polarity* of that word, measuring how positive or negative the word is.\n",
    "\n",
    "(How did they decide the polarities of these words? What are the other two columns in the lexicon? See the link above.)\n",
    "\n",
    "### Question 5a\n",
    "\n",
    "Read in the lexicon into a DataFrame called `sent`. The index of the DataFrame should be the words in the lexicon. `sent` should have one column named `polarity`, storing the polarity of each word.\n",
    "\n",
    "* **Hint:** The `pd.read_csv` function may help here. \n",
    "\n",
    "<!--\n",
    "BEGIN QUESTION\n",
    "name: q5a\n",
    "points: 1\n",
    "-->"
   ]
  },
  {
   "cell_type": "code",
   "execution_count": 462,
   "metadata": {
    "nbgrader": {
     "grade": false,
     "grade_id": "q6a1",
     "locked": false,
     "schema_version": 2,
     "solution": true
    },
    "tags": [
     "student"
    ]
   },
   "outputs": [
    {
     "data": {
      "text/html": [
       "<div>\n",
       "<style scoped>\n",
       "    .dataframe tbody tr th:only-of-type {\n",
       "        vertical-align: middle;\n",
       "    }\n",
       "\n",
       "    .dataframe tbody tr th {\n",
       "        vertical-align: top;\n",
       "    }\n",
       "\n",
       "    .dataframe thead th {\n",
       "        text-align: right;\n",
       "    }\n",
       "</style>\n",
       "<table border=\"1\" class=\"dataframe\">\n",
       "  <thead>\n",
       "    <tr style=\"text-align: right;\">\n",
       "      <th></th>\n",
       "      <th>polarity</th>\n",
       "    </tr>\n",
       "    <tr>\n",
       "      <th>token</th>\n",
       "      <th></th>\n",
       "    </tr>\n",
       "  </thead>\n",
       "  <tbody>\n",
       "    <tr>\n",
       "      <th>$:</th>\n",
       "      <td>-1.5</td>\n",
       "    </tr>\n",
       "    <tr>\n",
       "      <th>%)</th>\n",
       "      <td>-0.4</td>\n",
       "    </tr>\n",
       "    <tr>\n",
       "      <th>%-)</th>\n",
       "      <td>-1.5</td>\n",
       "    </tr>\n",
       "    <tr>\n",
       "      <th>&amp;-:</th>\n",
       "      <td>-0.4</td>\n",
       "    </tr>\n",
       "    <tr>\n",
       "      <th>&amp;:</th>\n",
       "      <td>-0.7</td>\n",
       "    </tr>\n",
       "  </tbody>\n",
       "</table>\n",
       "</div>"
      ],
      "text/plain": [
       "       polarity\n",
       "token          \n",
       "$:         -1.5\n",
       "%)         -0.4\n",
       "%-)        -1.5\n",
       "&-:        -0.4\n",
       "&:         -0.7"
      ]
     },
     "execution_count": 462,
     "metadata": {},
     "output_type": "execute_result"
    }
   ],
   "source": [
    "sent = pd.read_csv('vader_lexicon.txt', sep ='\\t', usecols=[0, 1], index_col=[0], header = None, names =['token','polarity'])\n",
    "\n",
    "sent.head()"
   ]
  },
  {
   "cell_type": "code",
   "execution_count": 463,
   "metadata": {
    "deletable": false,
    "editable": false
   },
   "outputs": [
    {
     "name": "stdout",
     "output_type": "stream",
     "text": [
      "~~~~~~~~~~~~~~~~~~~~~~~~~~~~~~~~~~~~~~~~~~~~~~~~~~~~~~~~~~~~~~~~~~~~~\n",
      "Running tests\n",
      "\n",
      "---------------------------------------------------------------------\n",
      "Test summary\n",
      "    Passed: 4\n",
      "    Failed: 0\n",
      "[ooooooooook] 100.0% passed\n",
      "\n"
     ]
    }
   ],
   "source": [
    "ok.grade(\"q5a\");"
   ]
  },
  {
   "cell_type": "markdown",
   "metadata": {
    "deletable": false,
    "editable": false,
    "nbgrader": {
     "grade": false,
     "grade_id": "q6b-header",
     "locked": true,
     "schema_version": 2,
     "solution": false
    }
   },
   "source": [
    "### Question 5b\n",
    "\n",
    "Now, let's use this lexicon to calculate the overall sentiment for each of Trump's tweets. Here's the basic idea:\n",
    "\n",
    "1. For each tweet, find the sentiment of each word.\n",
    "2. Calculate the sentiment of each tweet by taking the sum of the sentiments of its words.\n",
    "\n",
    "First, let's lowercase the text in the tweets since the lexicon is also lowercase. Set the `text` column of the `trump` DataFrame to be the lowercased text of each tweet.\n",
    "\n",
    "<!--\n",
    "BEGIN QUESTION\n",
    "name: q5b\n",
    "points: 1\n",
    "-->"
   ]
  },
  {
   "cell_type": "code",
   "execution_count": 464,
   "metadata": {
    "nbgrader": {
     "grade": false,
     "grade_id": "q6b-answer",
     "locked": false,
     "schema_version": 2,
     "solution": true
    },
    "tags": [
     "student"
    ]
   },
   "outputs": [
    {
     "data": {
      "text/html": [
       "<div>\n",
       "<style scoped>\n",
       "    .dataframe tbody tr th:only-of-type {\n",
       "        vertical-align: middle;\n",
       "    }\n",
       "\n",
       "    .dataframe tbody tr th {\n",
       "        vertical-align: top;\n",
       "    }\n",
       "\n",
       "    .dataframe thead th {\n",
       "        text-align: right;\n",
       "    }\n",
       "</style>\n",
       "<table border=\"1\" class=\"dataframe\">\n",
       "  <thead>\n",
       "    <tr style=\"text-align: right;\">\n",
       "      <th></th>\n",
       "      <th>time</th>\n",
       "      <th>source</th>\n",
       "      <th>text</th>\n",
       "      <th>retweet_count</th>\n",
       "      <th>year</th>\n",
       "      <th>est_time</th>\n",
       "      <th>hour</th>\n",
       "    </tr>\n",
       "    <tr>\n",
       "      <th>id</th>\n",
       "      <th></th>\n",
       "      <th></th>\n",
       "      <th></th>\n",
       "      <th></th>\n",
       "      <th></th>\n",
       "      <th></th>\n",
       "      <th></th>\n",
       "    </tr>\n",
       "  </thead>\n",
       "  <tbody>\n",
       "    <tr>\n",
       "      <th>786204978629185536</th>\n",
       "      <td>2016-10-12 14:00:48</td>\n",
       "      <td>Twitter for iPhone</td>\n",
       "      <td>pay to play politics. \\n#crookedhillary https://t.co/wjsl8itvvk</td>\n",
       "      <td>24915</td>\n",
       "      <td>2016.778689</td>\n",
       "      <td>2016-10-12 09:00:48-05:00</td>\n",
       "      <td>9.013333</td>\n",
       "    </tr>\n",
       "    <tr>\n",
       "      <th>786201435486781440</th>\n",
       "      <td>2016-10-12 13:46:43</td>\n",
       "      <td>Twitter for iPhone</td>\n",
       "      <td>very little pick-up by the dishonest media of incredible information provided by wikileaks. so dishonest! rigged system!</td>\n",
       "      <td>22609</td>\n",
       "      <td>2016.778689</td>\n",
       "      <td>2016-10-12 08:46:43-05:00</td>\n",
       "      <td>8.778611</td>\n",
       "    </tr>\n",
       "    <tr>\n",
       "      <th>786189446274248704</th>\n",
       "      <td>2016-10-12 12:59:05</td>\n",
       "      <td>Twitter for Android</td>\n",
       "      <td>crooked hillary clinton likes to talk about the things she will do but she has been there for 30 years - why didn't she do them?</td>\n",
       "      <td>18329</td>\n",
       "      <td>2016.778689</td>\n",
       "      <td>2016-10-12 07:59:05-05:00</td>\n",
       "      <td>7.984722</td>\n",
       "    </tr>\n",
       "    <tr>\n",
       "      <th>786054986534969344</th>\n",
       "      <td>2016-10-12 04:04:47</td>\n",
       "      <td>Twitter for iPhone</td>\n",
       "      <td>thank you florida- a movement that has never been seen before and will never be seen again. lets get out &amp;amp;… https://t.co/t9xm9wfdzi</td>\n",
       "      <td>18789</td>\n",
       "      <td>2016.778689</td>\n",
       "      <td>2016-10-11 23:04:47-05:00</td>\n",
       "      <td>23.079722</td>\n",
       "    </tr>\n",
       "    <tr>\n",
       "      <th>786007502639038464</th>\n",
       "      <td>2016-10-12 00:56:06</td>\n",
       "      <td>Twitter for iPhone</td>\n",
       "      <td>join me thursday in florida &amp;amp; ohio!\\nwest palm beach, fl at noon:\\nhttps://t.co/jwbznqhxg9\\ncincinnati, oh this 7:30pm:\\nhttps://t.co/5w2uhalpix</td>\n",
       "      <td>7761</td>\n",
       "      <td>2016.778689</td>\n",
       "      <td>2016-10-11 19:56:06-05:00</td>\n",
       "      <td>19.935000</td>\n",
       "    </tr>\n",
       "  </tbody>\n",
       "</table>\n",
       "</div>"
      ],
      "text/plain": [
       "                                  time               source  \\\n",
       "id                                                            \n",
       "786204978629185536 2016-10-12 14:00:48   Twitter for iPhone   \n",
       "786201435486781440 2016-10-12 13:46:43   Twitter for iPhone   \n",
       "786189446274248704 2016-10-12 12:59:05  Twitter for Android   \n",
       "786054986534969344 2016-10-12 04:04:47   Twitter for iPhone   \n",
       "786007502639038464 2016-10-12 00:56:06   Twitter for iPhone   \n",
       "\n",
       "                                                                                                                                                                    text  \\\n",
       "id                                                                                                                                                                         \n",
       "786204978629185536                                                                                       pay to play politics. \\n#crookedhillary https://t.co/wjsl8itvvk   \n",
       "786201435486781440                              very little pick-up by the dishonest media of incredible information provided by wikileaks. so dishonest! rigged system!   \n",
       "786189446274248704                      crooked hillary clinton likes to talk about the things she will do but she has been there for 30 years - why didn't she do them?   \n",
       "786054986534969344               thank you florida- a movement that has never been seen before and will never be seen again. lets get out &amp;… https://t.co/t9xm9wfdzi   \n",
       "786007502639038464  join me thursday in florida &amp; ohio!\\nwest palm beach, fl at noon:\\nhttps://t.co/jwbznqhxg9\\ncincinnati, oh this 7:30pm:\\nhttps://t.co/5w2uhalpix   \n",
       "\n",
       "                    retweet_count         year                  est_time  \\\n",
       "id                                                                         \n",
       "786204978629185536          24915  2016.778689 2016-10-12 09:00:48-05:00   \n",
       "786201435486781440          22609  2016.778689 2016-10-12 08:46:43-05:00   \n",
       "786189446274248704          18329  2016.778689 2016-10-12 07:59:05-05:00   \n",
       "786054986534969344          18789  2016.778689 2016-10-11 23:04:47-05:00   \n",
       "786007502639038464           7761  2016.778689 2016-10-11 19:56:06-05:00   \n",
       "\n",
       "                         hour  \n",
       "id                             \n",
       "786204978629185536   9.013333  \n",
       "786201435486781440   8.778611  \n",
       "786189446274248704   7.984722  \n",
       "786054986534969344  23.079722  \n",
       "786007502639038464  19.935000  "
      ]
     },
     "execution_count": 464,
     "metadata": {},
     "output_type": "execute_result"
    }
   ],
   "source": [
    "trump['text']=trump['text'].str.replace(r'nan','')\n",
    "trump['text']=trump['text'].str.lower()\n",
    "trump.head()"
   ]
  },
  {
   "cell_type": "code",
   "execution_count": 465,
   "metadata": {
    "deletable": false,
    "editable": false
   },
   "outputs": [
    {
     "name": "stdout",
     "output_type": "stream",
     "text": [
      "~~~~~~~~~~~~~~~~~~~~~~~~~~~~~~~~~~~~~~~~~~~~~~~~~~~~~~~~~~~~~~~~~~~~~\n",
      "Running tests\n",
      "\n",
      "---------------------------------------------------------------------\n",
      "Test summary\n",
      "    Passed: 1\n",
      "    Failed: 0\n",
      "[ooooooooook] 100.0% passed\n",
      "\n"
     ]
    }
   ],
   "source": [
    "ok.grade(\"q5b\");"
   ]
  },
  {
   "cell_type": "markdown",
   "metadata": {
    "deletable": false,
    "editable": false,
    "nbgrader": {
     "grade": false,
     "grade_id": "q6c-header",
     "locked": true,
     "schema_version": 2,
     "solution": false
    }
   },
   "source": [
    "### Question 5c\n",
    "\n",
    "Now, let's get rid of punctuation since it will cause us to fail to match words. Create a new column called `no_punc` in the `trump` DataFrame to be the lowercased text of each tweet with all punctuation replaced by a single space. We consider punctuation characters to be *any character that isn't a Unicode word character or a whitespace character*. You may want to consult the Python documentation on regexes for this problem.\n",
    "\n",
    "(Why don't we simply remove punctuation instead of replacing with a space? See if you can figure this out by looking at the tweet data.)\n",
    "\n",
    "<!--\n",
    "BEGIN QUESTION\n",
    "name: q5c\n",
    "points: 1\n",
    "-->"
   ]
  },
  {
   "cell_type": "code",
   "execution_count": 466,
   "metadata": {
    "nbgrader": {
     "grade": false,
     "grade_id": "q6c",
     "locked": false,
     "schema_version": 2,
     "solution": true
    },
    "tags": [
     "student"
    ]
   },
   "outputs": [
    {
     "data": {
      "text/plain": [
       "id\n",
       "786204978629185536                                                                                                                                                                                                                             pay to play politics  \\n crookedhillary https   t co wjsl8itvvk\n",
       "786201435486781440                                                                                                                                                                    very little pick up by the dishonest media of incredible information provided by wikileaks  so dishonest  rigged system \n",
       "786189446274248704                                                                                                                                                            crooked hillary clinton likes to talk about the things she will do but she has been there for 30 years   why didn t she do them \n",
       "786054986534969344                                                                                                                                                     thank you florida  a movement that has never been seen before and will never be seen again  lets get out  amp   https   t co t9xm9wfdzi\n",
       "786007502639038464                                                                                                                                        join me thursday in florida  amp  ohio \\nwest palm beach  fl at noon \\nhttps   t co jwbznqhxg9\\ncincinnati  oh this 7 30pm \\nhttps   t co 5w2uhalpix\n",
       "785979396620324865                                                                                                                                              wow   cnn town hall questions were given to crooked hillary clinton in advance of big debates against bernie sanders  hillary  amp  cnn fraud \n",
       "785957064480653313                                                                                                                                            thank you texas  if you haven t registered to vote  today is your last day  go to  https   t co hfihpea3sp  amp  get ou  https   t co gxbdrd4x2k\n",
       "785947219216125952                                                                                                                                                                voter registration deadlines today  you can register now at  https   t co hfihpea3sp and get out to  https   t co llfdf0drx4\n",
       "785913754194104320                                                                                                                                                                                                                                        don t let her fool us again  https   t co 3qsoadfh7s\n",
       "785910334427058177                                                                                                                                                          crooked s state dept gave special attention to  friends of bill  after the haiti earthquake  unbelievable  https   t co opp2l8ln0j\n",
       "785904113540210688                                                                                                                                              rt  donaldjtrumpjr  13 states have voter registration deadlines today  fl  oh  pa  mi  ga  tx  nm  in  la  tn  ar  ky  sc \\n\\nregister  https \n",
       "785898532645502980                                                                                                                                                                      i hope people are looking at the disgraceful behavior of hillary clinton as exposed by wikileaks  she is unfit to run \n",
       "785890855760465920                                                                                                                                                                                                                                        in texas now  leaving soon for big rally in florida \n",
       "785885793340448769                                                                                                                                                the very foul mouthed sen  john mccain begged for my support during his  primary  i gave  he won   then dropped me over locker room remarks \n",
       "785863826361184257                                                                                                                                                                                                                                                  wow  unbelievable  https   t co rcbpccmwnd\n",
       "785854588654092290                                                                                                                                                  disloyal r s are far more difficult than crooked hillary  they come at you from all sides  they don t know how to win   i will teach them \n",
       "785846205750337537                                                                                                                                                   with the exception of cheating bernie out of the nom the dems have always proven to be far more loyal to each other than the republicans \n",
       "785842546878578688                                                                                                                                                                                   it is so nice that the shackles have been taken off me and i can now fight for america the way i want to \n",
       "785842270801133568                                                                                                                                              rt  erictrump  13 states have voter registration deadlines today  fl  oh  pa  mi  ga  tx  nm  in  la  tn  ar  ky  sc \\n\\nregister  https   t  \n",
       "785828772423561216                                                                                                                                                                   our very weak and ineffective leader  paul ryan  had a bad conference call where his members went wild at his disloyalty \n",
       "785816454042124288                                                                                                                                                           despite winning the second debate in a landslide  every poll   it is hard to do well when paul ryan and others give zero support \n",
       "785654535234531329                                                                                                                                                 thank you pennsylvania  this is a movement like we have never seen before   votetrumppence16 on 11 8 16  together   https   t co x0197jl5ru\n",
       "785608815962099712                                                                                                                                                                                                                                   is this really america  terrible  https   t co wiwc61pifu\n",
       "785563318652178432                                                                                                                                                        wow   cnn got caught fixing their  focus group  in order to make crooked hillary look better  really pathetic and totally dishonest \n",
       "785561269571026946                                                                                                                                                                                                           debate polls look great   thank you \\n maga  americafirst https   t co 4peq3sswdz\n",
       "785559022082658305                                                                                                                                                                        cnn is the worst   fortunately they have bad ratings because everyone knows they are biased  https   t co ofrfny2ruy\n",
       "785530928256933888                                                                                                                                                paul ryan should spend more time on balancing the budget  jobs and illegal immigration and not waste his time on fighting republican nominee\n",
       "785527400528568320                                                                                                                                                                                                            thank you for all of the great comments on the debate last night  very exciting \n",
       "785323809062653952                                                                                                                                                                                   thank you st  louis  missouri \\n makeamericagreatagain  \\nhttps   t co 2llbltf0me https   t co wbmvxf1a9d\n",
       "785314249044140036                                                                                                                                                                      rt  mike_pence  congrats to my running mate  realdonaldtrump on a big debate win  proud to stand with you as we  maga \n",
       "                                                                                                                                                                ...                                                                                                                                           \n",
       "1052883467430694912    i am watching the democrat party led  because they want open borders and existing weak laws  assault on our country by guatemala  honduras and el salvador  whose leaders are doing little to stop this large flow of people  including many criminals  from entering mexico to u s ...\n",
       "1052741954918866944    ever since his vicious and totally false statements about admiral ron jackson  the highly respected white house doctor for obama  bush  amp  me  senator john tester looks to be in big trouble in the great state of montana  he behaved worse than the democrat mob did with justi...\n",
       "1052681628240281600                                                                                                  this afternoon  it was my great honor to present  usmc sergeant major john canley the medal of honor in the east room of the  whitehouse  https   t co ei1dd4akc9 https   t co 6jjm1srcq9\n",
       "1052653446053154816                                                                                                                                                 rt  usmc  live from the white house  sgt  maj  john canley becomes the 300th marine to receive the medal of honor  https   t co sd93rrqaoz\n",
       "1052644447853453312                congressman neal dunn   dunncampaign  of florida has done an outstanding job at everything having to do with  maga  now working hard on hurricane relief and rebuild  strong on crime  strong on borders  loves our military and our vets  neal has my highest endorsement \n",
       "1052641581650640903                college educated women want safety  security and healthcare protections   very much along with ficial and economic health for themselves and our country  i supply all of this far better than any democrat  for decades  actually   that s why they will be voting for me \n",
       "1052618395722559488                                                                                                                                                                                                                                                                    https   t co mnkdygu5sr\n",
       "1052615582560923648                                                                                                                                                                                                                                                                    https   t co madlgnhese\n",
       "1052614789828993024                                                                                                                                                                                                                                                                    https   t co cmxxw2fedq\n",
       "1052612579099521024                                                                                                                                                                                                                                                                    https   t co afqhydsmb5\n",
       "1052609907344715777                                                                                                     president donald j  trump is following through on his promise to cut burdensome red tape and unleash the american economy \\nread more  https   t co srbaqzpq4e https   t co zf8fesw3in\n",
       "1052608125839265792                                                                                                                                           rt  gop  you can cast your ballot before election day in \\n  ks\\n  nc\\n  tn\\nget out and vote    https   t co yio9a13uio https   t co bxkcmapisn\n",
       "1052608114346926081                                                                                                                                              rt  gop  today is the last day to register to vote in massachusetts and wisconsin \\nregister today    https   t co czsncaaomd https   t co 3 \n",
       "1052556944068755456                                                                                                                                                                          republicans must make the horrendous  weak and outdated immigration laws  and the border  a part of the midterms \n",
       "1052556222459727872      hard to believe that with thousands of people from south of the border  walking unimpeded toward our country in the form of large caravans  that the democrats won t approve legislation that will allow laws for the protection of our country  great midterm issue for republicans \n",
       "1052539788190986240                                                                                                                                                                                             network news gave zero coverage to the big day the stock market had yesterday    foxandfriends\n",
       "1052537536961306625                                                                                                                                                                                                                        august job openings hit a record 7 14 million  congratulations usa \n",
       "1052532141941301248                                                                                                                                                                         ap headline was very different from my quote and meaning in the story  they just can t help themselves  fake news \n",
       "1052529703800721408     ted cruz has done so much for texas  including massive cuts in taxes and regulations   which has brought texas to the best jobs numbers in the history of the state  he watches carefully over your 2nd amendment  o rourke would blow it all  ted has long had my strong endorsement \n",
       "1052527724143763456    watched the debate last night  amp  beto o rourke  who wants higher taxes and far more regulations  is not in the same league with ted cruz  amp  what the great people of texas stand for  amp  want  ted is strong on crime  border  amp  2nd a  loves our military  vets  low tax...\n",
       "1052522197347119104     trump could be the most honest president in modern history  when you look at the real barometer of presidential truthfulness  which is promise keeping  he is probably the most honest president in american history  he s done exactly what he said he would do   marc thiessen  w...\n",
       "1052388580734263297                                                                                                                                                                                                                                stock market up 548 points today  also  great jobs numbers \n",
       "1052387851088867330                                                                                                                                                     elizabeth warren is being hammered  even by the left  her false claim of indian heritage is only selling to very low i q  individuals \n",
       "1052369731959820292                                                                                                                                                                     anybody entering the united states illegally will be arrested and detained  prior to being sent back to their country \n",
       "1052368431201341447    we have today informed the countries of honduras  guatemala and el salvador that if they allow their citizens  or others  to journey through their borders and up to the united states  with the intention of entering our country illegally  all payments made to them will stop  e...\n",
       "1052344365442588673                                                                                                                                                                                i will be interviewed tonight by trish regan on  foxbusiness at 8 00 p m   right after the great lou dobbs \n",
       "1052340597900627968                                                                                                                                               rt  foxbusiness  tonight   potus talks 2020 election in an exclusive interview with  trish_regan  don t miss the full interview on  trish r \n",
       "1052270676982333442                   wow  john james is making headway in michigan  we are bringing jobs back to the state  and the people of michigan appreciate it  debbie stabenow has been no help  if anything  a major hindrance  john james is a star  i hope the voters see it  polls are tightening \n",
       "1052268013876064256                                                                                                                during the call  and told me that he has already started  and will rapidly expand  a full and complete investigation into this matter  answers will be forthcoming shortly \n",
       "1052268011900555265                                                                                                             just spoke with the crown prince of saudi arabia who totally denied any knowledge of what took place in their turkish consulate  he was with secretary of state mike pompeo   \n",
       "Name: no_punc, Length: 10370, dtype: object"
      ]
     },
     "execution_count": 466,
     "metadata": {},
     "output_type": "execute_result"
    }
   ],
   "source": [
    "# Save your regex in punct_re\n",
    "punct_re = r'[^\\w\\s]'\n",
    "trump['no_punc'] = trump['text'].str.replace(punct_re,' ')\n",
    "trump['no_punc']"
   ]
  },
  {
   "cell_type": "code",
   "execution_count": 467,
   "metadata": {
    "deletable": false,
    "editable": false
   },
   "outputs": [
    {
     "name": "stdout",
     "output_type": "stream",
     "text": [
      "~~~~~~~~~~~~~~~~~~~~~~~~~~~~~~~~~~~~~~~~~~~~~~~~~~~~~~~~~~~~~~~~~~~~~\n",
      "Running tests\n",
      "\n",
      "---------------------------------------------------------------------\n",
      "Test summary\n",
      "    Passed: 10\n",
      "    Failed: 0\n",
      "[ooooooooook] 100.0% passed\n",
      "\n"
     ]
    }
   ],
   "source": [
    "ok.grade(\"q5c\");"
   ]
  },
  {
   "cell_type": "markdown",
   "metadata": {
    "deletable": false,
    "editable": false,
    "nbgrader": {
     "grade": false,
     "grade_id": "q6d-header",
     "locked": true,
     "schema_version": 2,
     "solution": false
    }
   },
   "source": [
    "### Question 5d\n",
    "\n",
    "Now, let's convert the tweets into what's called a [*tidy format*](https://cran.r-project.org/web/packages/tidyr/vignettes/tidy-data.html) to make the sentiments easier to calculate. Use the `no_punc` column of `trump` to create a table called `tidy_format`. The index of the table should be the IDs of the tweets, repeated once for every word in the tweet. It has two columns:\n",
    "\n",
    "1. `num`: The location of the word in the tweet. For example, if the tweet was \"i love america\", then the location of the word \"i\" is 0, \"love\" is 1, and \"america\" is 2.\n",
    "2. `word`: The individual words of each tweet.\n",
    "\n",
    "The first few rows of our `tidy_format` table look like:\n",
    "\n",
    "<table border=\"1\" class=\"dataframe\">\n",
    "  <thead>\n",
    "    <tr style=\"text-align: right;\">\n",
    "      <th></th>\n",
    "      <th>num</th>\n",
    "      <th>word</th>\n",
    "    </tr>\n",
    "  </thead>\n",
    "  <tbody>\n",
    "    <tr>\n",
    "      <th>894661651760377856</th>\n",
    "      <td>0</td>\n",
    "      <td>i</td>\n",
    "    </tr>\n",
    "    <tr>\n",
    "      <th>894661651760377856</th>\n",
    "      <td>1</td>\n",
    "      <td>think</td>\n",
    "    </tr>\n",
    "    <tr>\n",
    "      <th>894661651760377856</th>\n",
    "      <td>2</td>\n",
    "      <td>senator</td>\n",
    "    </tr>\n",
    "    <tr>\n",
    "      <th>894661651760377856</th>\n",
    "      <td>3</td>\n",
    "      <td>blumenthal</td>\n",
    "    </tr>\n",
    "    <tr>\n",
    "      <th>894661651760377856</th>\n",
    "      <td>4</td>\n",
    "      <td>should</td>\n",
    "    </tr>\n",
    "  </tbody>\n",
    "</table>\n",
    "\n",
    "**Note that your DataFrame may look different from the one above.** However, you can double check that your tweet with ID `894661651760377856` has the same rows as ours. Our tests don't check whether your table looks exactly like ours.\n",
    "\n",
    "As usual, try to avoid using any for loops. Our solution uses a chain of 5 methods on the `trump` DataFrame, albeit using some rather advanced Pandas hacking.\n",
    "\n",
    "* **Hint 1:** Try looking at the `expand` argument to pandas' `str.split`.\n",
    "\n",
    "* **Hint 2:** Try looking at the `stack()` method.\n",
    "\n",
    "* **Hint 3:** Try looking at the `level` parameter of the `reset_index` method.\n",
    "\n",
    "<!--\n",
    "BEGIN QUESTION\n",
    "name: q5d\n",
    "points: 2\n",
    "-->"
   ]
  },
  {
   "cell_type": "code",
   "execution_count": 468,
   "metadata": {},
   "outputs": [
    {
     "data": {
      "text/html": [
       "<div>\n",
       "<style scoped>\n",
       "    .dataframe tbody tr th:only-of-type {\n",
       "        vertical-align: middle;\n",
       "    }\n",
       "\n",
       "    .dataframe tbody tr th {\n",
       "        vertical-align: top;\n",
       "    }\n",
       "\n",
       "    .dataframe thead th {\n",
       "        text-align: right;\n",
       "    }\n",
       "</style>\n",
       "<table border=\"1\" class=\"dataframe\">\n",
       "  <thead>\n",
       "    <tr style=\"text-align: right;\">\n",
       "      <th></th>\n",
       "      <th>num</th>\n",
       "      <th>word</th>\n",
       "    </tr>\n",
       "    <tr>\n",
       "      <th>id</th>\n",
       "      <th></th>\n",
       "      <th></th>\n",
       "    </tr>\n",
       "  </thead>\n",
       "  <tbody>\n",
       "    <tr>\n",
       "      <th>786204978629185536</th>\n",
       "      <td>0</td>\n",
       "      <td>pay</td>\n",
       "    </tr>\n",
       "    <tr>\n",
       "      <th>786204978629185536</th>\n",
       "      <td>1</td>\n",
       "      <td>to</td>\n",
       "    </tr>\n",
       "    <tr>\n",
       "      <th>786204978629185536</th>\n",
       "      <td>2</td>\n",
       "      <td>play</td>\n",
       "    </tr>\n",
       "    <tr>\n",
       "      <th>786204978629185536</th>\n",
       "      <td>3</td>\n",
       "      <td>politics</td>\n",
       "    </tr>\n",
       "    <tr>\n",
       "      <th>786204978629185536</th>\n",
       "      <td>4</td>\n",
       "      <td>crookedhillary</td>\n",
       "    </tr>\n",
       "    <tr>\n",
       "      <th>786204978629185536</th>\n",
       "      <td>5</td>\n",
       "      <td>https</td>\n",
       "    </tr>\n",
       "    <tr>\n",
       "      <th>786204978629185536</th>\n",
       "      <td>6</td>\n",
       "      <td>t</td>\n",
       "    </tr>\n",
       "    <tr>\n",
       "      <th>786204978629185536</th>\n",
       "      <td>7</td>\n",
       "      <td>co</td>\n",
       "    </tr>\n",
       "    <tr>\n",
       "      <th>786204978629185536</th>\n",
       "      <td>8</td>\n",
       "      <td>wjsl8itvvk</td>\n",
       "    </tr>\n",
       "    <tr>\n",
       "      <th>786201435486781440</th>\n",
       "      <td>0</td>\n",
       "      <td>very</td>\n",
       "    </tr>\n",
       "    <tr>\n",
       "      <th>786201435486781440</th>\n",
       "      <td>1</td>\n",
       "      <td>little</td>\n",
       "    </tr>\n",
       "    <tr>\n",
       "      <th>786201435486781440</th>\n",
       "      <td>2</td>\n",
       "      <td>pick</td>\n",
       "    </tr>\n",
       "    <tr>\n",
       "      <th>786201435486781440</th>\n",
       "      <td>3</td>\n",
       "      <td>up</td>\n",
       "    </tr>\n",
       "    <tr>\n",
       "      <th>786201435486781440</th>\n",
       "      <td>4</td>\n",
       "      <td>by</td>\n",
       "    </tr>\n",
       "    <tr>\n",
       "      <th>786201435486781440</th>\n",
       "      <td>5</td>\n",
       "      <td>the</td>\n",
       "    </tr>\n",
       "    <tr>\n",
       "      <th>786201435486781440</th>\n",
       "      <td>6</td>\n",
       "      <td>dishonest</td>\n",
       "    </tr>\n",
       "    <tr>\n",
       "      <th>786201435486781440</th>\n",
       "      <td>7</td>\n",
       "      <td>media</td>\n",
       "    </tr>\n",
       "    <tr>\n",
       "      <th>786201435486781440</th>\n",
       "      <td>8</td>\n",
       "      <td>of</td>\n",
       "    </tr>\n",
       "    <tr>\n",
       "      <th>786201435486781440</th>\n",
       "      <td>9</td>\n",
       "      <td>incredible</td>\n",
       "    </tr>\n",
       "    <tr>\n",
       "      <th>786201435486781440</th>\n",
       "      <td>10</td>\n",
       "      <td>information</td>\n",
       "    </tr>\n",
       "    <tr>\n",
       "      <th>786201435486781440</th>\n",
       "      <td>11</td>\n",
       "      <td>provided</td>\n",
       "    </tr>\n",
       "    <tr>\n",
       "      <th>786201435486781440</th>\n",
       "      <td>12</td>\n",
       "      <td>by</td>\n",
       "    </tr>\n",
       "    <tr>\n",
       "      <th>786201435486781440</th>\n",
       "      <td>13</td>\n",
       "      <td>wikileaks</td>\n",
       "    </tr>\n",
       "    <tr>\n",
       "      <th>786201435486781440</th>\n",
       "      <td>14</td>\n",
       "      <td>so</td>\n",
       "    </tr>\n",
       "    <tr>\n",
       "      <th>786201435486781440</th>\n",
       "      <td>15</td>\n",
       "      <td>dishonest</td>\n",
       "    </tr>\n",
       "    <tr>\n",
       "      <th>786201435486781440</th>\n",
       "      <td>16</td>\n",
       "      <td>rigged</td>\n",
       "    </tr>\n",
       "    <tr>\n",
       "      <th>786201435486781440</th>\n",
       "      <td>17</td>\n",
       "      <td>system</td>\n",
       "    </tr>\n",
       "    <tr>\n",
       "      <th>786189446274248704</th>\n",
       "      <td>0</td>\n",
       "      <td>crooked</td>\n",
       "    </tr>\n",
       "    <tr>\n",
       "      <th>786189446274248704</th>\n",
       "      <td>1</td>\n",
       "      <td>hillary</td>\n",
       "    </tr>\n",
       "    <tr>\n",
       "      <th>786189446274248704</th>\n",
       "      <td>2</td>\n",
       "      <td>clinton</td>\n",
       "    </tr>\n",
       "    <tr>\n",
       "      <th>...</th>\n",
       "      <td>...</td>\n",
       "      <td>...</td>\n",
       "    </tr>\n",
       "    <tr>\n",
       "      <th>1052268011900555265</th>\n",
       "      <td>0</td>\n",
       "      <td>just</td>\n",
       "    </tr>\n",
       "    <tr>\n",
       "      <th>1052268011900555265</th>\n",
       "      <td>1</td>\n",
       "      <td>spoke</td>\n",
       "    </tr>\n",
       "    <tr>\n",
       "      <th>1052268011900555265</th>\n",
       "      <td>2</td>\n",
       "      <td>with</td>\n",
       "    </tr>\n",
       "    <tr>\n",
       "      <th>1052268011900555265</th>\n",
       "      <td>3</td>\n",
       "      <td>the</td>\n",
       "    </tr>\n",
       "    <tr>\n",
       "      <th>1052268011900555265</th>\n",
       "      <td>4</td>\n",
       "      <td>crown</td>\n",
       "    </tr>\n",
       "    <tr>\n",
       "      <th>1052268011900555265</th>\n",
       "      <td>5</td>\n",
       "      <td>prince</td>\n",
       "    </tr>\n",
       "    <tr>\n",
       "      <th>1052268011900555265</th>\n",
       "      <td>6</td>\n",
       "      <td>of</td>\n",
       "    </tr>\n",
       "    <tr>\n",
       "      <th>1052268011900555265</th>\n",
       "      <td>7</td>\n",
       "      <td>saudi</td>\n",
       "    </tr>\n",
       "    <tr>\n",
       "      <th>1052268011900555265</th>\n",
       "      <td>8</td>\n",
       "      <td>arabia</td>\n",
       "    </tr>\n",
       "    <tr>\n",
       "      <th>1052268011900555265</th>\n",
       "      <td>9</td>\n",
       "      <td>who</td>\n",
       "    </tr>\n",
       "    <tr>\n",
       "      <th>1052268011900555265</th>\n",
       "      <td>10</td>\n",
       "      <td>totally</td>\n",
       "    </tr>\n",
       "    <tr>\n",
       "      <th>1052268011900555265</th>\n",
       "      <td>11</td>\n",
       "      <td>denied</td>\n",
       "    </tr>\n",
       "    <tr>\n",
       "      <th>1052268011900555265</th>\n",
       "      <td>12</td>\n",
       "      <td>any</td>\n",
       "    </tr>\n",
       "    <tr>\n",
       "      <th>1052268011900555265</th>\n",
       "      <td>13</td>\n",
       "      <td>knowledge</td>\n",
       "    </tr>\n",
       "    <tr>\n",
       "      <th>1052268011900555265</th>\n",
       "      <td>14</td>\n",
       "      <td>of</td>\n",
       "    </tr>\n",
       "    <tr>\n",
       "      <th>1052268011900555265</th>\n",
       "      <td>15</td>\n",
       "      <td>what</td>\n",
       "    </tr>\n",
       "    <tr>\n",
       "      <th>1052268011900555265</th>\n",
       "      <td>16</td>\n",
       "      <td>took</td>\n",
       "    </tr>\n",
       "    <tr>\n",
       "      <th>1052268011900555265</th>\n",
       "      <td>17</td>\n",
       "      <td>place</td>\n",
       "    </tr>\n",
       "    <tr>\n",
       "      <th>1052268011900555265</th>\n",
       "      <td>18</td>\n",
       "      <td>in</td>\n",
       "    </tr>\n",
       "    <tr>\n",
       "      <th>1052268011900555265</th>\n",
       "      <td>19</td>\n",
       "      <td>their</td>\n",
       "    </tr>\n",
       "    <tr>\n",
       "      <th>1052268011900555265</th>\n",
       "      <td>20</td>\n",
       "      <td>turkish</td>\n",
       "    </tr>\n",
       "    <tr>\n",
       "      <th>1052268011900555265</th>\n",
       "      <td>21</td>\n",
       "      <td>consulate</td>\n",
       "    </tr>\n",
       "    <tr>\n",
       "      <th>1052268011900555265</th>\n",
       "      <td>22</td>\n",
       "      <td>he</td>\n",
       "    </tr>\n",
       "    <tr>\n",
       "      <th>1052268011900555265</th>\n",
       "      <td>23</td>\n",
       "      <td>was</td>\n",
       "    </tr>\n",
       "    <tr>\n",
       "      <th>1052268011900555265</th>\n",
       "      <td>24</td>\n",
       "      <td>with</td>\n",
       "    </tr>\n",
       "    <tr>\n",
       "      <th>1052268011900555265</th>\n",
       "      <td>25</td>\n",
       "      <td>secretary</td>\n",
       "    </tr>\n",
       "    <tr>\n",
       "      <th>1052268011900555265</th>\n",
       "      <td>26</td>\n",
       "      <td>of</td>\n",
       "    </tr>\n",
       "    <tr>\n",
       "      <th>1052268011900555265</th>\n",
       "      <td>27</td>\n",
       "      <td>state</td>\n",
       "    </tr>\n",
       "    <tr>\n",
       "      <th>1052268011900555265</th>\n",
       "      <td>28</td>\n",
       "      <td>mike</td>\n",
       "    </tr>\n",
       "    <tr>\n",
       "      <th>1052268011900555265</th>\n",
       "      <td>29</td>\n",
       "      <td>pompeo</td>\n",
       "    </tr>\n",
       "  </tbody>\n",
       "</table>\n",
       "<p>259520 rows × 2 columns</p>\n",
       "</div>"
      ],
      "text/plain": [
       "                     num            word\n",
       "id                                      \n",
       "786204978629185536     0             pay\n",
       "786204978629185536     1              to\n",
       "786204978629185536     2            play\n",
       "786204978629185536     3        politics\n",
       "786204978629185536     4  crookedhillary\n",
       "786204978629185536     5           https\n",
       "786204978629185536     6               t\n",
       "786204978629185536     7              co\n",
       "786204978629185536     8      wjsl8itvvk\n",
       "786201435486781440     0            very\n",
       "786201435486781440     1          little\n",
       "786201435486781440     2            pick\n",
       "786201435486781440     3              up\n",
       "786201435486781440     4              by\n",
       "786201435486781440     5             the\n",
       "786201435486781440     6       dishonest\n",
       "786201435486781440     7           media\n",
       "786201435486781440     8              of\n",
       "786201435486781440     9      incredible\n",
       "786201435486781440    10     information\n",
       "786201435486781440    11        provided\n",
       "786201435486781440    12              by\n",
       "786201435486781440    13       wikileaks\n",
       "786201435486781440    14              so\n",
       "786201435486781440    15       dishonest\n",
       "786201435486781440    16          rigged\n",
       "786201435486781440    17          system\n",
       "786189446274248704     0         crooked\n",
       "786189446274248704     1         hillary\n",
       "786189446274248704     2         clinton\n",
       "...                  ...             ...\n",
       "1052268011900555265    0            just\n",
       "1052268011900555265    1           spoke\n",
       "1052268011900555265    2            with\n",
       "1052268011900555265    3             the\n",
       "1052268011900555265    4           crown\n",
       "1052268011900555265    5          prince\n",
       "1052268011900555265    6              of\n",
       "1052268011900555265    7           saudi\n",
       "1052268011900555265    8          arabia\n",
       "1052268011900555265    9             who\n",
       "1052268011900555265   10         totally\n",
       "1052268011900555265   11          denied\n",
       "1052268011900555265   12             any\n",
       "1052268011900555265   13       knowledge\n",
       "1052268011900555265   14              of\n",
       "1052268011900555265   15            what\n",
       "1052268011900555265   16            took\n",
       "1052268011900555265   17           place\n",
       "1052268011900555265   18              in\n",
       "1052268011900555265   19           their\n",
       "1052268011900555265   20         turkish\n",
       "1052268011900555265   21       consulate\n",
       "1052268011900555265   22              he\n",
       "1052268011900555265   23             was\n",
       "1052268011900555265   24            with\n",
       "1052268011900555265   25       secretary\n",
       "1052268011900555265   26              of\n",
       "1052268011900555265   27           state\n",
       "1052268011900555265   28            mike\n",
       "1052268011900555265   29          pompeo\n",
       "\n",
       "[259520 rows x 2 columns]"
      ]
     },
     "execution_count": 468,
     "metadata": {},
     "output_type": "execute_result"
    }
   ],
   "source": [
    "tidy1=trump['no_punc'].str.split(expand=True)\n",
    "tidy2=tidy1.stack()\n",
    "tidy3=tidy2.reset_index()\n",
    "tidy_format=tidy3.set_index('id')\n",
    "tidy_format.columns=['num','word']\n",
    "tidy_format"
   ]
  },
  {
   "cell_type": "code",
   "execution_count": 469,
   "metadata": {
    "deletable": false,
    "editable": false
   },
   "outputs": [
    {
     "name": "stdout",
     "output_type": "stream",
     "text": [
      "~~~~~~~~~~~~~~~~~~~~~~~~~~~~~~~~~~~~~~~~~~~~~~~~~~~~~~~~~~~~~~~~~~~~~\n",
      "Running tests\n",
      "\n",
      "---------------------------------------------------------------------\n",
      "Test summary\n",
      "    Passed: 2\n",
      "    Failed: 0\n",
      "[ooooooooook] 100.0% passed\n",
      "\n"
     ]
    }
   ],
   "source": [
    "ok.grade(\"q5d\");"
   ]
  },
  {
   "cell_type": "markdown",
   "metadata": {
    "deletable": false,
    "editable": false,
    "nbgrader": {
     "grade": false,
     "grade_id": "q6e-header",
     "locked": true,
     "schema_version": 2,
     "solution": false
    }
   },
   "source": [
    "### Question 5e\n",
    "\n",
    "Now that we have this table in the tidy format, it becomes much easier to find the sentiment of each tweet: we can join the table with the lexicon table. \n",
    "\n",
    "Add a `polarity` column to the `trump` table.  The `polarity` column should contain the sum of the sentiment polarity of each word in the text of the tweet.\n",
    "\n",
    "**Hints:** \n",
    "* You will need to merge the `tidy_format` and `sent` tables and group the final answer.\n",
    "* If certain words are not found in the `sent` table, set their polarities to 0.\n",
    "\n",
    "<!--\n",
    "BEGIN QUESTION\n",
    "name: q5e\n",
    "points: 2\n",
    "-->"
   ]
  },
  {
   "cell_type": "code",
   "execution_count": 470,
   "metadata": {
    "nbgrader": {
     "grade": false,
     "grade_id": "q6e",
     "locked": false,
     "schema_version": 2,
     "solution": true
    },
    "tags": [
     "student"
    ]
   },
   "outputs": [],
   "source": [
    "polarity_for_id=tidy_format.merge(sent, how='left',right_index =True,left_on = 'word', right_on = 'token')\n",
    "trump['polarity'] = polarity_for_id['polarity'].groupby(polarity_for_id.index).agg('sum')"
   ]
  },
  {
   "cell_type": "code",
   "execution_count": 471,
   "metadata": {
    "deletable": false,
    "editable": false
   },
   "outputs": [
    {
     "name": "stdout",
     "output_type": "stream",
     "text": [
      "~~~~~~~~~~~~~~~~~~~~~~~~~~~~~~~~~~~~~~~~~~~~~~~~~~~~~~~~~~~~~~~~~~~~~\n",
      "Running tests\n",
      "\n",
      "---------------------------------------------------------------------\n",
      "Test summary\n",
      "    Passed: 6\n",
      "    Failed: 0\n",
      "[ooooooooook] 100.0% passed\n",
      "\n"
     ]
    }
   ],
   "source": [
    "ok.grade(\"q5e\");"
   ]
  },
  {
   "cell_type": "markdown",
   "metadata": {
    "nbgrader": {
     "grade": false,
     "grade_id": "a-note-on-vader",
     "locked": true,
     "schema_version": 2,
     "solution": false
    }
   },
   "source": [
    "Now we have a measure of the sentiment of each of his tweets! Note that this calculation is rather basic; you can read over the VADER readme to understand a more robust sentiment analysis.\n",
    "\n",
    "Now, run the cells below to see the most positive and most negative tweets from Trump in your dataset:"
   ]
  },
  {
   "cell_type": "code",
   "execution_count": 472,
   "metadata": {
    "nbgrader": {
     "grade": false,
     "grade_id": "negative-tweets",
     "locked": true,
     "schema_version": 2,
     "solution": false
    }
   },
   "outputs": [
    {
     "name": "stdout",
     "output_type": "stream",
     "text": [
      "Most negative tweets:\n",
      "\n",
      "   the trump portrait of an unsustainable border crisis is dead on. “in the last two years, ice officers made 266,000 arrests of aliens with criminal records, including those charged or convicted of 100,000 assaults, 30,000 sex crimes &amp; 4000 violent killings.” america’s southern....\n",
      "\n",
      "   it is outrageous that poisonous synthetic heroin fentanyl comes pouring into the u.s. postal system from china. we can, and must, end this now! the senate should pass the stop act – and firmly stop this poison from killing our children and destroying our country. no more delay!\n",
      "\n",
      "   the rigged russian witch hunt goes on and on as the “originators and founders” of this scam continue to be fired and demoted for their corrupt and illegal activity. all credibility is gone from this terrible hoax, and much more will be lost as it proceeds. no collusion!\n",
      "\n",
      "   ...this evil anti-semitic attack is an assault on humanity. it will take all of us working together to extract the poison of anti-semitism from our world. we must unite to conquer hate.\n",
      "\n",
      "   james comey is a proven leaker &amp; liar. virtually everyone in washington thought he should be fired for the terrible job he did-until he was, in fact, fired. he leaked classified information, for which he should be prosecuted. he lied to congress under oath. he is a weak and.....\n"
     ]
    }
   ],
   "source": [
    "print('Most negative tweets:')\n",
    "for t in trump.sort_values('polarity').head()['text']:\n",
    "    print('\\n  ', t)"
   ]
  },
  {
   "cell_type": "code",
   "execution_count": 473,
   "metadata": {
    "nbgrader": {
     "grade": false,
     "grade_id": "postive-tweets",
     "locked": true,
     "schema_version": 2,
     "solution": false
    },
    "scrolled": true
   },
   "outputs": [
    {
     "name": "stdout",
     "output_type": "stream",
     "text": [
      "Most positive tweets:\n",
      "\n",
      "   congratulations to patrick reed on his great and courageous masters win! when patrick had his amazing win at doral 5 years ago, people saw his great talent, and a bright future ahead. now he is the masters champion!\n",
      "\n",
      "   congratulations to a truly great football team, the clemson tigers, on an incredible win last night against a powerful alabama team. a big win also for the great state of south carolina. look forward to seeing the team, and their brilliant coach, for the second time at the w.h.\n",
      "\n",
      "   my supporters are the smartest, strongest, most hard working and most loyal that we have seen in our countries history. it is a beautiful thing to watch as we win elections and gather support from all over the country. as we get stronger, so does our country. best numbers ever!\n",
      "\n",
      "   thank you to all of my great supporters, really big progress being made. other countries wanting to fix crazy trade deals. economy is roaring. supreme court pick getting great reviews. new poll says trump, at over 90%, is the most popular republican in history of the party. wow!\n",
      "\n",
      "   thank you, @wvgovernor jim justice, for that warm introduction. tonight, it was my great honor to attend the “greenbrier classic – salute to service dinner” in west virginia! god bless our veterans. god bless america - and happy independence day to all! https://t.co/v35qvcn8m6\n"
     ]
    }
   ],
   "source": [
    "print('Most positive tweets:')\n",
    "for t in trump.sort_values('polarity', ascending=False).head()['text']:\n",
    "    print('\\n  ', t)"
   ]
  },
  {
   "cell_type": "markdown",
   "metadata": {
    "deletable": false,
    "editable": false,
    "nbgrader": {
     "grade": false,
     "grade_id": "q6g",
     "locked": true,
     "schema_version": 2,
     "solution": false
    }
   },
   "source": [
    "## Question 6\n",
    "\n",
    "Now, let's try looking at the distributions of sentiments for tweets containing certain keywords.\n",
    "\n",
    "### Question 6a\n",
    "\n",
    "In the cell below, create a single plot showing both the distribution of tweet sentiments for tweets containing `nytimes`, as well as the distribution of tweet sentiments for tweets containing `fox`.\n",
    "\n",
    "<!--\n",
    "BEGIN QUESTION\n",
    "name: q6a\n",
    "points: 1\n",
    "manual: true\n",
    "-->\n",
    "<!-- EXPORT TO PDF -->"
   ]
  },
  {
   "cell_type": "code",
   "execution_count": 475,
   "metadata": {},
   "outputs": [
    {
     "data": {
      "text/plain": [
       "<matplotlib.legend.Legend at 0x7fc091a13f28>"
      ]
     },
     "execution_count": 475,
     "metadata": {},
     "output_type": "execute_result"
    },
    {
     "data": {
      "image/png": "[encoded data removed]",
      "text/plain": [
       "<Figure size 1440x720 with 1 Axes>"
      ]
     },
     "metadata": {},
     "output_type": "display_data"
    }
   ],
   "source": [
    "nytimes_id = tidy_format[tidy_format['word']=='nytimes'].index\n",
    "nytimes_po=trump[trump.index.isin(nytimes_id)]\n",
    "sns.distplot(nytimes_po['polarity'],label='nytimes')\n",
    "fox_id = tidy_format[tidy_format['word']=='fox'].index\n",
    "fox_po = trump[trump.index.isin(fox_id)]\n",
    "sns.distplot(fox_po['polarity'],label='fox')\n",
    "plt.legend()\n",
    "plt.title('Distribution of tweet sentiments for tweets containing nytimes compared to tweets containing fox')\n",
    "plt.ylabel('Distribution of tweet sentiments')\n",
    "sns.set(font_scale=5)\n",
    "sns.set(rc={'figure.figsize':(20,10)})\n",
    "plt.legend(prop={'size': 20})\n"
   ]
  },
  {
   "cell_type": "markdown",
   "metadata": {
    "deletable": false,
    "editable": false,
    "nbgrader": {
     "grade": false,
     "grade_id": "comment-on-faux-news",
     "locked": true,
     "schema_version": 2,
     "solution": false
    }
   },
   "source": [
    "### Question 6b\n",
    "Comment on what you observe in the plot above. Can you find other pairs of keywords that lead to interesting plots? (If you modify your code in 6a, remember to change the words back to `nytimes` and `fox` before submitting for grading).\n",
    "\n",
    "<!--\n",
    "BEGIN QUESTION\n",
    "name: q6b\n",
    "points: 1\n",
    "-->"
   ]
  },
  {
   "cell_type": "markdown",
   "metadata": {
    "nbgrader": {
     "grade": true,
     "grade_id": "q6g-written",
     "locked": false,
     "points": 1,
     "schema_version": 2,
     "solution": true
    }
   },
   "source": [
    "1. The distribution of nytimes sentiments is fairly symmetric, with the shape of a bell. Its symcenter lies in the polarity of -5, and the distribution of tweet sentiment conntaining nytimes mostly lies in negative values.<br><br>\n",
    "2. The distribution of fox sentiments is also fairly symmetric with the shape of a bell. Its symcenter lies in the polarity of 1.<br><br>\n",
    "3. The distributions of two key words sentiments overlapped coincide from the polarity of -6 to 6.<br><br>\n",
    "4. Other pairs: 'turkish' and 'crookedhillary'<br><br>\n",
    "The distribution of tweet sentiments containing 'turkish' is uniform, from the polarity of -3 to 7, while the distribution of tweet sentiments conntaining 'crookedhillary'is skewed left. The biggest mode of 'crookedhillary' polarity is positive, from 0 to 1, and the second mode is at -3, which is negative. Also, there are three gaps for the polarity of 'crookedhillary'.\n",
    "<img src=\"images/turkish and crook.png\" width=\"600px\" />\n"
   ]
  },
  {
   "cell_type": "markdown",
   "metadata": {
    "deletable": false,
    "editable": false
   },
   "source": [
    "# Submit\n",
    "Make sure you have run all cells in your notebook in order before running the cell below, so that all images/graphs appear in the output.\n",
    "**Please save before submitting!**\n",
    "\n",
    "<!-- EXPECT 5 EXPORTED QUESTIONS -->"
   ]
  },
  {
   "cell_type": "code",
   "execution_count": 476,
   "metadata": {
    "deletable": false,
    "editable": false
   },
   "outputs": [
    {
     "name": "stdout",
     "output_type": "stream",
     "text": [
      "Generating PDF...\n",
      "Saved hw3.pdf\n"
     ]
    },
    {
     "data": {
      "application/javascript": [
       "IPython.notebook.save_checkpoint();"
      ],
      "text/plain": [
       "<IPython.core.display.Javascript object>"
      ]
     },
     "metadata": {},
     "output_type": "display_data"
    },
    {
     "data": {
      "application/javascript": [
       "IPython.notebook.save_notebook();"
      ],
      "text/plain": [
       "<IPython.core.display.Javascript object>"
      ]
     },
     "metadata": {},
     "output_type": "display_data"
    },
    {
     "name": "stdout",
     "output_type": "stream",
     "text": [
      "Saving notebook... Saved 'hw3.ipynb'.\n",
      "Submit... 100% complete\n",
      "Submission successful for user: shangxin.wang@berkeley.edu\n",
      "URL: https://okpy.org/cal/data100/su19/hw3/submissions/Gvkvn8\n",
      "\n"
     ]
    }
   ],
   "source": [
    "# Save your notebook first, then run this cell to submit.\n",
    "import jassign.to_pdf\n",
    "jassign.to_pdf.generate_pdf('hw3.ipynb', 'hw3.pdf')\n",
    "ok.submit()"
   ]
  },
  {
   "cell_type": "code",
   "execution_count": null,
   "metadata": {},
   "outputs": [],
   "source": []
  }
 ],
 "metadata": {
  "kernelspec": {
   "display_name": "Python 3",
   "language": "python",
   "name": "python3"
  },
  "language_info": {
   "codemirror_mode": {
    "name": "ipython",
    "version": 3
   },
   "file_extension": ".py",
   "mimetype": "text/x-python",
   "name": "python",
   "nbconvert_exporter": "python",
   "pygments_lexer": "ipython3",
   "version": "3.6.4"
  }
 },
 "nbformat": 4,
 "nbformat_minor": 2
}
