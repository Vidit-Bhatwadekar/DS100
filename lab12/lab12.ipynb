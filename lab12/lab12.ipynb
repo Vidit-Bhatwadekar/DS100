{
 "cells": [
  {
   "cell_type": "code",
   "execution_count": 1,
   "metadata": {
    "deletable": false,
    "editable": false
   },
   "outputs": [
    {
     "name": "stdout",
     "output_type": "stream",
     "text": [
      "=====================================================================\n",
      "Assignment: lab12\n",
      "OK, version v1.13.11\n",
      "=====================================================================\n",
      "\n"
     ]
    }
   ],
   "source": [
    "# Initialize OK\n",
    "from client.api.notebook import Notebook\n",
    "ok = Notebook('lab12.ok')"
   ]
  },
  {
   "cell_type": "markdown",
   "metadata": {
    "nbgrader": {
     "grade": false,
     "grade_id": "cell-f02089e1eccc4756",
     "locked": true,
     "schema_version": 2,
     "solution": false
    }
   },
   "source": [
    "# Lab 12: Scalable Data Processing Using Ray\n",
    "  <img src=\"https://i.imgur.com/6DHvEJil.jpg\" alt=\"ray_logo\" align=\"right\" width=\"400\"/>\n",
    "\n",
    "\n",
    "**Collaboration Policy**\n",
    "\n",
    "Data science is a collaborative activity. While you may talk with others about\n",
    "the homework, we ask that you **write your solutions individually**. If you do\n",
    "discuss the assignments with others please **include their names** at the top\n",
    "of your solution.\n",
    "\n",
    "## Due Date\n",
    "\n",
    "This assignment is due at 11:59pm Tuesday, August 6th.\n",
    "\n",
    "In this lab, you will learn the basics of Ray and use it to speed up the process of finding word frequency in texts."
   ]
  },
  {
   "cell_type": "markdown",
   "metadata": {},
   "source": [
    "**Collaborators:** *write names here*"
   ]
  },
  {
   "cell_type": "markdown",
   "metadata": {},
   "source": [
    "## This Assignment\n",
    "Although you've learned powerful techniques for processing data, most of the problems you've worked on involved small datasets that a single machine can quickly process. Data science in practical settings often involves processing hundreds of gigabytes, terabytes, and even petabytes of data. \n",
    "\n",
    "These data sets are too large for a single computer to process quickly, so data scientists often *scale up* their programs to *clusters*, many computers working together to run a program. On a smaller scale, we can also parallelize programs across processor cores in a single computer.\n",
    "\n",
    "For this lab, we will use [Ray](https://ray.readthedocs.io/en/latest/), a system for parallel and distributed Python (developed at Berkeley), which can parallelize programs across the cores of a single computer as well as a cluster. While your code for this homework will only parallelize across the cores of a single JupyterHub computer, you could run it on a cluster as well without any changes.\n",
    "\n",
    "Throughout this assignment, you may find it helpful to refer to the following:\n",
    "- [Ray documentation](https://ray.readthedocs.io/en/latest/)\n",
    "- [Ray codebase](https://github.com/ray-project/ray)\n",
    "\n",
    "### Note\n",
    "- This assignment will have no hidden tests and no written parts. If you pass all the tests, you are good to go!\n",
    "- This assignment will **consist of a lot of reading rather than coding**. If you are confused on anything, feel free to ask on Piazza."
   ]
  },
  {
   "cell_type": "markdown",
   "metadata": {
    "nbgrader": {
     "grade": false,
     "grade_id": "cell-96c3cc1eaad03e69",
     "locked": true,
     "schema_version": 2,
     "solution": false
    }
   },
   "source": [
    "## 1: Learning the Ray API\n",
    "\n",
    "Let's start by digging into the Ray API and familiarize ourselves with some of its functionalities. Again, please reference the [Ray documentation](https://ray.readthedocs.io/en/latest/) and [Ray codebase](https://github.com/ray-project/ray) if you have any questions."
   ]
  },
  {
   "cell_type": "code",
   "execution_count": 2,
   "metadata": {
    "nbgrader": {
     "grade": false,
     "grade_id": "cell-e1ef66fc29a67901",
     "locked": true,
     "schema_version": 2,
     "solution": false
    }
   },
   "outputs": [],
   "source": [
    "import numpy as np\n",
    "import pandas as pd\n",
    "import seaborn as sns\n",
    "import matplotlib.pyplot as plt\n",
    "\n",
    "import re\n",
    "import time\n",
    "import urllib.request\n",
    "\n",
    "from utils import timeit\n",
    "\n",
    "import ray\n",
    "from colorama import Fore\n",
    "\n",
    "import warnings\n",
    "warnings.filterwarnings(\"ignore\")\n",
    "\n",
    "\n",
    "%matplotlib inline"
   ]
  },
  {
   "cell_type": "markdown",
   "metadata": {},
   "source": [
    "To start Ray, we will first import ray and call `ray.init`. We will use 8 cpus. \n",
    "\n",
    "You should see something like the following, ray is telling us information about our tiny compute cluster:\n",
    "\n",
    "<img src=\"https://i.imgur.com/JOOtGFr.png\" alt=\"ray_init\" width=\"600\"/>\n"
   ]
  },
  {
   "cell_type": "code",
   "execution_count": 3,
   "metadata": {
    "nbgrader": {
     "grade": false,
     "grade_id": "cell-1f8dd14785cef69b",
     "locked": true,
     "schema_version": 2,
     "solution": false
    }
   },
   "outputs": [
    {
     "name": "stderr",
     "output_type": "stream",
     "text": [
      "2019-08-06 12:50:34,172\tINFO node.py:423 -- Process STDOUT and STDERR is being redirected to /tmp/ray/session_2019-08-06_12-50-34_221/logs.\n",
      "2019-08-06 12:50:34,895\tINFO services.py:363 -- Waiting for redis server at 127.0.0.1:54451 to respond...\n",
      "2019-08-06 12:50:35,043\tINFO services.py:363 -- Waiting for redis server at 127.0.0.1:15590 to respond...\n",
      "2019-08-06 12:50:35,050\tINFO services.py:760 -- Starting Redis shard with 0.43 GB max memory.\n",
      "2019-08-06 12:50:35,150\tWARNING services.py:1272 -- WARNING: object_store_memory is not verified when plasma_directory is set.\n",
      "2019-08-06 12:50:35,152\tINFO services.py:1384 -- Starting the Plasma object store with 2.0 GB memory using /tmp.\n"
     ]
    },
    {
     "data": {
      "text/plain": [
       "{'node_ip_address': None,\n",
       " 'redis_address': '10.244.0.172:54451',\n",
       " 'object_store_address': '/tmp/ray/session_2019-08-06_12-50-34_221/sockets/plasma_store',\n",
       " 'webui_url': None,\n",
       " 'raylet_socket_name': '/tmp/ray/session_2019-08-06_12-50-34_221/sockets/raylet'}"
      ]
     },
     "execution_count": 3,
     "metadata": {},
     "output_type": "execute_result"
    }
   ],
   "source": [
    "ray.init(\n",
    "    num_cpus=8, # We will be using 8 workers\n",
    "    include_webui=False,  \n",
    "    plasma_directory='/tmp', # The object store is mounted to local file system\n",
    "    ignore_reinit_error=True,\n",
    "    object_store_memory=int(2*1e9), \n",
    ")\n",
    "\n"
   ]
  },
  {
   "cell_type": "markdown",
   "metadata": {
    "nbgrader": {
     "grade": false,
     "grade_id": "cell-7045bc2ef431553a",
     "locked": true,
     "schema_version": 2,
     "solution": false
    }
   },
   "source": [
    "For now, let's start with the basics. With Ray, Python objects can live either within process or within Ray's shared memory. Ray's shared memory is responsible for transfering objects among the current process and the workers, such that data is shared across different functions that might run in parallel.\n",
    "\n",
    "`ray.put(x)` copies an object `x` from the current process to Ray's shared object store and returns an ID for that object.\n",
    "\n",
    "`ray.get(x_id)` returns the object determined by the object's ID `x_id` from Ray's shared object store.\n",
    "\n",
    "You can think of this as sending python object to a in-memory database so it can be accessed by other peer python processes. \n",
    "\n",
    "If that seems a little confusing, that's ok! The following example should clear it up. The most important thing is to understand `ObjectID`s and `ray.get`:"
   ]
  },
  {
   "cell_type": "code",
   "execution_count": 4,
   "metadata": {
    "nbgrader": {
     "grade": false,
     "grade_id": "cell-82ff4103df5d3985",
     "locked": true,
     "schema_version": 2,
     "solution": false
    }
   },
   "outputs": [
    {
     "name": "stdout",
     "output_type": "stream",
     "text": [
      "\n",
      "    x's type is \u001b[34m <class 'int'> \u001b[39m\n",
      "    and its value is \u001b[34m 42 \u001b[39m\n",
      "\n"
     ]
    }
   ],
   "source": [
    "# x is a python object within this process.\n",
    "x = 42  \n",
    "print(f\"\"\"\n",
    "    x's type is {Fore.BLUE} {type(x)} {Fore.RESET}\n",
    "    and its value is {Fore.BLUE} {x} {Fore.RESET}\n",
    "\"\"\")"
   ]
  },
  {
   "cell_type": "markdown",
   "metadata": {},
   "source": [
    "Now we copy x to Ray's object store. This lets you share x among different Ray worker processes."
   ]
  },
  {
   "cell_type": "code",
   "execution_count": 5,
   "metadata": {
    "nbgrader": {
     "grade": false,
     "grade_id": "cell-ef9ad94a88be868b",
     "locked": true,
     "schema_version": 2,
     "solution": false
    }
   },
   "outputs": [
    {
     "name": "stdout",
     "output_type": "stream",
     "text": [
      "\n",
      "    x_id's type is \u001b[34m <class 'ray._raylet.ObjectID'> \u001b[39m\n",
      "    and its value is \u001b[34m ObjectID(ffffffffbd7d9394b8a79e99de1a6e8e7032223b) \u001b[39m\n",
      "\n"
     ]
    }
   ],
   "source": [
    "# Copy x to Ray's object store. \n",
    "# This lets you share x among different Ray worker processes.\n",
    "x_id = ray.put(x)  \n",
    "print(f\"\"\"\n",
    "    x_id's type is {Fore.BLUE} {type(x_id)} {Fore.RESET}\n",
    "    and its value is {Fore.BLUE} {x_id} {Fore.RESET}\n",
    "\"\"\")"
   ]
  },
  {
   "cell_type": "markdown",
   "metadata": {},
   "source": [
    "We can retrieve the object using x_id from Ray's object store to current process with `ray.get`."
   ]
  },
  {
   "cell_type": "code",
   "execution_count": 6,
   "metadata": {
    "nbgrader": {
     "grade": false,
     "grade_id": "cell-451658536f69adb4",
     "locked": true,
     "schema_version": 2,
     "solution": false
    }
   },
   "outputs": [
    {
     "name": "stdout",
     "output_type": "stream",
     "text": [
      "\n",
      "    x_copy's type is \u001b[34m <class 'int'> \u001b[39m\n",
      "    and its value is \u001b[34m 42 \u001b[39m\n",
      "\n"
     ]
    }
   ],
   "source": [
    "x_copy = ray.get(x_id)  \n",
    "print(f\"\"\"\n",
    "    x_copy's type is {Fore.BLUE} {type(x_copy)} {Fore.RESET}\n",
    "    and its value is {Fore.BLUE} {x_copy} {Fore.RESET}\n",
    "\"\"\")"
   ]
  },
  {
   "cell_type": "markdown",
   "metadata": {
    "nbgrader": {
     "grade": false,
     "grade_id": "cell-83aac10013fb7d57",
     "locked": true,
     "schema_version": 2,
     "solution": false
    }
   },
   "source": [
    "You can pass a list of `ObjectID`s to `ray.get` in order to retrieve a list of objects stored in Ray's object store:"
   ]
  },
  {
   "cell_type": "code",
   "execution_count": 7,
   "metadata": {
    "nbgrader": {
     "grade": false,
     "grade_id": "cell-d2d1ec8c9fa27c46",
     "locked": true,
     "schema_version": 2,
     "solution": false
    }
   },
   "outputs": [
    {
     "name": "stdout",
     "output_type": "stream",
     "text": [
      "\n",
      "    x_copy's type is \u001b[34m <class 'int'> \u001b[39m\n",
      "    and its value is \u001b[34m 42 \u001b[39m\n",
      "    \n",
      "    y_copy's type is \u001b[34m <class 'int'> \u001b[39m\n",
      "    and its value is \u001b[34m 49 \u001b[39m\n",
      "\n"
     ]
    }
   ],
   "source": [
    "# Store 49 in Ray's object store.\n",
    "y_id = ray.put(49)  \n",
    "# Retrieve a list of ObjectIDs from Ray's object store.\n",
    "x_copy, y_copy = ray.get([x_id, y_id])  \n",
    "\n",
    "print(f\"\"\"\n",
    "    x_copy's type is {Fore.BLUE} {type(x_copy)} {Fore.RESET}\n",
    "    and its value is {Fore.BLUE} {x_copy} {Fore.RESET}\n",
    "    \n",
    "    y_copy's type is {Fore.BLUE} {type(y_copy)} {Fore.RESET}\n",
    "    and its value is {Fore.BLUE} {y_copy} {Fore.RESET}\n",
    "\"\"\")"
   ]
  },
  {
   "cell_type": "markdown",
   "metadata": {
    "deletable": false,
    "editable": false,
    "nbgrader": {
     "grade": false,
     "grade_id": "q1a",
     "locked": true,
     "schema_version": 2,
     "solution": false
    }
   },
   "source": [
    "### Question 1a\n",
    "Store `a`, `b`, and `c` in Ray's object store and retrieve their values.\n",
    "<!--\n",
    "BEGIN QUESTION\n",
    "name: q1a\n",
    "manual: false\n",
    "points: 1\n",
    "-->"
   ]
  },
  {
   "cell_type": "code",
   "execution_count": 8,
   "metadata": {
    "nbgrader": {
     "grade": false,
     "grade_id": "q1a-answer",
     "locked": false,
     "schema_version": 2,
     "solution": true
    }
   },
   "outputs": [],
   "source": [
    "a = \"Go bears!\"\n",
    "b = [i for i in range(10)]\n",
    "c = {\"Berkeley\": \"#1\", \"Stanford\": \"#2\"}\n",
    "\n",
    "a_id = ray.put(a)\n",
    "b_id = ray.put(b)\n",
    "c_id = ray.put(c)\n",
    "\n",
    "a_copy = ray.get(a_id)\n",
    "b_copy = ray.get(b_id)\n",
    "c_copy = ray.get(c_id)"
   ]
  },
  {
   "cell_type": "code",
   "execution_count": 9,
   "metadata": {
    "deletable": false,
    "editable": false
   },
   "outputs": [
    {
     "name": "stdout",
     "output_type": "stream",
     "text": [
      "~~~~~~~~~~~~~~~~~~~~~~~~~~~~~~~~~~~~~~~~~~~~~~~~~~~~~~~~~~~~~~~~~~~~~\n",
      "Running tests\n",
      "\n",
      "---------------------------------------------------------------------\n",
      "Test summary\n",
      "    Passed: 3\n",
      "    Failed: 0\n",
      "[ooooooooook] 100.0% passed\n",
      "\n"
     ]
    }
   ],
   "source": [
    "ok.grade(\"q1a\");"
   ]
  },
  {
   "cell_type": "markdown",
   "metadata": {
    "nbgrader": {
     "grade": false,
     "grade_id": "cell-a07fd7c817630544",
     "locked": true,
     "schema_version": 2,
     "solution": false
    }
   },
   "source": [
    "Let's try to parallelize a function using Ray. Simply add the `@ray.remote` decorator to the function you wish to parallelize.\n",
    "\n",
    "Note that using the decorator as below is [syntactic sugar](https://en.wikipedia.org/wiki/Syntactic_sugar) for `square_ray = ray.remote(square_ray)`."
   ]
  },
  {
   "cell_type": "code",
   "execution_count": 10,
   "metadata": {
    "nbgrader": {
     "grade": false,
     "grade_id": "cell-e8296ac91e75af87",
     "locked": true,
     "schema_version": 2,
     "solution": false
    }
   },
   "outputs": [],
   "source": [
    "def square(x):\n",
    "    return x**2\n",
    "\n",
    "@ray.remote\n",
    "def square_ray(x):\n",
    "    return x**2"
   ]
  },
  {
   "cell_type": "markdown",
   "metadata": {
    "nbgrader": {
     "grade": false,
     "grade_id": "cell-ca0ec4f91f6f4305",
     "locked": true,
     "schema_version": 2,
     "solution": false
    }
   },
   "source": [
    "We'll call functions that we wish to parallelize *remote functions* because we intend to run them remotely in a different process instead of in the current process (the remote process could be on the same machine or on a different machine). A [*process*](https://en.wikipedia.org/wiki/Process_(computing)) consists of program code and activity. Programs, including those written with Ray, may consist of multiple processes which allow them to execute code in parallel.\n",
    "\n",
    "Remote functions are invoked with the `.remote()` method. You can pass function arguments to the `.remote` method which will immediately return an `ObjectID` for the return value of the function and launch a *task* that executes the function. This means that Ray returns an `ObjectID` repersenting the result of a function before the function finishes exceuting which can be useful if you'd like a long-running function to execute in the background while running other computations."
   ]
  },
  {
   "cell_type": "code",
   "execution_count": 11,
   "metadata": {
    "nbgrader": {
     "grade": false,
     "grade_id": "cell-de3098b37ac11615",
     "locked": true,
     "schema_version": 2,
     "solution": false
    }
   },
   "outputs": [
    {
     "name": "stdout",
     "output_type": "stream",
     "text": [
      "\n",
      ">>> result_id = square_ray.remote(42)\n",
      "        result_id's type is \u001b[34m <class 'ray._raylet.ObjectID'> \u001b[39m\n",
      "        and its value is \u001b[34m ObjectID(01000000c9804710a163df78e8c8a00613f98e71) \u001b[39m\n",
      ">>> result = ray.get(result_id)    \n",
      "        result's type is \u001b[34m <class 'int'> \u001b[39m\n",
      "        and its value is \u001b[34m 1764 \u001b[39m\n",
      ">>> 42**2\n",
      "       \u001b[34m 1764  \u001b[39m\n",
      "\n"
     ]
    }
   ],
   "source": [
    "result_id = square_ray.remote(42)\n",
    "\n",
    "result = ray.get(result_id)\n",
    "\n",
    "print(f\"\"\"\n",
    ">>> result_id = square_ray.remote(42)\n",
    "        result_id's type is {Fore.BLUE} {type(result_id)} {Fore.RESET}\n",
    "        and its value is {Fore.BLUE} {result_id} {Fore.RESET}\n",
    ">>> result = ray.get(result_id)    \n",
    "        result's type is {Fore.BLUE} {type(result)} {Fore.RESET}\n",
    "        and its value is {Fore.BLUE} {result} {Fore.RESET}\n",
    ">>> 42**2\n",
    "       {Fore.BLUE} {square(42)}  {Fore.RESET}\n",
    "\"\"\")"
   ]
  },
  {
   "cell_type": "markdown",
   "metadata": {
    "nbgrader": {
     "grade": false,
     "grade_id": "q1b",
     "locked": true,
     "schema_version": 2,
     "solution": false
    }
   },
   "source": [
    "### Question 1b\n",
    "- Create a new function `slow_function_ray` using the @ray.remote decorator to turn `slow_function` into a remote function. \n",
    "- Then call the remote function and get its result."
   ]
  },
  {
   "cell_type": "code",
   "execution_count": 30,
   "metadata": {},
   "outputs": [],
   "source": [
    "# This function is a proxy for a more interesting and computationally intensive function.\n",
    "def slow_function():\n",
    "    time.sleep(0.2)\n",
    "    return 42"
   ]
  },
  {
   "cell_type": "markdown",
   "metadata": {
    "deletable": false,
    "editable": false
   },
   "source": [
    "Now, implement `slow_function_ray` in the cell below.\n",
    "<!--\n",
    "BEGIN QUESTION\n",
    "name: q1b\n",
    "manual: false\n",
    "points: 1\n",
    "-->"
   ]
  },
  {
   "cell_type": "code",
   "execution_count": 34,
   "metadata": {},
   "outputs": [],
   "source": [
    "# Hint: use a decorator here\n",
    "@ray.remote\n",
    "def slow_function_ray():\n",
    "    time.sleep(0.2)\n",
    "    return 42 \n",
    "\n",
    "result = ray.get(slow_function_ray.remote())\n"
   ]
  },
  {
   "cell_type": "code",
   "execution_count": 32,
   "metadata": {
    "deletable": false,
    "editable": false
   },
   "outputs": [
    {
     "name": "stdout",
     "output_type": "stream",
     "text": [
      "~~~~~~~~~~~~~~~~~~~~~~~~~~~~~~~~~~~~~~~~~~~~~~~~~~~~~~~~~~~~~~~~~~~~~\n",
      "Running tests\n",
      "\n",
      "---------------------------------------------------------------------\n",
      "Test summary\n",
      "    Passed: 2\n",
      "    Failed: 0\n",
      "[ooooooooook] 100.0% passed\n",
      "\n"
     ]
    }
   ],
   "source": [
    "ok.grade(\"q1b\");"
   ]
  },
  {
   "cell_type": "code",
   "execution_count": null,
   "metadata": {},
   "outputs": [],
   "source": []
  },
  {
   "cell_type": "markdown",
   "metadata": {
    "deletable": false,
    "editable": false,
    "nbgrader": {
     "grade": false,
     "grade_id": "q1c",
     "locked": true,
     "schema_version": 2,
     "solution": false
    }
   },
   "source": [
    "### Question 1c\n",
    "Now let's verify that remote functions are actually running in parallel. `slow_function` takes around 0.2 seconds to run. If we execute 2 slow functions sequentially, executing both should take $ 2 \\times 0.2 = 0.4 $ seconds. However, if we run 2 slow functions in parallel, executing both should still take only 0.2 seconds.\n",
    "\n",
    "Let's try it out! Modify the code below so that calling slow_function twice takes only 0.2 seconds to run.\n",
    "\n",
    "**HINT:** use `slow_function_ray` and the fact that calling a remote function immediately returns an `ObjectID` even if the remote function isn't done executing yet. You might need to split the code into 2 lines that:\n",
    "1. Calls the remote functions and returns `ObjectID`s\n",
    "2. Gets the results of the remote functions from the `ObjectID`s\n",
    "\n",
    "<!--\n",
    "BEGIN QUESTION\n",
    "name: q1c\n",
    "manual: false\n",
    "points: 1\n",
    "-->"
   ]
  },
  {
   "cell_type": "code",
   "execution_count": 50,
   "metadata": {
    "nbgrader": {
     "grade": false,
     "grade_id": "q1c-answer",
     "locked": false,
     "schema_version": 2,
     "solution": true
    }
   },
   "outputs": [
    {
     "name": "stdout",
     "output_type": "stream",
     "text": [
      "Time to compute results: \u001b[34m 0.22604 \u001b[39m seconds\n"
     ]
    },
    {
     "data": {
      "text/plain": [
       "[42, 42]"
      ]
     },
     "execution_count": 50,
     "metadata": {},
     "output_type": "execute_result"
    }
   ],
   "source": [
    "start_time = time.perf_counter()\n",
    "\n",
    "# YOUR CODE HERE: \n",
    "# Make the following line execute in 0.2 seconds using Ray\n",
    "# results = [slow_function() for _ in range(2)]\n",
    "\n",
    "result_ids = slow_function_ray.remote()\n",
    "results = [ray.get(result_ids) for _ in range(2)]\n",
    "\n",
    "end_time = time.perf_counter()\n",
    "\n",
    "print(f\"Time to compute results: {Fore.BLUE} {end_time - start_time :.5f} {Fore.RESET} seconds\")\n",
    "results"
   ]
  },
  {
   "cell_type": "code",
   "execution_count": 51,
   "metadata": {
    "deletable": false,
    "editable": false
   },
   "outputs": [
    {
     "name": "stdout",
     "output_type": "stream",
     "text": [
      "~~~~~~~~~~~~~~~~~~~~~~~~~~~~~~~~~~~~~~~~~~~~~~~~~~~~~~~~~~~~~~~~~~~~~\n",
      "Running tests\n",
      "\n",
      "---------------------------------------------------------------------\n",
      "Test summary\n",
      "    Passed: 2\n",
      "    Failed: 0\n",
      "[ooooooooook] 100.0% passed\n",
      "\n"
     ]
    }
   ],
   "source": [
    "ok.grade(\"q1c\");"
   ]
  },
  {
   "cell_type": "markdown",
   "metadata": {
    "nbgrader": {
     "grade": false,
     "grade_id": "cell-bc541ff3d6bf4d30",
     "locked": true,
     "schema_version": 2,
     "solution": false
    }
   },
   "source": [
    "Arguments to remote functions can either be regular Python objects or `ObjectID`s. Passing `ObjectID`s as arguments can be useful for calling remote functions on the results of other remote functions. This allows you to initiate tasks that depend on other tasks before any of the tasks complete.\n",
    "\n",
    "Therefore, the following is equivalent!"
   ]
  },
  {
   "cell_type": "code",
   "execution_count": 54,
   "metadata": {
    "nbgrader": {
     "grade": false,
     "grade_id": "cell-304048d399698d94",
     "locked": true,
     "schema_version": 2,
     "solution": false
    }
   },
   "outputs": [
    {
     "name": "stdout",
     "output_type": "stream",
     "text": [
      "\u001b[34m 1764 == 1764 \u001b[39m\n"
     ]
    }
   ],
   "source": [
    "# Call square_ray on a python object\n",
    "result1_id = square_ray.remote(42)\n",
    "\n",
    "# Call square_ray on an ObjectID\n",
    "arg_id = ray.put(42)\n",
    "result2_id = square_ray.remote(arg_id)\n",
    "result1, result2 = ray.get([result1_id, result2_id])\n",
    "\n",
    "print(f\"{Fore.BLUE} {result1} == {result2} {Fore.RESET}\")"
   ]
  },
  {
   "cell_type": "markdown",
   "metadata": {},
   "source": [
    "A [*task*](https://en.wikipedia.org/wiki/Task_%28computing%29) is a loosely-defined term referring to a unit of work. In the context of Ray, tasks correspond to code which Ray executes. Calling a remote function corresponds to creating a task."
   ]
  },
  {
   "cell_type": "markdown",
   "metadata": {
    "nbgrader": {
     "grade": false,
     "grade_id": "q1d",
     "locked": true,
     "schema_version": 2,
     "solution": false
    }
   },
   "source": [
    "### Question 1d\n",
    "Let's compute $5^8$ by applying `square_ray` 3 times. The code below computes $5^8$ using `square` defined above."
   ]
  },
  {
   "cell_type": "code",
   "execution_count": 55,
   "metadata": {},
   "outputs": [
    {
     "name": "stdout",
     "output_type": "stream",
     "text": [
      "5^8 = \u001b[34m 390625 \u001b[39m\n"
     ]
    }
   ],
   "source": [
    "result = 5\n",
    "for _ in range(3):\n",
    "    result = square(result)\n",
    "\n",
    "print(f\"5^8 = {Fore.BLUE} {result} {Fore.RESET}\")"
   ]
  },
  {
   "cell_type": "markdown",
   "metadata": {
    "deletable": false,
    "editable": false
   },
   "source": [
    "Implement the code above, but now use `square_ray.remote` with only 1 call to `ray.get`.\n",
    "<!--\n",
    "BEGIN QUESTION\n",
    "name: q1d\n",
    "manual: false\n",
    "points: 1\n",
    "-->"
   ]
  },
  {
   "cell_type": "code",
   "execution_count": 64,
   "metadata": {
    "nbgrader": {
     "grade": false,
     "grade_id": "q1d-answer",
     "locked": false,
     "schema_version": 2,
     "solution": true
    }
   },
   "outputs": [
    {
     "data": {
      "text/plain": [
       "390625"
      ]
     },
     "execution_count": 64,
     "metadata": {},
     "output_type": "execute_result"
    }
   ],
   "source": [
    "x = 5\n",
    "for _ in range(3):\n",
    "    x = square_ray.remote(x)\n",
    "    \n",
    "result = ray.get(x)\n",
    "result"
   ]
  },
  {
   "cell_type": "code",
   "execution_count": 63,
   "metadata": {
    "deletable": false,
    "editable": false
   },
   "outputs": [
    {
     "name": "stdout",
     "output_type": "stream",
     "text": [
      "~~~~~~~~~~~~~~~~~~~~~~~~~~~~~~~~~~~~~~~~~~~~~~~~~~~~~~~~~~~~~~~~~~~~~\n",
      "Running tests\n",
      "\n",
      "---------------------------------------------------------------------\n",
      "Test summary\n",
      "    Passed: 1\n",
      "    Failed: 0\n",
      "[ooooooooook] 100.0% passed\n",
      "\n"
     ]
    }
   ],
   "source": [
    "ok.grade(\"q1d\");"
   ]
  },
  {
   "cell_type": "markdown",
   "metadata": {
    "nbgrader": {
     "grade": false,
     "grade_id": "cell-8c92b47e2234f69e",
     "locked": true,
     "schema_version": 2,
     "solution": false
    }
   },
   "source": [
    "## 2: Parallel Bootstrap\n",
    "\n",
    "In previous lab, you learned how to use bootstrap to estimate mean and variance. Now, let's parallelize bootstrap using Ray in order to speed up bootstrap.\n",
    "\n",
    "Below we have the solution for how to implement `simple_resample` and `boostrap_serial`, they should look familiar to you. "
   ]
  },
  {
   "cell_type": "code",
   "execution_count": 66,
   "metadata": {
    "nbgrader": {
     "grade": false,
     "grade_id": "cell-343b1992231109c8",
     "locked": true,
     "schema_version": 2,
     "solution": false
    }
   },
   "outputs": [],
   "source": [
    "def simple_resample(n):\n",
    "    \"\"\"\n",
    "    Args:\n",
    "        n: an integer\n",
    "        \n",
    "    Returns:\n",
    "        an array of length n of a random sample with replacement of\n",
    "        the integers 0, 1, ..., n-1\n",
    "    \"\"\"\n",
    "    return np.random.randint(low=0, high=n, size=n)\n",
    "\n",
    "def bootstrap_serial(boot_pop, statistic, resample, replicates = 1000):\n",
    "    \"\"\"\n",
    "    Args:\n",
    "        boot_pop: an array of shape n x d.\n",
    "        statistic: a function which takes boot_pop and returns a number.\n",
    "        resample: a function which takes n and returns a random sample from the integers [0, n)\n",
    "        replicates: the number of resamples\n",
    "        \n",
    "    Returns:\n",
    "        an array of length replicates, each entry being the statistic computed on a bootstrap sample of the data.\n",
    "    \"\"\"\n",
    "    n = len(boot_pop)\n",
    "    resample_estimates = np.array([statistic(boot_pop[resample(n)]) for _ in range(replicates)])\n",
    "    return resample_estimates"
   ]
  },
  {
   "cell_type": "markdown",
   "metadata": {
    "deletable": false,
    "editable": false,
    "nbgrader": {
     "grade": false,
     "grade_id": "cell-4f43fcc4e4cf2881",
     "locked": true,
     "schema_version": 2,
     "solution": false
    }
   },
   "source": [
    "### Question 2a\n",
    "\n",
    "Use the @ray.remote decorator along with the `bootstrap_serial` function defined above to write a `bootstrap_remote` function.\n",
    "\n",
    "<!--\n",
    "BEGIN QUESTION\n",
    "name: q2a\n",
    "manual: false\n",
    "points: 1\n",
    "-->"
   ]
  },
  {
   "cell_type": "code",
   "execution_count": 68,
   "metadata": {
    "nbgrader": {
     "grade": false,
     "grade_id": "cell-e0c1fc2071fa622c",
     "locked": false,
     "schema_version": 2,
     "solution": true
    }
   },
   "outputs": [],
   "source": [
    "# YOUR CODE HERE: turn `bootstrap_remote` into a remote function\n",
    "@ray.remote\n",
    "def bootstrap_remote(boot_pop, statistic, resample, replicates = 1000):\n",
    "    \"\"\"Run bootstrap_serial remotely\n",
    "    Args:\n",
    "        boot_pop: an array of shape n x d.\n",
    "        statistic: a function which takes boot_pop and returns a number.\n",
    "        resample: a function which takes n and returns a random sample from the integers [0, n)\n",
    "        replicates: the number of resamples\n",
    "        \n",
    "    Returns:\n",
    "        an array of length replicates, each entry being the statistic computed on a bootstrap sample of the data.\n",
    "    \"\"\"\n",
    "    n = len(boot_pop)\n",
    "    resample_estimates = np.array([statistic(boot_pop[resample(n)]) for _ in range(replicates)])\n",
    "    return resample_estimates\n",
    "    "
   ]
  },
  {
   "cell_type": "code",
   "execution_count": 69,
   "metadata": {
    "deletable": false,
    "editable": false
   },
   "outputs": [
    {
     "name": "stdout",
     "output_type": "stream",
     "text": [
      "~~~~~~~~~~~~~~~~~~~~~~~~~~~~~~~~~~~~~~~~~~~~~~~~~~~~~~~~~~~~~~~~~~~~~\n",
      "Running tests\n",
      "\n",
      "---------------------------------------------------------------------\n",
      "Test summary\n",
      "    Passed: 1\n",
      "    Failed: 0\n",
      "[ooooooooook] 100.0% passed\n",
      "\n"
     ]
    }
   ],
   "source": [
    "ok.grade(\"q2a\");"
   ]
  },
  {
   "cell_type": "code",
   "execution_count": 70,
   "metadata": {},
   "outputs": [],
   "source": [
    "# Load data\n",
    "data = pd.read_csv(\"grades_sample.csv\")\n",
    "boot_pop = np.array(data[\"Grade\"])\n",
    "num_bootstrap_resample = 500000"
   ]
  },
  {
   "cell_type": "code",
   "execution_count": 71,
   "metadata": {
    "nbgrader": {
     "grade": false,
     "grade_id": "cell-c7d09ce6105a8903",
     "locked": true,
     "schema_version": 2,
     "solution": false
    }
   },
   "outputs": [
    {
     "name": "stdout",
     "output_type": "stream",
     "text": [
      "Bootstrap serial completed in \u001b[34m 14.15 seconds \u001b[39m\n"
     ]
    }
   ],
   "source": [
    "start_time = time.perf_counter()\n",
    "boot_sample_means_serial = bootstrap_serial(boot_pop, np.mean, simple_resample, num_bootstrap_resample)\n",
    "bootstrap_serial_time = time.perf_counter() - start_time\n",
    "print(f\"Bootstrap serial completed in {Fore.BLUE} {bootstrap_serial_time:.2f} seconds {Fore.RESET}\")"
   ]
  },
  {
   "cell_type": "markdown",
   "metadata": {
    "deletable": false,
    "editable": false,
    "nbgrader": {
     "grade": false,
     "grade_id": "cell-4bcb5098798c5f34",
     "locked": true,
     "schema_version": 2,
     "solution": false
    }
   },
   "source": [
    "### Question 2b\n",
    "\n",
    "That took a while to run! Now, let's implement bootstrap in parallel using your new `bootstrap_remote` function.\n",
    "- First, create 10 tasks by calling `bootstrap_remote` which each generate `num_bootstrap_resample // 10` resamples.\n",
    "- Then, get the results of the tasks.\n",
    "- Finally, merge all the results into a single array.\n",
    "\n",
    "<!--\n",
    "BEGIN QUESTION\n",
    "name: q2b\n",
    "manual: false\n",
    "points: 1\n",
    "-->"
   ]
  },
  {
   "cell_type": "code",
   "execution_count": 91,
   "metadata": {
    "nbgrader": {
     "grade": false,
     "grade_id": "cell-b741497e36ef5a4e",
     "locked": false,
     "schema_version": 2,
     "solution": true
    }
   },
   "outputs": [
    {
     "name": "stdout",
     "output_type": "stream",
     "text": [
      "Bootstrap parallel completed in \u001b[34m 3.06 seconds \u001b[39m\n"
     ]
    }
   ],
   "source": [
    "start_time = time.perf_counter()\n",
    "NUM_TASKS = 10\n",
    "task_ids = [bootstrap_remote.remote(boot_pop, np.mean, simple_resample,replicates = num_bootstrap_resample // 10) for _ in range(NUM_TASKS)]\n",
    "tasks = ray.get(task_ids)[0]\n",
    "boot_sample_means_parallel=np.array(tasks)\n",
    "bootstrap_parallel_time = time.perf_counter() - start_time\n",
    "print(f\"Bootstrap parallel completed in {Fore.BLUE} {bootstrap_parallel_time:.2f} seconds {Fore.RESET}\")"
   ]
  },
  {
   "cell_type": "code",
   "execution_count": 92,
   "metadata": {
    "deletable": false,
    "editable": false
   },
   "outputs": [
    {
     "name": "stdout",
     "output_type": "stream",
     "text": [
      "~~~~~~~~~~~~~~~~~~~~~~~~~~~~~~~~~~~~~~~~~~~~~~~~~~~~~~~~~~~~~~~~~~~~~\n",
      "Running tests\n",
      "\n",
      "---------------------------------------------------------------------\n",
      "Test summary\n",
      "    Passed: 2\n",
      "    Failed: 0\n",
      "[ooooooooook] 100.0% passed\n",
      "\n"
     ]
    }
   ],
   "source": [
    "ok.grade(\"q2b\");"
   ]
  },
  {
   "cell_type": "markdown",
   "metadata": {
    "nbgrader": {
     "grade": false,
     "grade_id": "cell-52447fecff96812f",
     "locked": true,
     "schema_version": 2,
     "solution": false
    }
   },
   "source": [
    "Now let's examine the resulting distributions. Do they look similar?"
   ]
  },
  {
   "cell_type": "code",
   "execution_count": 94,
   "metadata": {
    "nbgrader": {
     "grade": false,
     "grade_id": "cell-5b421389b46c2b59",
     "locked": true,
     "schema_version": 2,
     "solution": false
    }
   },
   "outputs": [
    {
     "data": {
      "image/png": "[encoded data removed]",
      "text/plain": [
       "<Figure size 576x288 with 2 Axes>"
      ]
     },
     "metadata": {
      "needs_background": "light"
     },
     "output_type": "display_data"
    }
   ],
   "source": [
    "plt.figure(figsize=(8, 4))\n",
    "plt.subplot(121)\n",
    "plt.title(\"Serial Bootstrap Distribution\")\n",
    "plt.xlabel(r\"$\\bar{X}$\")\n",
    "plt.ylabel(\"Frequency\");\n",
    "sns.distplot(boot_sample_means_serial)\n",
    "\n",
    "plt.subplot(122)\n",
    "plt.title(\"Parallel Bootstrap Distribution\")\n",
    "plt.xlabel(r\"$\\bar{X}$\")\n",
    "plt.ylabel(\"Frequency\");\n",
    "sns.distplot(boot_sample_means_parallel);"
   ]
  },
  {
   "cell_type": "markdown",
   "metadata": {
    "nbgrader": {
     "grade": false,
     "grade_id": "cell-214612ee2e95e181",
     "locked": true,
     "schema_version": 2,
     "solution": false
    }
   },
   "source": [
    "At a high level, you parallelized a slow piece of code by splitting it into many tasks, and then *reduced* the result of the individual tasks to produce a output identical to the slow code.\n",
    "\n",
    "In addition, you specifically parallelized the `for` loop in `bootstrap_serial` to speed up bootstrap. Parallelizing loops can often speed up code which allows data scientists to process data more quickly.\n",
    "\n",
    "This idea of parallelizing certain code and reducing the results led to a more general programming model used to reason about and implement parallel programs called MapReduce. We'll introduce and implement MapReduce in Problem 3."
   ]
  },
  {
   "cell_type": "markdown",
   "metadata": {
    "nbgrader": {
     "grade": false,
     "grade_id": "cell-9793d86189e615e7",
     "locked": true,
     "schema_version": 2,
     "solution": false
    }
   },
   "source": [
    "## 3: Analyzing Word Frequency using MapReduce"
   ]
  },
  {
   "cell_type": "markdown",
   "metadata": {
    "nbgrader": {
     "grade": false,
     "grade_id": "cell-940d8be22eacf849",
     "locked": true,
     "schema_version": 2,
     "solution": false
    }
   },
   "source": [
    "[MapReduce](https://en.wikipedia.org/wiki/MapReduce) a computational pattern for computing aggregate statistics of large datasets. It is the core primitive in systems like MapReduce, Hadoop, and Spark.\n",
    "\n",
    "At its core, MapReduce consists of two primitives:\n",
    "\n",
    "- The **map** transformation takes a dataset and a function and applies the function to each data point.\n",
    "- The **reduce** transformation aggregates the output of the map stage.\n",
    "\n",
    "For example, suppose that our starting point is a collection of documents. If we wish to count the number of occurrences of each word in the document, we can first apply a \"map\" transformation, which turns each document into a dictionary mapping words to the number of occurrences within that document. Then we can apply the \"reduce\" transformation, which sums the counts for each word.\n",
    "\n",
    "The two primitives, **map** and **reduce** are given to you below."
   ]
  },
  {
   "cell_type": "code",
   "execution_count": 97,
   "metadata": {
    "nbgrader": {
     "grade": false,
     "grade_id": "q2a-answer",
     "locked": false,
     "schema_version": 2,
     "solution": true
    }
   },
   "outputs": [],
   "source": [
    "def map_parallel(function, arglist):\n",
    "    \"\"\"Apply a function to each element of a list in parallel.\n",
    "    Args:\n",
    "        function: a remote function that takes in one argument as input and outputs an ObjectID\n",
    "        arglist: a list of arguments that the function will be applied to\n",
    "    Returns:\n",
    "        A list of ObjectIDs\n",
    "    \"\"\"\n",
    "    if not isinstance(arglist, list):\n",
    "        raise ValueError(\"The arglist argument must be a list.\")\n",
    "    \n",
    "    if not hasattr(function, \"remote\"):\n",
    "        raise ValueError(\"The function argument must be a remote function.\")\n",
    "            \n",
    "    return [function.remote(arg) for arg in arglist]"
   ]
  },
  {
   "cell_type": "code",
   "execution_count": 98,
   "metadata": {
    "nbgrader": {
     "grade": false,
     "grade_id": "q2b-answer",
     "locked": false,
     "schema_version": 2,
     "solution": true
    }
   },
   "outputs": [],
   "source": [
    "def reduce_parallel(function, items):\n",
    "    \"\"\"Apply a function repeatedly to pairs of items until only 1 remains.\n",
    "    \n",
    "    Args:\n",
    "        function: remote function that takes 2 items as input and returns 1 new item.\n",
    "        items: a list of items which are reduced to 1 output by repeatedly calling function.\n",
    "    \n",
    "    Returns an ObjectID.\n",
    "    \n",
    "    Hint:\n",
    "        1. Divide the list of items into pairs.\n",
    "        2. Reduce each pair to generate a new list of items.\n",
    "        3. If there was an unpaired item in (1), add it to the new list.\n",
    "        The new list should be about 1/2 the size of the old list.\n",
    "        4. If there is only 1 item in the new list, return that item. Otherwise, repeat steps 1-3.\n",
    "        \n",
    "        This algorithm is called a \"tree-reduce\", where the original items are the leaves\n",
    "        and the final result is the root. The tree is balanced. Each non-leaf node has 2 child nodes.\n",
    "        Each non-root node has 1 parent node.\n",
    "    \"\"\"\n",
    "    if not isinstance(items, list):\n",
    "        raise ValueError(\"The items argument must be a list.\")\n",
    "\n",
    "    if not hasattr(function, \"remote\"):\n",
    "        raise ValueError(\"The function argument must be a remote function.\")\n",
    "       \n",
    "    items = items.copy()   # Avoids mutating the items argument\n",
    "        \n",
    "    if len(items) == 1:\n",
    "        return ray.put(items[0])\n",
    "    \n",
    "    while len(items) > 1:\n",
    "        a = items.pop(0)\n",
    "        b = items.pop(0)\n",
    "        \n",
    "        oid = function.remote(a, b)\n",
    "        items.append(oid)\n",
    "        \n",
    "    return items[0]"
   ]
  },
  {
   "cell_type": "markdown",
   "metadata": {
    "nbgrader": {
     "grade": false,
     "grade_id": "cell-16ef564de43de85a",
     "locked": true,
     "schema_version": 2,
     "solution": false
    }
   },
   "source": [
    "Now let's analyze the frequency of words used in Shakespeare. For this question, we'll need to do the following:\n",
    "1. Download the text of a few of Shakespeare's plays.\n",
    "2. For each play, count the number of times each word occurs.\n",
    "3. Merge the word frequencies across plays.\n",
    "\n",
    "We've provided some helper functions that will help you with this problem below."
   ]
  },
  {
   "cell_type": "code",
   "execution_count": 99,
   "metadata": {
    "nbgrader": {
     "grade": false,
     "grade_id": "cell-52a8f14adcbac113",
     "locked": true,
     "schema_version": 2,
     "solution": false
    }
   },
   "outputs": [],
   "source": [
    "def download_text(url):\n",
    "    \"\"\"Returns the string of text on some webpage\"\"\"\n",
    "    request = urllib.request.urlopen(url)\n",
    "    return request.read().decode(\"utf-8\")\n",
    "\n",
    "\n",
    "@ray.remote\n",
    "def download_text_remote(url):\n",
    "    return download_text(url)"
   ]
  },
  {
   "cell_type": "code",
   "execution_count": 100,
   "metadata": {
    "nbgrader": {
     "grade": false,
     "grade_id": "cell-f61d41bd8d4dbcad",
     "locked": true,
     "schema_version": 2,
     "solution": false
    }
   },
   "outputs": [],
   "source": [
    "def count_words(text):\n",
    "    \"\"\"Finds the frequency of each word in a string\"\"\"\n",
    "    assert isinstance(text, str), \"text should be a string\"\n",
    "    \n",
    "    frequency = dict()\n",
    "    \n",
    "    text = text.lower()\n",
    "    matches = re.findall(r\"\\b\\w+\\b\", text)\n",
    "    \n",
    "    for word in matches:\n",
    "        count = frequency.get(word, 0)\n",
    "        frequency[word] = count + 1\n",
    "        \n",
    "    return frequency\n",
    "\n",
    "\n",
    "@ray.remote\n",
    "def count_words_remote(text):\n",
    "    return count_words(text)"
   ]
  },
  {
   "cell_type": "code",
   "execution_count": 101,
   "metadata": {
    "nbgrader": {
     "grade": false,
     "grade_id": "cell-511696b791d74ac9",
     "locked": true,
     "schema_version": 2,
     "solution": false
    }
   },
   "outputs": [],
   "source": [
    "def merge_dicts(a, b):\n",
    "    \"\"\"Merges 2 dictionaries such that the result contains keys of both a and b.\n",
    "    \n",
    "    If a key k is in a and in b, result[k] = a[k] + b[k].\n",
    "    \"\"\"\n",
    "    result = a.copy()  # Don't mutate the input dictionaries\n",
    "    for key, value in b.items():\n",
    "        result[key] = result.get(key, 0) + value\n",
    "        \n",
    "    return result\n",
    "\n",
    "\n",
    "@ray.remote\n",
    "def merge_dicts_remote(a, b):\n",
    "    return merge_dicts(a, b)"
   ]
  },
  {
   "cell_type": "code",
   "execution_count": 102,
   "metadata": {
    "nbgrader": {
     "grade": false,
     "grade_id": "cell-a85664ec269c1dea",
     "locked": true,
     "schema_version": 2,
     "solution": false
    }
   },
   "outputs": [],
   "source": [
    "urls = [\n",
    "    \"https://www.gutenberg.org/files/1524/1524-0.txt\",       # Hamlet\n",
    "    \"https://www.gutenberg.org/cache/epub/2264/pg2264.txt\",  # Macbeth\n",
    "    \"https://www.gutenberg.org/cache/epub/2267/pg2267.txt\",  # Othello\n",
    "    \"https://www.gutenberg.org/cache/epub/1777/pg1777.txt\",  # Romeo and Juliet\n",
    "]"
   ]
  },
  {
   "cell_type": "markdown",
   "metadata": {
    "nbgrader": {
     "grade": false,
     "grade_id": "cell-308a358634cd8379",
     "locked": true,
     "schema_version": 2,
     "solution": false
    }
   },
   "source": [
    "### Question 3\n",
    "Let's now use the MapReduce API to speed up the code in the cell below. This code computes word frequencies across several of Shakespeare's works."
   ]
  },
  {
   "cell_type": "code",
   "execution_count": 103,
   "metadata": {
    "nbgrader": {
     "grade": false,
     "grade_id": "cell-fe33c7f16a5260e5",
     "locked": true,
     "schema_version": 2,
     "solution": false
    }
   },
   "outputs": [
    {
     "name": "stdout",
     "output_type": "stream",
     "text": [
      "Word frequency count serial completed in 3.0524775981903076 seconds\n"
     ]
    }
   ],
   "source": [
    "# Parallelize the following code using the MapReduce API\n",
    "start_time = time.time()\n",
    "\n",
    "total_frequencies_serial = {}\n",
    "for url in urls:\n",
    "    # Download the text of the play\n",
    "    text = download_text(url)\n",
    "    # Count the frequency of each word in the play\n",
    "    frequencies = count_words(text)\n",
    "    # Add the play's word frequencies to the global word frequencies\n",
    "    total_frequencies_serial = merge_dicts(total_frequencies_serial, frequencies)\n",
    "    \n",
    "word_freq_time_serial = time.time() - start_time\n",
    "print(\"Word frequency count serial completed in {} seconds\".format(word_freq_time_serial))"
   ]
  },
  {
   "cell_type": "markdown",
   "metadata": {
    "deletable": false,
    "editable": false
   },
   "source": [
    "In the cell below, speed up the code from the above cell using both `map_parallel` and `reduce_parallel`.\n",
    "\n",
    "**HINT:** Parallelizing loops often speeds up code.\n",
    "\n",
    "<!--\n",
    "BEGIN QUESTION\n",
    "name: q3\n",
    "manual: false\n",
    "points: 1\n",
    "-->"
   ]
  },
  {
   "cell_type": "code",
   "execution_count": 109,
   "metadata": {
    "nbgrader": {
     "grade": false,
     "grade_id": "q3-answer",
     "locked": false,
     "schema_version": 2,
     "solution": true
    }
   },
   "outputs": [
    {
     "name": "stdout",
     "output_type": "stream",
     "text": [
      "Word frequency count parallel completed in 0.9336409568786621 seconds\n"
     ]
    }
   ],
   "source": [
    "start_time = time.time()\n",
    "\n",
    "# Try to do each of these in one line!\n",
    "text_ids = map_parallel(download_text_remote,urls)\n",
    "frequency_ids = map_parallel(count_words_remote,text_ids)\n",
    "total_frequency_id = ray.get(frequency_ids)\n",
    "total_frequencies_ray = ray.get(reduce_parallel(merge_dicts_remote, frequency_ids))\n",
    "\n",
    "word_freq_time_parallel = time.time() - start_time\n",
    "print(\"Word frequency count parallel completed in {} seconds\".format(word_freq_time_parallel))"
   ]
  },
  {
   "cell_type": "code",
   "execution_count": 110,
   "metadata": {
    "deletable": false,
    "editable": false
   },
   "outputs": [
    {
     "name": "stdout",
     "output_type": "stream",
     "text": [
      "~~~~~~~~~~~~~~~~~~~~~~~~~~~~~~~~~~~~~~~~~~~~~~~~~~~~~~~~~~~~~~~~~~~~~\n",
      "Running tests\n",
      "\n",
      "---------------------------------------------------------------------\n",
      "Test summary\n",
      "    Passed: 2\n",
      "    Failed: 0\n",
      "[ooooooooook] 100.0% passed\n",
      "\n"
     ]
    }
   ],
   "source": [
    "ok.grade(\"q3\");"
   ]
  },
  {
   "cell_type": "markdown",
   "metadata": {
    "nbgrader": {
     "grade": false,
     "grade_id": "cell-c9d9c250e73b7c65",
     "locked": true,
     "schema_version": 2,
     "solution": false
    }
   },
   "source": [
    "Let's examine some of Shakespeare's most used words. Surprised?"
   ]
  },
  {
   "cell_type": "code",
   "execution_count": 111,
   "metadata": {
    "nbgrader": {
     "grade": false,
     "grade_id": "cell-8dfded19a18be090",
     "locked": true,
     "schema_version": 2,
     "solution": false
    }
   },
   "outputs": [
    {
     "data": {
      "text/plain": [
       "['the', 'and', 'to', 'i', 'of', 'a', 'you', 'my', 'that', 'in']"
      ]
     },
     "execution_count": 111,
     "metadata": {},
     "output_type": "execute_result"
    }
   ],
   "source": [
    "def most_used_words(freq_dict, num_words=10):\n",
    "    ordered_keys = sorted(freq_dict, key=freq_dict.get, reverse=True)\n",
    "    return [word for _, word in zip(range(num_words), ordered_keys)]\n",
    "\n",
    "most_used_words(total_frequencies_ray, 10)"
   ]
  },
  {
   "cell_type": "markdown",
   "metadata": {},
   "source": [
    "# Now you have completed the lab!"
   ]
  },
  {
   "cell_type": "markdown",
   "metadata": {},
   "source": [
    "## Submission\n",
    "\n",
    "Congrats! You are finished with this assignment. Please don't forget to submit by Tuesday at 11:59 pm!\n",
    "Project #2 is also due tonight. "
   ]
  },
  {
   "cell_type": "markdown",
   "metadata": {
    "nbgrader": {
     "grade": false,
     "grade_id": "cell-bc4cf6d789ac7ed2",
     "locked": true,
     "schema_version": 2,
     "solution": false
    }
   },
   "source": [
    "## Optional: Ray Actors\n",
    "So far, we have explored Ray's *remote functions*. The tasks generated by invoking remote functions are stateless in the sense that they are intended to map inputs to outputs without side effects. But suppose we want state to be shared and mutated by multiple tasks. In this case, we can use [Ray's *actors*](https://ray.readthedocs.io/en/latest/actors.html) to encapsulate mutable state.\n",
    "\n",
    "*Optional:* Take a look at one interesting example of how to implement [distributed training with a parameter server using Ray actors](https://ray-project.github.io/2018/07/15/parameter-server-in-fifteen-lines.html). \n",
    "\n",
    "To create an actor, we decorate a Python class with the `@ray.remote` decorator."
   ]
  },
  {
   "cell_type": "code",
   "execution_count": 112,
   "metadata": {
    "nbgrader": {
     "grade": false,
     "grade_id": "cell-fd84d64d0ccc1729",
     "locked": true,
     "schema_version": 2,
     "solution": false
    }
   },
   "outputs": [],
   "source": [
    "@ray.remote\n",
    "class Counter(object):\n",
    "    def __init__(self):\n",
    "        self.value = 0\n",
    "    \n",
    "    def increment(self):\n",
    "        self.value += 1\n",
    "    \n",
    "    def get_value(self):\n",
    "        return self.value"
   ]
  },
  {
   "cell_type": "markdown",
   "metadata": {
    "nbgrader": {
     "grade": false,
     "grade_id": "cell-b0d6b2dd965571da",
     "locked": true,
     "schema_version": 2,
     "solution": false
    }
   },
   "source": [
    "We can create an actor instance by invoking `.remote()` on the actor class. This starts a new actor process, which holds a copy of the `Counter` object."
   ]
  },
  {
   "cell_type": "code",
   "execution_count": 113,
   "metadata": {
    "nbgrader": {
     "grade": false,
     "grade_id": "cell-0481ce1a9e5aba1b",
     "locked": true,
     "schema_version": 2,
     "solution": false
    }
   },
   "outputs": [],
   "source": [
    "c = Counter.remote()"
   ]
  },
  {
   "cell_type": "markdown",
   "metadata": {
    "nbgrader": {
     "grade": false,
     "grade_id": "cell-732ef8ed0b021f9a",
     "locked": true,
     "schema_version": 2,
     "solution": false
    }
   },
   "source": [
    "We can run tasks on the actor process by invoking the actor's methods. These methods can mutate the actor's internal state (in this case, the field `self.value`). The actor executes tasks serially."
   ]
  },
  {
   "cell_type": "code",
   "execution_count": 114,
   "metadata": {
    "nbgrader": {
     "grade": false,
     "grade_id": "cell-67a29b4825d539d7",
     "locked": true,
     "schema_version": 2,
     "solution": false
    }
   },
   "outputs": [
    {
     "name": "stdout",
     "output_type": "stream",
     "text": [
      "The actor's value is 1.\n",
      "The actor's value is 2.\n"
     ]
    }
   ],
   "source": [
    "x1_id = c.increment.remote()\n",
    "print(\"The actor's value is {}.\".format(ray.get(c.get_value.remote())))\n",
    "\n",
    "x2_id = c.increment.remote()\n",
    "print(\"The actor's value is {}.\".format(ray.get(c.get_value.remote())))"
   ]
  },
  {
   "cell_type": "markdown",
   "metadata": {
    "nbgrader": {
     "grade": false,
     "grade_id": "cell-df8a1f4ff42d8e84",
     "locked": true,
     "schema_version": 2,
     "solution": false
    }
   },
   "source": [
    "Suppose we want multiple tasks, actors, or processes to invoke methods on a single actor. In this case, we can pass *actor handles* around between tasks. In the example below, we pass a handle to the counter actor to a handful of tasks executing in parallel."
   ]
  },
  {
   "cell_type": "code",
   "execution_count": 115,
   "metadata": {
    "nbgrader": {
     "grade": false,
     "grade_id": "cell-217811ba520bb99b",
     "locked": true,
     "schema_version": 2,
     "solution": false
    }
   },
   "outputs": [
    {
     "name": "stdout",
     "output_type": "stream",
     "text": [
      "The actor's value was 2 and now it is 42.\n"
     ]
    }
   ],
   "source": [
    "@ray.remote\n",
    "def increment_counter(c):\n",
    "    for _ in range(10):\n",
    "        x_id = c.increment.remote()\n",
    "\n",
    "    # Wait for the last increment call to complete before returning.\n",
    "    ray.get(x_id)\n",
    "\n",
    "\n",
    "initial_value = ray.get(c.get_value.remote())\n",
    "\n",
    "# Start 4 tasks that run in parallel and all increment the counter.\n",
    "increment_results = [increment_counter.remote(c) for _ in range(4)]\n",
    "\n",
    "# Wait for all tasks to finish\n",
    "ray.get(increment_results)\n",
    "\n",
    "new_value = ray.get(c.get_value.remote())\n",
    "\n",
    "print(\"The actor's value was {} and now it is {}.\".format(initial_value, new_value))\n",
    "assert new_value - initial_value == 4 * 10"
   ]
  },
  {
   "cell_type": "markdown",
   "metadata": {
    "nbgrader": {
     "grade": false,
     "grade_id": "cell-6bb141de5cf51759",
     "locked": true,
     "schema_version": 2,
     "solution": false
    }
   },
   "source": [
    "### Optional Question\n",
    "This question will take a different approach to solving the word-count problem from Question 3.\n",
    "\n",
    "Instead of launching four tasks that compute word counts and then aggregating the results on the \"driver\" process that issued the tasks, we are going to create a separate `ResultAggregator` actor for doing the aggregation. We will start four tasks that each compute frequencies for a given URL and then push those frequencies to the aggregator. The main \"driver\" process will then fetch the aggregated results from the aggregator.\n",
    "\n",
    "The code below implements a serial version of this."
   ]
  },
  {
   "cell_type": "code",
   "execution_count": 116,
   "metadata": {},
   "outputs": [],
   "source": [
    "class ResultAggregator:\n",
    "    \"\"\"Aggregates word frequencies\"\"\"\n",
    "    def __init__(self):\n",
    "        self.total_frequencies = {}\n",
    "    \n",
    "    def add_frequencies(self, frequencies):\n",
    "        \"\"\"Adds a new dictionary mapping words to word frequencies to the overall word frequencies\"\"\"\n",
    "        self.total_frequencies = merge_dicts(self.total_frequencies, frequencies)\n",
    "    \n",
    "    def get_frequencies(self):\n",
    "        \"\"\"Returns a dictionary mapping each word to its frequency\"\"\"\n",
    "        return self.total_frequencies\n",
    "\n",
    "\n",
    "def add_results(url, result_aggregator):\n",
    "    \"\"\"Downloads text from the url, counts the word frequencies, and adds the result to result_aggregator\"\"\"\n",
    "    # Download the text of the play\n",
    "    text = download_text(url)\n",
    "    # Count the frequency of each word in the play\n",
    "    frequencies = count_words(text)\n",
    "    # Add the results to the aggregator\n",
    "    done = result_aggregator.add_frequencies(frequencies)"
   ]
  },
  {
   "cell_type": "code",
   "execution_count": 117,
   "metadata": {
    "nbgrader": {
     "grade": false,
     "grade_id": "awefawefaewf",
     "locked": true,
     "schema_version": 2,
     "solution": false
    }
   },
   "outputs": [
    {
     "name": "stdout",
     "output_type": "stream",
     "text": [
      "Counting the words took 2.6878769397735596 seconds.\n"
     ]
    }
   ],
   "source": [
    "result_aggregator = ResultAggregator()\n",
    "\n",
    "start_time = time.time()\n",
    "\n",
    "get_and_add_frequencies = [add_results(url, result_aggregator) for url in urls]\n",
    "\n",
    "# Get the results\n",
    "total_frequencies = result_aggregator.get_frequencies()\n",
    "\n",
    "end_time = time.time()\n",
    "print(\"Counting the words took {} seconds.\".format(end_time - start_time))\n",
    "\n",
    "serial_words = most_used_words(total_frequencies, 10)"
   ]
  },
  {
   "cell_type": "markdown",
   "metadata": {
    "nbgrader": {
     "grade": false,
     "grade_id": "cell-e034af828b8433e9",
     "locked": true,
     "schema_version": 2,
     "solution": false
    }
   },
   "source": [
    "### Optional Question A\n",
    "\n",
    "Now implement a parallel version in which `ResultAggregator` is an actor, and `add_results` is a remote function."
   ]
  },
  {
   "cell_type": "code",
   "execution_count": 118,
   "metadata": {},
   "outputs": [],
   "source": [
    "@ray.remote \n",
    "class ResultAggregator(object):\n",
    "    \"\"\"Aggregates word frequencies\"\"\"\n",
    "    def __init__(self):\n",
    "        self.total_frequencies = {}\n",
    "    \n",
    "    def add_frequencies(self, frequencies):\n",
    "        \"\"\"Adds a new dictionary mapping words to word frequencies to the overall word frequencies\"\"\"\n",
    "        self.total_frequencies = merge_dicts(self.total_frequencies, frequencies)\n",
    "    \n",
    "    def get_frequencies(self):\n",
    "        \"\"\"Returns a dictionary mapping each word to its frequency\"\"\"\n",
    "        return self.total_frequencies\n",
    "\n",
    "@ray.remote\n",
    "def add_results(url, result_aggregator):\n",
    "    \"\"\"Downloads text from the url, counts the word frequencies, and adds the result to result_aggregator\"\"\"\n",
    "    # Write your solution below\n",
    "    text = ...\n",
    "    frequencies = ...\n",
    "    done = ..."
   ]
  },
  {
   "cell_type": "markdown",
   "metadata": {},
   "source": [
    "### Optional Question B\n",
    "\n",
    "Now use your modified `ResultAggregator` and `add_results` created above to count word frequencies. See the code cell directly above Question A for reference."
   ]
  },
  {
   "cell_type": "code",
   "execution_count": 119,
   "metadata": {},
   "outputs": [
    {
     "ename": "TypeError",
     "evalue": "Attempting to call `get` on the value Ellipsis, which is not an ray.ObjectID.",
     "output_type": "error",
     "traceback": [
      "\u001b[0;31m---------------------------------------------------------------------------\u001b[0m",
      "\u001b[0;31mTypeError\u001b[0m                                 Traceback (most recent call last)",
      "\u001b[0;32m<ipython-input-119-e946b7b6400e>\u001b[0m in \u001b[0;36m<module>\u001b[0;34m\u001b[0m\n\u001b[1;32m      8\u001b[0m \u001b[0;34m\u001b[0m\u001b[0m\n\u001b[1;32m      9\u001b[0m \u001b[0;31m# Wait for all add_results remote functions to complete\u001b[0m\u001b[0;34m\u001b[0m\u001b[0;34m\u001b[0m\u001b[0m\n\u001b[0;32m---> 10\u001b[0;31m \u001b[0mray\u001b[0m\u001b[0;34m.\u001b[0m\u001b[0mget\u001b[0m\u001b[0;34m(\u001b[0m\u001b[0mget_and_add_frequencies\u001b[0m\u001b[0;34m)\u001b[0m\u001b[0;34m\u001b[0m\u001b[0m\n\u001b[0m\u001b[1;32m     11\u001b[0m \u001b[0;34m\u001b[0m\u001b[0m\n\u001b[1;32m     12\u001b[0m \u001b[0;31m# Get the results from the actor\u001b[0m\u001b[0;34m\u001b[0m\u001b[0;34m\u001b[0m\u001b[0m\n",
      "\u001b[0;32m/srv/conda/envs/data100/lib/python3.6/site-packages/ray/worker.py\u001b[0m in \u001b[0;36mget\u001b[0;34m(object_ids)\u001b[0m\n\u001b[1;32m   2308\u001b[0m             \u001b[0;32mreturn\u001b[0m \u001b[0mvalues\u001b[0m\u001b[0;34m\u001b[0m\u001b[0m\n\u001b[1;32m   2309\u001b[0m         \u001b[0;32melse\u001b[0m\u001b[0;34m:\u001b[0m\u001b[0;34m\u001b[0m\u001b[0m\n\u001b[0;32m-> 2310\u001b[0;31m             \u001b[0mvalue\u001b[0m \u001b[0;34m=\u001b[0m \u001b[0mworker\u001b[0m\u001b[0;34m.\u001b[0m\u001b[0mget_object\u001b[0m\u001b[0;34m(\u001b[0m\u001b[0;34m[\u001b[0m\u001b[0mobject_ids\u001b[0m\u001b[0;34m]\u001b[0m\u001b[0;34m)\u001b[0m\u001b[0;34m[\u001b[0m\u001b[0;36m0\u001b[0m\u001b[0;34m]\u001b[0m\u001b[0;34m\u001b[0m\u001b[0m\n\u001b[0m\u001b[1;32m   2311\u001b[0m             \u001b[0;32mif\u001b[0m \u001b[0misinstance\u001b[0m\u001b[0;34m(\u001b[0m\u001b[0mvalue\u001b[0m\u001b[0;34m,\u001b[0m \u001b[0mRayError\u001b[0m\u001b[0;34m)\u001b[0m\u001b[0;34m:\u001b[0m\u001b[0;34m\u001b[0m\u001b[0m\n\u001b[1;32m   2312\u001b[0m                 \u001b[0;31m# If the result is a RayError, then the task that created\u001b[0m\u001b[0;34m\u001b[0m\u001b[0;34m\u001b[0m\u001b[0m\n",
      "\u001b[0;32m/srv/conda/envs/data100/lib/python3.6/site-packages/ray/worker.py\u001b[0m in \u001b[0;36mget_object\u001b[0;34m(self, object_ids)\u001b[0m\n\u001b[1;32m    488\u001b[0m                 raise TypeError(\n\u001b[1;32m    489\u001b[0m                     \u001b[0;34m\"Attempting to call `get` on the value {}, \"\u001b[0m\u001b[0;34m\u001b[0m\u001b[0m\n\u001b[0;32m--> 490\u001b[0;31m                     \"which is not an ray.ObjectID.\".format(object_id))\n\u001b[0m\u001b[1;32m    491\u001b[0m         \u001b[0;31m# Do an initial fetch for remote objects. We divide the fetch into\u001b[0m\u001b[0;34m\u001b[0m\u001b[0;34m\u001b[0m\u001b[0m\n\u001b[1;32m    492\u001b[0m         \u001b[0;31m# smaller fetches so as to not block the manager for a prolonged period\u001b[0m\u001b[0;34m\u001b[0m\u001b[0;34m\u001b[0m\u001b[0m\n",
      "\u001b[0;31mTypeError\u001b[0m: Attempting to call `get` on the value Ellipsis, which is not an ray.ObjectID."
     ]
    }
   ],
   "source": [
    "start_time = time.time()\n",
    "\n",
    "# Create an instance of a ResultAggregator actor\n",
    "result_aggregator = ... # Write your solution here \n",
    "\n",
    "# Call the add_results remote function on each URL\n",
    "get_and_add_frequencies = ... # Write your solution here \n",
    "\n",
    "# Wait for all add_results remote functions to complete\n",
    "ray.get(get_and_add_frequencies)\n",
    "\n",
    "# Get the results from the actor\n",
    "total_frequencies = ... # Write your solution here \n",
    "\n",
    "end_time = time.time()\n",
    "print(\"Counting the words took {} seconds.\".format(end_time - start_time))\n",
    "\n",
    "parallel_words = most_used_words(total_frequencies, 10)"
   ]
  },
  {
   "cell_type": "markdown",
   "metadata": {
    "nbgrader": {
     "grade": false,
     "grade_id": "cell-15e2b642b7fe20d5",
     "locked": true,
     "schema_version": 2,
     "solution": false
    }
   },
   "source": [
    "## Other Links\n",
    "\n",
    "You've seen above how Ray makes it easy to implement a system like MapReduce as a library on top of Ray. A handful of libraries have been implemented on top of Ray. You may be interested in taking a look at the following:\n",
    "- [*Tune*: Distributed hyperparameter search](https://ray.readthedocs.io/en/latest/tune.html)\n",
    "([github](https://github.com/ray-project/ray/tree/master/python/ray/tune))\n",
    "- [*RLlib*: Scalable reinforcement learning](https://ray.readthedocs.io/en/latest/rllib.html)\n",
    "([github](https://github.com/ray-project/ray/tree/master/python/ray/rllib))\n",
    "- [*Modin*: Speeding up Pandas](http://modin.org/)\n",
    "([github](https://github.com/modin-project/modin))\n",
    "\n",
    "Ray, Tune, RLlib, and Modin are research projects in UC Berkeley's RISElab. If you're interested in contributing, take a look at the project's codebase on Github!"
   ]
  },
  {
   "cell_type": "markdown",
   "metadata": {
    "deletable": false,
    "editable": false
   },
   "source": [
    "# Submit\n",
    "Make sure you have run all cells in your notebook in order before running the cell below, so that all images/graphs appear in the output.\n",
    "**Please save before submitting!**"
   ]
  },
  {
   "cell_type": "code",
   "execution_count": null,
   "metadata": {
    "deletable": false,
    "editable": false
   },
   "outputs": [],
   "source": [
    "# Save your notebook first, then run this cell to submit.\n",
    "ok.submit()"
   ]
  },
  {
   "cell_type": "code",
   "execution_count": null,
   "metadata": {},
   "outputs": [],
   "source": []
  },
  {
   "cell_type": "code",
   "execution_count": null,
   "metadata": {},
   "outputs": [],
   "source": []
  }
 ],
 "metadata": {
  "celltoolbar": "Create Assignment",
  "kernelspec": {
   "display_name": "Python 3",
   "language": "python",
   "name": "python3"
  },
  "language_info": {
   "codemirror_mode": {
    "name": "ipython",
    "version": 3
   },
   "file_extension": ".py",
   "mimetype": "text/x-python",
   "name": "python",
   "nbconvert_exporter": "python",
   "pygments_lexer": "ipython3",
   "version": "3.6.4"
  }
 },
 "nbformat": 4,
 "nbformat_minor": 2
}
