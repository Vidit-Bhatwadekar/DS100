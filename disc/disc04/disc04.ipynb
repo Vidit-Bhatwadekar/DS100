{
 "cells": [
  {
   "cell_type": "markdown",
   "metadata": {},
   "source": [
    "## Discussion 4\n",
    "July 3, 2019\n",
    "\n",
    "### Objective\n",
    "In this lab you will get some practice plotting, applying data transformations, and working with kernel density estimators.  We will be working with data from the World Bank containing various statistics for countries and territories around the world.  \n",
    "\n",
    "You **do not** need to submit this assignment. "
   ]
  },
  {
   "cell_type": "code",
   "execution_count": 1,
   "metadata": {
    "deletable": false,
    "editable": false
   },
   "outputs": [
    {
     "name": "stdout",
     "output_type": "stream",
     "text": [
      "=====================================================================\n",
      "Assignment: lab04\n",
      "OK, version v1.13.11\n",
      "=====================================================================\n",
      "\n"
     ]
    }
   ],
   "source": [
    "# Initialize OK\n",
    "from client.api.notebook import Notebook\n",
    "ok = Notebook('lab04.ok')"
   ]
  },
  {
   "cell_type": "code",
   "execution_count": 2,
   "metadata": {
    "_cell_guid": "33c63379-d85b-4638-8183-d008fdb96de7",
    "_uuid": "7ad7f9f24df7dba8ac92d234890835f6b9970834",
    "nbgrader": {
     "grade": false,
     "grade_id": "imports",
     "locked": true,
     "schema_version": 2,
     "solution": false
    }
   },
   "outputs": [],
   "source": [
    "import pandas as pd\n",
    "import numpy as np\n",
    "import seaborn as sns\n",
    "import matplotlib.pyplot as plt\n",
    "import zipfile\n",
    "\n",
    "plt.style.use('fivethirtyeight') # Use plt.style.available to see more styles\n",
    "sns.set()\n",
    "sns.set_context(\"talk\")\n",
    "%matplotlib inline"
   ]
  },
  {
   "cell_type": "markdown",
   "metadata": {
    "nbgrader": {
     "grade": false,
     "grade_id": "q0",
     "locked": true,
     "schema_version": 2,
     "solution": false
    }
   },
   "source": [
    "## Loading Data"
   ]
  },
  {
   "cell_type": "code",
   "execution_count": 3,
   "metadata": {
    "nbgrader": {
     "grade": false,
     "grade_id": "download-code-1",
     "locked": true,
     "schema_version": 2,
     "solution": false
    }
   },
   "outputs": [
    {
     "name": "stdout",
     "output_type": "stream",
     "text": [
      "Downloading... Done!\n",
      "Located at data/lab04_data.zip\n"
     ]
    }
   ],
   "source": [
    "import ds100_utils\n",
    "\n",
    "data_dir = 'data'\n",
    "data_url = 'http://www.ds100.org/sp19/assets/datasets/lab04_data.zip'\n",
    "file_name = 'lab04_data.zip'\n",
    "\n",
    "dest_path = ds100_utils.fetch_and_cache(data_url=data_url, file=file_name, data_dir=data_dir)\n",
    "print(f'Located at {dest_path}')"
   ]
  },
  {
   "cell_type": "markdown",
   "metadata": {
    "nbgrader": {
     "grade": false,
     "grade_id": "download-info-1",
     "locked": true,
     "schema_version": 2,
     "solution": false
    }
   },
   "source": [
    "Here, the ZIP archive contains a data folder with a few files in it. This is similar to what you had in lab 3.\n",
    "\n",
    "To get the CSV files we want to work with, directly extract the data folder in the zip archive into the `data` directory."
   ]
  },
  {
   "cell_type": "code",
   "execution_count": 4,
   "metadata": {
    "nbgrader": {
     "grade": false,
     "grade_id": "download-code-2",
     "locked": true,
     "schema_version": 2,
     "solution": false
    }
   },
   "outputs": [],
   "source": [
    "my_zip = zipfile.ZipFile(dest_path, 'r')\n",
    "my_zip.extractall(data_dir)"
   ]
  },
  {
   "cell_type": "markdown",
   "metadata": {
    "nbgrader": {
     "grade": false,
     "grade_id": "download-info-2",
     "locked": true,
     "schema_version": 2,
     "solution": false
    }
   },
   "source": [
    "Now, let us load some World Bank data into a pandas.DataFrame object named ```wb```."
   ]
  },
  {
   "cell_type": "code",
   "execution_count": 5,
   "metadata": {
    "nbgrader": {
     "grade": false,
     "grade_id": "data",
     "locked": true,
     "schema_version": 2,
     "solution": false
    }
   },
   "outputs": [
    {
     "data": {
      "text/html": [
       "<div>\n",
       "<style scoped>\n",
       "    .dataframe tbody tr th:only-of-type {\n",
       "        vertical-align: middle;\n",
       "    }\n",
       "\n",
       "    .dataframe tbody tr th {\n",
       "        vertical-align: top;\n",
       "    }\n",
       "\n",
       "    .dataframe thead th {\n",
       "        text-align: right;\n",
       "    }\n",
       "</style>\n",
       "<table border=\"1\" class=\"dataframe\">\n",
       "  <thead>\n",
       "    <tr style=\"text-align: right;\">\n",
       "      <th></th>\n",
       "      <th>Primary completion rate: Male: % of relevant age group: 2015</th>\n",
       "      <th>Primary completion rate: Female: % of relevant age group: 2015</th>\n",
       "      <th>Lower secondary completion rate: Male: % of relevant age group: 2015</th>\n",
       "      <th>Lower secondary completion rate: Female: % of relevant age group: 2015</th>\n",
       "      <th>Youth literacy rate: Male: % of ages 15-24: 2005-14</th>\n",
       "      <th>Youth literacy rate: Female: % of ages 15-24: 2005-14</th>\n",
       "      <th>Adult literacy rate: Male: % ages 15 and older: 2005-14</th>\n",
       "      <th>Adult literacy rate: Female: % ages 15 and older: 2005-14</th>\n",
       "      <th>Students at lowest proficiency on PISA: Mathematics: % of 15 year-olds: 2015</th>\n",
       "      <th>Students at lowest proficiency on PISA: Reading: % of 15 year-olds: 2015</th>\n",
       "      <th>...</th>\n",
       "      <th>Access to improved sanitation facilities: % of population: 1990</th>\n",
       "      <th>Access to improved sanitation facilities: % of population: 2015</th>\n",
       "      <th>Child immunization rate: Measles: % of children ages 12-23 months: 2015</th>\n",
       "      <th>Child immunization rate: DTP3: % of children ages 12-23 months: 2015</th>\n",
       "      <th>Children with acute respiratory infection taken to health provider: % of children under age 5 with ARI: 2009-2016</th>\n",
       "      <th>Children with diarrhea who received oral rehydration and continuous feeding: % of children under age 5 with diarrhea: 2009-2016</th>\n",
       "      <th>Children sleeping under treated bed nets: % of children under age 5: 2009-2016</th>\n",
       "      <th>Children with fever receiving antimalarial drugs: % of children under age 5 with fever: 2009-2016</th>\n",
       "      <th>Tuberculosis: Treatment success rate: % of new cases: 2014</th>\n",
       "      <th>Tuberculosis: Cases detection rate: % of new estimated cases: 2015</th>\n",
       "    </tr>\n",
       "  </thead>\n",
       "  <tbody>\n",
       "    <tr>\n",
       "      <th>Afghanistan</th>\n",
       "      <td>NaN</td>\n",
       "      <td>NaN</td>\n",
       "      <td>NaN</td>\n",
       "      <td>NaN</td>\n",
       "      <td>62.0</td>\n",
       "      <td>32.0</td>\n",
       "      <td>45.0</td>\n",
       "      <td>18.0</td>\n",
       "      <td>NaN</td>\n",
       "      <td>NaN</td>\n",
       "      <td>...</td>\n",
       "      <td>21.0</td>\n",
       "      <td>32.0</td>\n",
       "      <td>68.0</td>\n",
       "      <td>78.0</td>\n",
       "      <td>62.0</td>\n",
       "      <td>41.0</td>\n",
       "      <td>4.6</td>\n",
       "      <td>11.8</td>\n",
       "      <td>87.0</td>\n",
       "      <td>58.0</td>\n",
       "    </tr>\n",
       "    <tr>\n",
       "      <th>Albania</th>\n",
       "      <td>108.0</td>\n",
       "      <td>105.0</td>\n",
       "      <td>97.0</td>\n",
       "      <td>97.0</td>\n",
       "      <td>99.0</td>\n",
       "      <td>99.0</td>\n",
       "      <td>98.0</td>\n",
       "      <td>96.0</td>\n",
       "      <td>26.0</td>\n",
       "      <td>7.0</td>\n",
       "      <td>...</td>\n",
       "      <td>78.0</td>\n",
       "      <td>93.0</td>\n",
       "      <td>98.0</td>\n",
       "      <td>98.0</td>\n",
       "      <td>70.0</td>\n",
       "      <td>63.0</td>\n",
       "      <td>NaN</td>\n",
       "      <td>NaN</td>\n",
       "      <td>88.0</td>\n",
       "      <td>76.0</td>\n",
       "    </tr>\n",
       "    <tr>\n",
       "      <th>Algeria</th>\n",
       "      <td>106.0</td>\n",
       "      <td>105.0</td>\n",
       "      <td>68.0</td>\n",
       "      <td>85.0</td>\n",
       "      <td>96.0</td>\n",
       "      <td>92.0</td>\n",
       "      <td>83.0</td>\n",
       "      <td>68.0</td>\n",
       "      <td>51.0</td>\n",
       "      <td>11.0</td>\n",
       "      <td>...</td>\n",
       "      <td>80.0</td>\n",
       "      <td>88.0</td>\n",
       "      <td>95.0</td>\n",
       "      <td>95.0</td>\n",
       "      <td>66.0</td>\n",
       "      <td>42.0</td>\n",
       "      <td>NaN</td>\n",
       "      <td>NaN</td>\n",
       "      <td>88.0</td>\n",
       "      <td>80.0</td>\n",
       "    </tr>\n",
       "    <tr>\n",
       "      <th>American Samoa</th>\n",
       "      <td>NaN</td>\n",
       "      <td>NaN</td>\n",
       "      <td>NaN</td>\n",
       "      <td>NaN</td>\n",
       "      <td>NaN</td>\n",
       "      <td>NaN</td>\n",
       "      <td>NaN</td>\n",
       "      <td>NaN</td>\n",
       "      <td>NaN</td>\n",
       "      <td>NaN</td>\n",
       "      <td>...</td>\n",
       "      <td>61.0</td>\n",
       "      <td>63.0</td>\n",
       "      <td>NaN</td>\n",
       "      <td>NaN</td>\n",
       "      <td>NaN</td>\n",
       "      <td>NaN</td>\n",
       "      <td>NaN</td>\n",
       "      <td>NaN</td>\n",
       "      <td>NaN</td>\n",
       "      <td>87.0</td>\n",
       "    </tr>\n",
       "    <tr>\n",
       "      <th>Andorra</th>\n",
       "      <td>NaN</td>\n",
       "      <td>NaN</td>\n",
       "      <td>NaN</td>\n",
       "      <td>NaN</td>\n",
       "      <td>NaN</td>\n",
       "      <td>NaN</td>\n",
       "      <td>NaN</td>\n",
       "      <td>NaN</td>\n",
       "      <td>NaN</td>\n",
       "      <td>NaN</td>\n",
       "      <td>...</td>\n",
       "      <td>100.0</td>\n",
       "      <td>100.0</td>\n",
       "      <td>96.0</td>\n",
       "      <td>97.0</td>\n",
       "      <td>NaN</td>\n",
       "      <td>NaN</td>\n",
       "      <td>NaN</td>\n",
       "      <td>NaN</td>\n",
       "      <td>83.0</td>\n",
       "      <td>87.0</td>\n",
       "    </tr>\n",
       "  </tbody>\n",
       "</table>\n",
       "<p>5 rows × 45 columns</p>\n",
       "</div>"
      ],
      "text/plain": [
       "                Primary completion rate: Male: % of relevant age group: 2015  \\\n",
       "Afghanistan                                                   NaN              \n",
       "Albania                                                     108.0              \n",
       "Algeria                                                     106.0              \n",
       "American Samoa                                                NaN              \n",
       "Andorra                                                       NaN              \n",
       "\n",
       "                Primary completion rate: Female: % of relevant age group: 2015  \\\n",
       "Afghanistan                                                   NaN                \n",
       "Albania                                                     105.0                \n",
       "Algeria                                                     105.0                \n",
       "American Samoa                                                NaN                \n",
       "Andorra                                                       NaN                \n",
       "\n",
       "                Lower secondary completion rate: Male: % of relevant age group: 2015  \\\n",
       "Afghanistan                                                   NaN                      \n",
       "Albania                                                      97.0                      \n",
       "Algeria                                                      68.0                      \n",
       "American Samoa                                                NaN                      \n",
       "Andorra                                                       NaN                      \n",
       "\n",
       "                Lower secondary completion rate: Female: % of relevant age group: 2015  \\\n",
       "Afghanistan                                                   NaN                        \n",
       "Albania                                                      97.0                        \n",
       "Algeria                                                      85.0                        \n",
       "American Samoa                                                NaN                        \n",
       "Andorra                                                       NaN                        \n",
       "\n",
       "                Youth literacy rate: Male: % of ages 15-24: 2005-14  \\\n",
       "Afghanistan                                                  62.0     \n",
       "Albania                                                      99.0     \n",
       "Algeria                                                      96.0     \n",
       "American Samoa                                                NaN     \n",
       "Andorra                                                       NaN     \n",
       "\n",
       "                Youth literacy rate: Female: % of ages 15-24: 2005-14  \\\n",
       "Afghanistan                                                  32.0       \n",
       "Albania                                                      99.0       \n",
       "Algeria                                                      92.0       \n",
       "American Samoa                                                NaN       \n",
       "Andorra                                                       NaN       \n",
       "\n",
       "                Adult literacy rate: Male: % ages 15 and older: 2005-14  \\\n",
       "Afghanistan                                                  45.0         \n",
       "Albania                                                      98.0         \n",
       "Algeria                                                      83.0         \n",
       "American Samoa                                                NaN         \n",
       "Andorra                                                       NaN         \n",
       "\n",
       "                Adult literacy rate: Female: % ages 15 and older: 2005-14  \\\n",
       "Afghanistan                                                  18.0           \n",
       "Albania                                                      96.0           \n",
       "Algeria                                                      68.0           \n",
       "American Samoa                                                NaN           \n",
       "Andorra                                                       NaN           \n",
       "\n",
       "                Students at lowest proficiency on PISA: Mathematics: % of 15 year-olds: 2015  \\\n",
       "Afghanistan                                                   NaN                              \n",
       "Albania                                                      26.0                              \n",
       "Algeria                                                      51.0                              \n",
       "American Samoa                                                NaN                              \n",
       "Andorra                                                       NaN                              \n",
       "\n",
       "                Students at lowest proficiency on PISA: Reading: % of 15 year-olds: 2015  \\\n",
       "Afghanistan                                                   NaN                          \n",
       "Albania                                                       7.0                          \n",
       "Algeria                                                      11.0                          \n",
       "American Samoa                                                NaN                          \n",
       "Andorra                                                       NaN                          \n",
       "\n",
       "                ...  \\\n",
       "Afghanistan     ...   \n",
       "Albania         ...   \n",
       "Algeria         ...   \n",
       "American Samoa  ...   \n",
       "Andorra         ...   \n",
       "\n",
       "                Access to improved sanitation facilities: % of population: 1990  \\\n",
       "Afghanistan                                                  21.0                 \n",
       "Albania                                                      78.0                 \n",
       "Algeria                                                      80.0                 \n",
       "American Samoa                                               61.0                 \n",
       "Andorra                                                     100.0                 \n",
       "\n",
       "                Access to improved sanitation facilities: % of population: 2015  \\\n",
       "Afghanistan                                                  32.0                 \n",
       "Albania                                                      93.0                 \n",
       "Algeria                                                      88.0                 \n",
       "American Samoa                                               63.0                 \n",
       "Andorra                                                     100.0                 \n",
       "\n",
       "                Child immunization rate: Measles: % of children ages 12-23 months: 2015  \\\n",
       "Afghanistan                                                  68.0                         \n",
       "Albania                                                      98.0                         \n",
       "Algeria                                                      95.0                         \n",
       "American Samoa                                                NaN                         \n",
       "Andorra                                                      96.0                         \n",
       "\n",
       "                Child immunization rate: DTP3: % of children ages 12-23 months: 2015  \\\n",
       "Afghanistan                                                  78.0                      \n",
       "Albania                                                      98.0                      \n",
       "Algeria                                                      95.0                      \n",
       "American Samoa                                                NaN                      \n",
       "Andorra                                                      97.0                      \n",
       "\n",
       "                Children with acute respiratory infection taken to health provider: % of children under age 5 with ARI: 2009-2016  \\\n",
       "Afghanistan                                                  62.0                                                                   \n",
       "Albania                                                      70.0                                                                   \n",
       "Algeria                                                      66.0                                                                   \n",
       "American Samoa                                                NaN                                                                   \n",
       "Andorra                                                       NaN                                                                   \n",
       "\n",
       "                Children with diarrhea who received oral rehydration and continuous feeding: % of children under age 5 with diarrhea: 2009-2016  \\\n",
       "Afghanistan                                                  41.0                                                                                 \n",
       "Albania                                                      63.0                                                                                 \n",
       "Algeria                                                      42.0                                                                                 \n",
       "American Samoa                                                NaN                                                                                 \n",
       "Andorra                                                       NaN                                                                                 \n",
       "\n",
       "                Children sleeping under treated bed nets: % of children under age 5: 2009-2016  \\\n",
       "Afghanistan                                                   4.6                                \n",
       "Albania                                                       NaN                                \n",
       "Algeria                                                       NaN                                \n",
       "American Samoa                                                NaN                                \n",
       "Andorra                                                       NaN                                \n",
       "\n",
       "                Children with fever receiving antimalarial drugs: % of children under age 5 with fever: 2009-2016  \\\n",
       "Afghanistan                                                  11.8                                                   \n",
       "Albania                                                       NaN                                                   \n",
       "Algeria                                                       NaN                                                   \n",
       "American Samoa                                                NaN                                                   \n",
       "Andorra                                                       NaN                                                   \n",
       "\n",
       "                Tuberculosis: Treatment success rate: % of new cases: 2014  \\\n",
       "Afghanistan                                                  87.0            \n",
       "Albania                                                      88.0            \n",
       "Algeria                                                      88.0            \n",
       "American Samoa                                                NaN            \n",
       "Andorra                                                      83.0            \n",
       "\n",
       "                Tuberculosis: Cases detection rate: % of new estimated cases: 2015  \n",
       "Afghanistan                                                  58.0                   \n",
       "Albania                                                      76.0                   \n",
       "Algeria                                                      80.0                   \n",
       "American Samoa                                               87.0                   \n",
       "Andorra                                                      87.0                   \n",
       "\n",
       "[5 rows x 45 columns]"
      ]
     },
     "execution_count": 5,
     "metadata": {},
     "output_type": "execute_result"
    }
   ],
   "source": [
    "wb = pd.read_csv(\"data/data/world_bank_misc.csv\", index_col=0)\n",
    "wb.head()"
   ]
  },
  {
   "cell_type": "markdown",
   "metadata": {
    "nbgrader": {
     "grade": false,
     "grade_id": "explore-cols",
     "locked": true,
     "schema_version": 2,
     "solution": false
    }
   },
   "source": [
    "This table contains some interesting columns.  Take a look:"
   ]
  },
  {
   "cell_type": "code",
   "execution_count": 7,
   "metadata": {
    "nbgrader": {
     "grade": false,
     "grade_id": "explore-cols-code",
     "locked": true,
     "schema_version": 2,
     "solution": false
    },
    "scrolled": false
   },
   "outputs": [
    {
     "data": {
      "text/plain": [
       "['Primary completion rate: Male: % of relevant age group: 2015',\n",
       " 'Primary completion rate: Female: % of relevant age group: 2015',\n",
       " 'Lower secondary completion rate: Male: % of relevant age group: 2015',\n",
       " 'Lower secondary completion rate: Female: % of relevant age group: 2015',\n",
       " 'Youth literacy rate: Male: % of ages 15-24: 2005-14',\n",
       " 'Youth literacy rate: Female: % of ages 15-24: 2005-14',\n",
       " 'Adult literacy rate: Male: % ages 15 and older: 2005-14',\n",
       " 'Adult literacy rate: Female: % ages 15 and older: 2005-14',\n",
       " 'Students at lowest proficiency on PISA: Mathematics: % of 15 year-olds: 2015',\n",
       " 'Students at lowest proficiency on PISA: Reading: % of 15 year-olds: 2015',\n",
       " 'Students at lowest proficiency on PISA: Science: % of 15 year-olds: 2015',\n",
       " 'Population: millions: 2016',\n",
       " 'Surface area: sq. km thousands: 2016',\n",
       " 'Population density: people per sq. km: 2016',\n",
       " 'Gross national income, Atlas method: $ billions: 2016',\n",
       " 'Gross national income per capita, Atlas method: $: 2016',\n",
       " 'Purchasing power parity gross national income: $ billions: 2016',\n",
       " 'per capita: $: 2016',\n",
       " 'Gross domestic product: % growth : 2016',\n",
       " 'per capita: % growth: 2016',\n",
       " 'Prevalence of smoking: Male: % of adults: 2015',\n",
       " 'Prevalence of smoking: Female: % of adults: 2015',\n",
       " 'Incidence of tuberculosis: per 100,000 people: 2015',\n",
       " 'Prevalence of diabetes: % of population ages 20 to 79: 2015',\n",
       " 'Incidence of HIV: Total: % of uninfected population ages 15-49: 2015',\n",
       " 'Prevalence of HIV: Total: % of population ages 15-49: 2015',\n",
       " \"Prevalence of HIV: Women's share of population ages 15+ living with HIV: %: 2015\",\n",
       " 'Prevalence of HIV: Youth, Male: % of population ages 15-24: 2015',\n",
       " 'Prevalence of HIV: Youth, Female: % of population ages 15-24: 2015',\n",
       " 'Antiretroviral therapy coverage: % of people living with HIV: 2015',\n",
       " 'Cause of death: Communicable diseases and maternal, prenatal, and nutrition conditions: % of population: 2015',\n",
       " 'Cause of death: Non-communicable diseases: % of population: 2015',\n",
       " 'Cause of death: Injuries: % of population: 2015',\n",
       " 'Access to an improved water source: % of population: 1990',\n",
       " 'Access to an improved water source: % of population: 2015',\n",
       " 'Access to improved sanitation facilities: % of population: 1990',\n",
       " 'Access to improved sanitation facilities: % of population: 2015',\n",
       " 'Child immunization rate: Measles: % of children ages 12-23 months: 2015',\n",
       " 'Child immunization rate: DTP3: % of children ages 12-23 months: 2015',\n",
       " 'Children with acute respiratory infection taken to health provider: % of children under age 5 with ARI: 2009-2016',\n",
       " 'Children with diarrhea who received oral rehydration and continuous feeding: % of children under age 5 with diarrhea: 2009-2016',\n",
       " 'Children sleeping under treated bed nets: % of children under age 5: 2009-2016',\n",
       " 'Children with fever receiving antimalarial drugs: % of children under age 5 with fever: 2009-2016',\n",
       " 'Tuberculosis: Treatment success rate: % of new cases: 2014',\n",
       " 'Tuberculosis: Cases detection rate: % of new estimated cases: 2015']"
      ]
     },
     "execution_count": 7,
     "metadata": {},
     "output_type": "execute_result"
    }
   ],
   "source": [
    "list(wb.columns)"
   ]
  },
  {
   "cell_type": "markdown",
   "metadata": {
    "nbgrader": {
     "grade": false,
     "grade_id": "part1",
     "locked": true,
     "schema_version": 2,
     "solution": false
    }
   },
   "source": [
    "# Part 1: Scaling\n",
    "\n",
    "In the first part of this assignment we will look at the distribution of values for female adult literacy rate as well as the gross national income per capita. The code below creates a copy of the dataframe that contains only the two Series we want, and then drops all rows that contain null values in either column. "
   ]
  },
  {
   "cell_type": "code",
   "execution_count": 8,
   "metadata": {
    "nbgrader": {
     "grade": false,
     "grade_id": "q1-answer",
     "locked": true,
     "schema_version": 2,
     "solution": false
    },
    "scrolled": true,
    "tags": [
     "student"
    ]
   },
   "outputs": [
    {
     "name": "stdout",
     "output_type": "stream",
     "text": [
      "Original records: 216\n",
      "Final records: 147\n"
     ]
    }
   ],
   "source": [
    "#creates a dataframe with the appropriate index\n",
    "df = pd.DataFrame(index=wb.index)\n",
    "\n",
    "#copies the Series we want\n",
    "df['lit'] = wb['Adult literacy rate: Female: % ages 15 and older: 2005-14']\n",
    "df['inc'] = wb['Gross national income per capita, Atlas method: $: 2016']\n",
    "\n",
    "#the line below drops all records that have a NaN value in either column\n",
    "df.dropna(inplace=True)\n",
    "print(\"Original records:\", len(wb))\n",
    "print(\"Final records:\", len(df))"
   ]
  },
  {
   "cell_type": "code",
   "execution_count": 9,
   "metadata": {
    "nbgrader": {
     "grade": false,
     "grade_id": "cell-dcd091fc26fffb77",
     "locked": true,
     "schema_version": 2,
     "solution": false
    }
   },
   "outputs": [
    {
     "data": {
      "text/html": [
       "<div>\n",
       "<style scoped>\n",
       "    .dataframe tbody tr th:only-of-type {\n",
       "        vertical-align: middle;\n",
       "    }\n",
       "\n",
       "    .dataframe tbody tr th {\n",
       "        vertical-align: top;\n",
       "    }\n",
       "\n",
       "    .dataframe thead th {\n",
       "        text-align: right;\n",
       "    }\n",
       "</style>\n",
       "<table border=\"1\" class=\"dataframe\">\n",
       "  <thead>\n",
       "    <tr style=\"text-align: right;\">\n",
       "      <th></th>\n",
       "      <th>lit</th>\n",
       "      <th>inc</th>\n",
       "    </tr>\n",
       "  </thead>\n",
       "  <tbody>\n",
       "    <tr>\n",
       "      <th>Afghanistan</th>\n",
       "      <td>18.0</td>\n",
       "      <td>580.0</td>\n",
       "    </tr>\n",
       "    <tr>\n",
       "      <th>Albania</th>\n",
       "      <td>96.0</td>\n",
       "      <td>4250.0</td>\n",
       "    </tr>\n",
       "    <tr>\n",
       "      <th>Algeria</th>\n",
       "      <td>68.0</td>\n",
       "      <td>4270.0</td>\n",
       "    </tr>\n",
       "    <tr>\n",
       "      <th>Angola</th>\n",
       "      <td>60.0</td>\n",
       "      <td>3440.0</td>\n",
       "    </tr>\n",
       "    <tr>\n",
       "      <th>Antigua and Barbuda</th>\n",
       "      <td>99.0</td>\n",
       "      <td>13400.0</td>\n",
       "    </tr>\n",
       "  </tbody>\n",
       "</table>\n",
       "</div>"
      ],
      "text/plain": [
       "                      lit      inc\n",
       "Afghanistan          18.0    580.0\n",
       "Albania              96.0   4250.0\n",
       "Algeria              68.0   4270.0\n",
       "Angola               60.0   3440.0\n",
       "Antigua and Barbuda  99.0  13400.0"
      ]
     },
     "execution_count": 9,
     "metadata": {},
     "output_type": "execute_result"
    }
   ],
   "source": [
    "df.head(5)"
   ]
  },
  {
   "cell_type": "markdown",
   "metadata": {
    "nbgrader": {
     "grade": false,
     "grade_id": "cell-15d94e63e4d461a0",
     "locked": true,
     "schema_version": 2,
     "solution": false
    }
   },
   "source": [
    "## Question 1a"
   ]
  },
  {
   "cell_type": "markdown",
   "metadata": {
    "nbgrader": {
     "grade": false,
     "grade_id": "cell-30751ff6e5b72286",
     "locked": true,
     "schema_version": 2,
     "solution": false
    }
   },
   "source": [
    "Suppose we wanted to build a histogram of our data to understand the distribution of literacy rates and income per capita individually. Last week, we saw that `countplot` creates histograms from categorical data. "
   ]
  },
  {
   "cell_type": "code",
   "execution_count": 10,
   "metadata": {
    "nbgrader": {
     "grade": false,
     "grade_id": "cell-5e0c40ff7263e7df",
     "locked": true,
     "schema_version": 2,
     "solution": false
    }
   },
   "outputs": [
    {
     "data": {
      "image/png": "[encoded data removed]",
      "text/plain": [
       "<Figure size 1080x360 with 2 Axes>"
      ]
     },
     "metadata": {
      "needs_background": "light"
     },
     "output_type": "display_data"
    }
   ],
   "source": [
    "plt.figure(figsize=(15,5))\n",
    "\n",
    "plt.subplot(1,2,1)\n",
    "sns.countplot(df['lit'])\n",
    "plt.xlabel(\"Adult literacy rate: Female: % ages 15 and older: 2005-14\")\n",
    "plt.title('World Bank Female Adult Literacy Rate')\n",
    "\n",
    "plt.subplot(1,2,2)\n",
    "sns.countplot(df['inc'])\n",
    "plt.xlabel('Gross national income per capita, Atlas method: $: 2016')\n",
    "plt.title('World Bank Gross National Income Per Capita')\n",
    "plt.show()"
   ]
  },
  {
   "cell_type": "markdown",
   "metadata": {
    "deletable": false,
    "editable": false,
    "nbgrader": {
     "grade": false,
     "grade_id": "cell-f903d9acbd3014e1",
     "locked": true,
     "schema_version": 2,
     "solution": false
    }
   },
   "source": [
    "In the cell below, concisely explain why `countplot` is NOT the right tool for the job.\n",
    "\n",
    "<!--\n",
    "BEGIN QUESTION\n",
    "name: q1a\n",
    "-->"
   ]
  },
  {
   "cell_type": "code",
   "execution_count": 5,
   "metadata": {
    "nbgrader": {
     "grade": false,
     "grade_id": "cell-684085ca870da641",
     "locked": false,
     "schema_version": 2,
     "solution": true
    }
   },
   "outputs": [
    {
     "data": {
      "text/plain": [
       "Ellipsis"
      ]
     },
     "execution_count": 5,
     "metadata": {},
     "output_type": "execute_result"
    }
   ],
   "source": [
    "q1a = ...\n",
    "q1a"
   ]
  },
  {
   "cell_type": "code",
   "execution_count": 6,
   "metadata": {
    "deletable": false,
    "editable": false
   },
   "outputs": [
    {
     "ename": "NameError",
     "evalue": "name 'ok' is not defined",
     "output_type": "error",
     "traceback": [
      "\u001b[1;31m---------------------------------------------------------------------------\u001b[0m",
      "\u001b[1;31mNameError\u001b[0m                                 Traceback (most recent call last)",
      "\u001b[1;32m<ipython-input-6-b22c47ce5bd0>\u001b[0m in \u001b[0;36m<module>\u001b[1;34m()\u001b[0m\n\u001b[1;32m----> 1\u001b[1;33m \u001b[0mok\u001b[0m\u001b[1;33m.\u001b[0m\u001b[0mgrade\u001b[0m\u001b[1;33m(\u001b[0m\u001b[1;34m\"q1a\"\u001b[0m\u001b[1;33m)\u001b[0m\u001b[1;33m;\u001b[0m\u001b[1;33m\u001b[0m\u001b[0m\n\u001b[0m",
      "\u001b[1;31mNameError\u001b[0m: name 'ok' is not defined"
     ]
    }
   ],
   "source": [
    "ok.grade(\"q1a\");"
   ]
  },
  {
   "cell_type": "markdown",
   "metadata": {
    "nbgrader": {
     "grade": false,
     "grade_id": "cell-a1e1d716f6257540",
     "locked": true,
     "schema_version": 2,
     "solution": false
    }
   },
   "source": [
    "An alternate type of plot is the `barplot`, which as you'll see below, provides some vague idea of the distribution, but this is also not what we want."
   ]
  },
  {
   "cell_type": "code",
   "execution_count": 12,
   "metadata": {
    "nbgrader": {
     "grade": false,
     "grade_id": "cell-25140278a5f2078d",
     "locked": true,
     "schema_version": 2,
     "solution": false
    }
   },
   "outputs": [],
   "source": [
    "plt.figure(figsize=(15,5))\n",
    "\n",
    "plt.subplot(1,2,1)\n",
    "sns.barplot(df['lit'])\n",
    "plt.xlabel(\"Adult literacy rate: Female: % ages 15 and older: 2005-14\")\n",
    "plt.title('World Bank Female Adult Literacy Rate')\n",
    "\n",
    "plt.subplot(1,2,2)\n",
    "sns.barplot(df['inc'])\n",
    "plt.xlabel('Gross national income per capita, Atlas method: $: 2016')\n",
    "plt.title('World Bank Gross National Income Per Capita')\n",
    "plt.show()"
   ]
  },
  {
   "cell_type": "markdown",
   "metadata": {
    "nbgrader": {
     "grade": false,
     "grade_id": "q2a",
     "locked": true,
     "schema_version": 2,
     "solution": false
    }
   },
   "source": [
    "## Question 1b\n",
    "\n",
    "In the cell below, create a plot of literacy rate and income per capita using the `distplot` function. As above, you should have two subplots, where the left subplot is literacy, and the right subplot is income. When you call `distplot`, set the `kde` parameter to false, e.g. `distplot(s, kde=False)`.\n",
    "\n",
    "Don't forget to title the plot and label axes!\n",
    "\n",
    "**Hint:** *Copy and paste from above to start.*"
   ]
  },
  {
   "cell_type": "code",
   "execution_count": 13,
   "metadata": {
    "nbgrader": {
     "grade": true,
     "grade_id": "q2a-answer",
     "locked": false,
     "points": 1,
     "schema_version": 2,
     "solution": true
    },
    "scrolled": true,
    "tags": [
     "student"
    ]
   },
   "outputs": [],
   "source": [
    "..."
   ]
  },
  {
   "cell_type": "markdown",
   "metadata": {
    "nbgrader": {
     "grade": false,
     "grade_id": "cell-56f8e35b03f38694",
     "locked": true,
     "schema_version": 2,
     "solution": false
    }
   },
   "source": [
    "You should see histograms that show the counts of how many data points appear in each bin. `distplot` uses a heuristic called the Freedman-Diaconis rule to automatically identify the best bin sizes, though it is possible to set the bins yourself (we won't).\n",
    "\n",
    "In the cell below, try creating the exact same plot again, but this time set the `kde` parameter to False and the `rug` parameter to True."
   ]
  },
  {
   "cell_type": "code",
   "execution_count": 14,
   "metadata": {
    "nbgrader": {
     "grade": true,
     "grade_id": "cell-72d2c195130debd8",
     "locked": false,
     "points": 1,
     "schema_version": 2,
     "solution": true
    }
   },
   "outputs": [],
   "source": [
    "..."
   ]
  },
  {
   "cell_type": "markdown",
   "metadata": {
    "nbgrader": {
     "grade": false,
     "grade_id": "cell-782e4ce886bdd92b",
     "locked": true,
     "schema_version": 2,
     "solution": false
    }
   },
   "source": [
    "Above, you should see little lines at the bottom of the plot showing the actual data points. In the cell below, let's do one last tweak and plot with the `kde` parameter set to True."
   ]
  },
  {
   "cell_type": "code",
   "execution_count": 15,
   "metadata": {
    "nbgrader": {
     "grade": true,
     "grade_id": "cell-1aaac759f52a2269",
     "locked": false,
     "points": 1,
     "schema_version": 2,
     "solution": true
    }
   },
   "outputs": [],
   "source": [
    "..."
   ]
  },
  {
   "cell_type": "markdown",
   "metadata": {
    "nbgrader": {
     "grade": false,
     "grade_id": "cell-d2ac0f8505508bb9",
     "locked": true,
     "schema_version": 2,
     "solution": false
    }
   },
   "source": [
    "You should see roughly the same histogram as before. However, now you should see an overlaid smooth line. This is the kernel density estimate discussed in class. \n",
    "\n",
    "Observations:\n",
    "* You'll also see that the y-axis value is no longer the count. Instead it is a value such tha the total area under the KDE curve is 1. The KDE estimates the underlying probability density function of the given variable. \n",
    "* The KDE is just an estimate, and we can see that it makes some silly decisions, e.g. assigning a non-zero probability of a greater than 100% literacy rate. \n",
    "\n",
    "We'll talk more about KDEs later in this lab."
   ]
  },
  {
   "cell_type": "markdown",
   "metadata": {
    "nbgrader": {
     "grade": false,
     "grade_id": "q2b",
     "locked": true,
     "schema_version": 2,
     "solution": false
    }
   },
   "source": [
    "## Question 1c\n",
    "\n",
    "Looking at the income data, it is difficult to see the distribution among high income (> $30000) countries, and the KDE also has a funny artifact where the probability density function has little bumps just above zero that correspond to the wealthy outlying countries.\n",
    "\n",
    "We can logarithmically transform the `inc` data to give us a visual representation that makes it easier to see patterns and also give a more reasonable KDE.\n",
    "\n",
    "In the cell below, make a distribution plot with the data transformed using `np.log10` with `kde=True`. Be sure to correct the axis label using `plt.xlabel`. If you want to see the exact counts, just set `kde=False`."
   ]
  },
  {
   "cell_type": "code",
   "execution_count": 16,
   "metadata": {
    "nbgrader": {
     "grade": true,
     "grade_id": "q2c-answer",
     "locked": false,
     "points": 1,
     "schema_version": 2,
     "solution": true
    },
    "scrolled": false,
    "tags": [
     "student"
    ]
   },
   "outputs": [],
   "source": [
    "plt.figure()\n",
    "...\n",
    "\n",
    "..."
   ]
  },
  {
   "cell_type": "markdown",
   "metadata": {
    "nbgrader": {
     "grade": false,
     "grade_id": "part2",
     "locked": true,
     "schema_version": 2,
     "solution": false
    }
   },
   "source": [
    "# Part 2: Kernel Density Estimation\n",
    "\n",
    "In this part of the lab you will develop a deeper understanding of how kernel destiny estimation works. This section assumes you watched lecture 6 and are familiar with the basic idea of the KDE."
   ]
  },
  {
   "cell_type": "markdown",
   "metadata": {
    "nbgrader": {
     "grade": false,
     "grade_id": "cell-edbcbd6d58848e8b",
     "locked": true,
     "schema_version": 2,
     "solution": false
    }
   },
   "source": [
    "Suppose we have 3 data points with values 2, 4, and 9. We can compute the (useless) histogram as shown below."
   ]
  },
  {
   "cell_type": "code",
   "execution_count": 11,
   "metadata": {
    "nbgrader": {
     "grade": false,
     "grade_id": "cell-64844f4047d4220a",
     "locked": true,
     "schema_version": 2,
     "solution": false
    }
   },
   "outputs": [
    {
     "data": {
      "image/png": "[encoded data removed]",
      "text/plain": [
       "<Figure size 432x288 with 1 Axes>"
      ]
     },
     "metadata": {
      "needs_background": "light"
     },
     "output_type": "display_data"
    }
   ],
   "source": [
    "data3pts = np.array([2, 4, 9])\n",
    "sns.distplot(data3pts, kde = False);"
   ]
  },
  {
   "cell_type": "markdown",
   "metadata": {
    "nbgrader": {
     "grade": false,
     "grade_id": "cell-67d04c3e29060dab",
     "locked": true,
     "schema_version": 2,
     "solution": false
    }
   },
   "source": [
    "By setting `kde=True`, we can see a kernel density estimate of the data."
   ]
  },
  {
   "cell_type": "code",
   "execution_count": 12,
   "metadata": {
    "nbgrader": {
     "grade": false,
     "grade_id": "cell-720f7971a648ee3b",
     "locked": true,
     "schema_version": 2,
     "solution": false
    }
   },
   "outputs": [
    {
     "data": {
      "image/png": "[encoded data removed]",
      "text/plain": [
       "<Figure size 432x288 with 1 Axes>"
      ]
     },
     "metadata": {
      "needs_background": "light"
     },
     "output_type": "display_data"
    }
   ],
   "source": [
    "sns.distplot(data3pts, kde = True);"
   ]
  },
  {
   "cell_type": "markdown",
   "metadata": {},
   "source": [
    "这里曲线默认周围有数据点，因此自动生成，但实际上数据点只有三个，2，4，9"
   ]
  },
  {
   "cell_type": "markdown",
   "metadata": {
    "nbgrader": {
     "grade": false,
     "grade_id": "cell-827af143e350db11",
     "locked": true,
     "schema_version": 2,
     "solution": false
    }
   },
   "source": [
    "One question you might be wondering is how the kernel density estimator decides how \"wide\" each point should be. It turns out this is a parameter you can set called `bw`, which stands for bandwith. For example, the code below gives a bandwith value of 0.5 to each data point. You'll see the resulting kde is quite different. Try experimenting with different values of bandwidth and see what happens."
   ]
  },
  {
   "cell_type": "code",
   "execution_count": 20,
   "metadata": {
    "nbgrader": {
     "grade": false,
     "grade_id": "cell-912a66ab5da037c2",
     "locked": true,
     "schema_version": 2,
     "solution": false
    },
    "scrolled": true
   },
   "outputs": [
    {
     "data": {
      "image/png": "[encoded data removed]",
      "text/plain": [
       "<Figure size 432x288 with 1 Axes>"
      ]
     },
     "metadata": {
      "needs_background": "light"
     },
     "output_type": "display_data"
    }
   ],
   "source": [
    "sns.distplot(data3pts, kde = True, kde_kws = {\"bw\":0.1});"
   ]
  },
  {
   "cell_type": "markdown",
   "metadata": {
    "nbgrader": {
     "grade": false,
     "grade_id": "cell-4b452c13fc1463cd",
     "locked": true,
     "schema_version": 2,
     "solution": false
    }
   },
   "source": [
    "## Question 2a"
   ]
  },
  {
   "cell_type": "markdown",
   "metadata": {
    "nbgrader": {
     "grade": false,
     "grade_id": "cell-532fe1463a834b05",
     "locked": true,
     "schema_version": 2,
     "solution": false
    }
   },
   "source": [
    "As mentioned in class, the kernel density estimate is just the sum of a bunch of copies of the kernel, each centered on our data points. For those of you familiar with the idea of \"convolution\", the KDE is simply the convolution of the kernel with the data. The default kernel used by the `distplot` function is the Guassian kernel, given by:\n",
    "\n",
    "$$\\Large\n",
    "K_\\alpha(x, z) = \\frac{1}{\\sqrt{2 \\pi \\alpha^2}} \\exp\\left(-\\frac{(x - z)^2}{2  \\alpha ^2} \\right)\n",
    "$$"
   ]
  },
  {
   "cell_type": "markdown",
   "metadata": {
    "nbgrader": {
     "grade": false,
     "grade_id": "cell-8cad663e76c2a0b5",
     "locked": true,
     "schema_version": 2,
     "solution": false
    }
   },
   "source": [
    "In Python code, this function is given as below, where `alpha` is the parameter $\\alpha$, `z` is the x coordinate of the center of the Gaussian (i.e. a data point), and `x` is the independent variable."
   ]
  },
  {
   "cell_type": "code",
   "execution_count": 22,
   "metadata": {
    "nbgrader": {
     "grade": false,
     "grade_id": "cell-a3bcdaccb84140a2",
     "locked": true,
     "schema_version": 2,
     "solution": false
    }
   },
   "outputs": [],
   "source": [
    "def gaussian_kernel(alpha, x, z):\n",
    "    return 1.0/np.sqrt(2. * np.pi * alpha**2) * np.exp(-(x - z) ** 2 / (2.0 * alpha**2))"
   ]
  },
  {
   "cell_type": "markdown",
   "metadata": {
    "nbgrader": {
     "grade": false,
     "grade_id": "cell-55b4afb9f7caaaa5",
     "locked": true,
     "schema_version": 2,
     "solution": false
    }
   },
   "source": [
    "For example, we can plot the gaussian kernel centered on $x$ coordinate 9 with $\\alpha$ = 0.5 as below: "
   ]
  },
  {
   "cell_type": "code",
   "execution_count": 24,
   "metadata": {
    "nbgrader": {
     "grade": false,
     "grade_id": "cell-2fcba8c1b7a5e471",
     "locked": true,
     "schema_version": 2,
     "solution": false
    },
    "scrolled": true
   },
   "outputs": [
    {
     "data": {
      "image/png": "[encoded data removed]",
      "text/plain": [
       "<Figure size 432x288 with 1 Axes>"
      ]
     },
     "metadata": {
      "needs_background": "light"
     },
     "output_type": "display_data"
    }
   ],
   "source": [
    "xs = np.linspace(-2, 12, 200)\n",
    "alpha=0.5\n",
    "kde_curve = [gaussian_kernel(alpha, x, 9) for x in xs]\n",
    "plt.plot(xs, kde_curve);"
   ]
  },
  {
   "cell_type": "markdown",
   "metadata": {
    "nbgrader": {
     "grade": false,
     "grade_id": "cell-44993358532f997e",
     "locked": true,
     "schema_version": 2,
     "solution": false
    }
   },
   "source": [
    "In the cell below, plot the 3 kernel density functions corresponding to our 3 data points on the same axis. Use an `alpha` value of 0.5.\n",
    "\n",
    "**Hint:** *The `gaussian_kernel` function can take a numpy array as an argument for `z`*."
   ]
  },
  {
   "cell_type": "code",
   "execution_count": 26,
   "metadata": {
    "nbgrader": {
     "grade": true,
     "grade_id": "cell-fb3e2a6d258ddbf8",
     "locked": false,
     "points": 1,
     "schema_version": 2,
     "solution": true
    },
    "scrolled": true
   },
   "outputs": [
    {
     "data": {
      "image/png": "[encoded data removed]",
      "text/plain": [
       "<Figure size 432x288 with 1 Axes>"
      ]
     },
     "metadata": {
      "needs_background": "light"
     },
     "output_type": "display_data"
    }
   ],
   "source": [
    "xs = np.linspace(-2, 12, 200)\n",
    "data3pts = np.array([2, 4, 9])\n",
    "alpha=0.5\n",
    "kde_curve = [gaussian_kernel(alpha, x, data3pts) for x in xs]\n",
    "plt.plot(xs, kde_curve);"
   ]
  },
  {
   "cell_type": "markdown",
   "metadata": {
    "nbgrader": {
     "grade": false,
     "grade_id": "gaussian-kernel",
     "locked": true,
     "schema_version": 2,
     "solution": false
    }
   },
   "source": [
    "In the cell below, create a plot showing the sum of all three of the kernels above. Your plot should closely resemble the kde shown when you called `distplot` function with bandwidth 0.5 earlier.\n",
    "\n",
    "**Hint: ** *Consider using np.sum with the argument `axis = 1`.*\n",
    "\n",
    "**Hint: ** *Make sure to normalize your kernels!*"
   ]
  },
  {
   "cell_type": "code",
   "execution_count": 23,
   "metadata": {
    "nbgrader": {
     "grade": true,
     "grade_id": "cell-39b7921225a4bbda",
     "locked": false,
     "points": 1,
     "schema_version": 2,
     "solution": true
    },
    "scrolled": true
   },
   "outputs": [],
   "source": [
    "..."
   ]
  },
  {
   "cell_type": "markdown",
   "metadata": {
    "nbgrader": {
     "grade": false,
     "grade_id": "cell-6318ed263946e61e",
     "locked": true,
     "schema_version": 2,
     "solution": false
    }
   },
   "source": [
    "## Question 2b"
   ]
  },
  {
   "cell_type": "markdown",
   "metadata": {
    "nbgrader": {
     "grade": false,
     "grade_id": "cell-75f0be696fffcb15",
     "locked": true,
     "schema_version": 2,
     "solution": false
    }
   },
   "source": [
    "Recall that earlier we plotted the kernel density estimation for the logarithm of the income data, as shown again below."
   ]
  },
  {
   "cell_type": "code",
   "execution_count": 24,
   "metadata": {
    "nbgrader": {
     "grade": false,
     "grade_id": "cell-5dc1ca49bb365cb7",
     "locked": true,
     "schema_version": 2,
     "solution": false
    }
   },
   "outputs": [],
   "source": [
    "ax = sns.distplot(np.log10(df['inc']), hist=False)\n",
    "plt.title('World Bank Gross National Income Per Capita')\n",
    "plt.xlabel('Log Gross national income per capita, Atlas method: $: 2016');"
   ]
  },
  {
   "cell_type": "markdown",
   "metadata": {
    "nbgrader": {
     "grade": false,
     "grade_id": "cell-e2a9298ef9825f6c",
     "locked": true,
     "schema_version": 2,
     "solution": false
    }
   },
   "source": [
    "In the cell below, make a similar plot using your technique from question 2a. Give an estimate of the $\\alpha$ value chosen by the `sns.distplot` function by tweaking your `alpha` value until your plot looks almost the same."
   ]
  },
  {
   "cell_type": "code",
   "execution_count": 25,
   "metadata": {
    "nbgrader": {
     "grade": true,
     "grade_id": "cell-a1cbcf4340aacbdd",
     "locked": false,
     "points": 1,
     "schema_version": 2,
     "solution": true
    }
   },
   "outputs": [],
   "source": [
    "..."
   ]
  },
  {
   "cell_type": "markdown",
   "metadata": {
    "nbgrader": {
     "grade": false,
     "grade_id": "cell-ceb8c82d83beab3f",
     "locked": true,
     "schema_version": 2,
     "solution": false
    }
   },
   "source": [
    "## Question 2c"
   ]
  },
  {
   "cell_type": "markdown",
   "metadata": {
    "nbgrader": {
     "grade": false,
     "grade_id": "cell-82d4cf532a909280",
     "locked": true,
     "schema_version": 2,
     "solution": false
    }
   },
   "source": [
    "In your answers above, you hard coded a lot of your work. In this problem, you'll build a more general kernel density estimator function.(more than normal distribution)"
   ]
  },
  {
   "cell_type": "markdown",
   "metadata": {
    "deletable": false,
    "editable": false,
    "nbgrader": {
     "grade": false,
     "grade_id": "q3a",
     "locked": true,
     "schema_version": 2,
     "solution": false
    }
   },
   "source": [
    "Implement the KDE function which computes:\n",
    "\n",
    "$$\\Large\n",
    "f_\\alpha(x) = \\frac{1}{n} \\sum_{i=1}^n K_\\alpha(x, z_i)\n",
    "$$\n",
    "\n",
    "Where $z_i$ are the data, $\\alpha$ is a parameter to control the smoothness, and $K_\\alpha$ is the kernel density function passed as `kernel`.\n",
    "\n",
    "<!--\n",
    "BEGIN QUESTION\n",
    "name: q2c\n",
    "-->"
   ]
  },
  {
   "cell_type": "markdown",
   "metadata": {},
   "source": [
    "$$\\Large\n",
    "K_\\alpha(x, z) = \\frac{1}{\\sqrt{2 \\pi \\alpha^2}} \\exp\\left(-\\frac{(x - z)^2}{2  \\alpha ^2} \\right)\n",
    "$$"
   ]
  },
  {
   "cell_type": "code",
   "execution_count": 26,
   "metadata": {
    "nbgrader": {
     "grade": false,
     "grade_id": "q3a-answer",
     "locked": false,
     "schema_version": 2,
     "solution": true
    },
    "tags": [
     "student"
    ]
   },
   "outputs": [],
   "source": [
    "def kde(kernel, alpha, x, data):\n",
    "    \"\"\"\n",
    "    Compute the kernel density estimate for the single query point x.\n",
    "\n",
    "    Args:\n",
    "        kernel: a kernel function with 3 parameters: alpha, x, data\n",
    "        alpha: the smoothing parameter to pass to the kernel\n",
    "        x: a single query point (in one dimension)\n",
    "        data: a numpy array of data points\n",
    "\n",
    "    Returns:\n",
    "        The smoothed estimate at the query point x\n",
    "    \"\"\"\n",
    "    ...\n",
    "    num_points = len(data)\n",
    "    return \n",
    "    ..."
   ]
  },
  {
   "cell_type": "code",
   "execution_count": null,
   "metadata": {
    "deletable": false,
    "editable": false
   },
   "outputs": [],
   "source": [
    "ok.grade(\"q2c\");"
   ]
  },
  {
   "cell_type": "markdown",
   "metadata": {
    "nbgrader": {
     "grade": false,
     "grade_id": "cell-237693c557348d15",
     "locked": true,
     "schema_version": 2,
     "solution": false
    }
   },
   "source": [
    "Assuming you implemented `kde` correctly, the code below should generate the `kde` of the log of the income data as before."
   ]
  },
  {
   "cell_type": "code",
   "execution_count": 28,
   "metadata": {
    "nbgrader": {
     "grade": false,
     "grade_id": "cell-cd8fe3ad58eaadda",
     "locked": true,
     "schema_version": 2,
     "solution": false
    }
   },
   "outputs": [],
   "source": [
    "df['trans_inc'] = np.log10(df['inc'])\n",
    "xs = np.linspace(df['trans_inc'].min(), df['trans_inc'].max(), 1000)\n",
    "curve = [kde(gaussian_kernel, alpha, x, df['trans_inc']) for x in xs]\n",
    "plt.hist(df['trans_inc'], normed=True, color='orange')\n",
    "plt.title('World Bank Gross National Income Per Capita')\n",
    "plt.xlabel('Log Gross national income per capita, Atlas method: $: 2016');\n",
    "plt.plot(xs, curve, 'k-');"
   ]
  },
  {
   "cell_type": "markdown",
   "metadata": {
    "nbgrader": {
     "grade": false,
     "grade_id": "cell-e6e9e5afa3654ff7",
     "locked": true,
     "schema_version": 2,
     "solution": false
    }
   },
   "source": [
    "And the code below should show a 3 x 3 set of plots showing the output of the kde for different `alpha` values."
   ]
  },
  {
   "cell_type": "code",
   "execution_count": 29,
   "metadata": {
    "nbgrader": {
     "grade": false,
     "grade_id": "q3c-plots",
     "locked": true,
     "schema_version": 2,
     "solution": false
    },
    "tags": [
     "student"
    ]
   },
   "outputs": [],
   "source": [
    "plt.figure(figsize=(15,15))\n",
    "alphas = np.arange(0.2, 2.0, 0.2)\n",
    "for i, alpha in enumerate(alphas):\n",
    "    plt.subplot(3, 3, i+1)\n",
    "    xs = np.linspace(df['trans_inc'].min(), df['trans_inc'].max(), 1000)\n",
    "    curve = [kde(gaussian_kernel, alpha, x, df['trans_inc']) for x in xs]\n",
    "    plt.hist(df['trans_inc'], normed=True, color='orange')\n",
    "    plt.plot(xs, curve, 'k-')\n",
    "plt.show()"
   ]
  },
  {
   "cell_type": "markdown",
   "metadata": {
    "nbgrader": {
     "grade": false,
     "grade_id": "cell-aac6f1e8a7d66932",
     "locked": true,
     "schema_version": 2,
     "solution": false
    }
   },
   "source": [
    "Let's take a look at another kernel, the Boxcar kernel."
   ]
  },
  {
   "cell_type": "code",
   "execution_count": 27,
   "metadata": {
    "nbgrader": {
     "grade": false,
     "grade_id": "q3d-function",
     "locked": true,
     "schema_version": 2,
     "solution": false
    }
   },
   "outputs": [],
   "source": [
    "def boxcar_kernel(alpha, x, z):\n",
    "    return (((x-z)>=-alpha/2)&((x-z)<=alpha/2))/alpha"
   ]
  },
  {
   "cell_type": "markdown",
   "metadata": {
    "nbgrader": {
     "grade": false,
     "grade_id": "interact-instructions",
     "locked": true,
     "schema_version": 2,
     "solution": false
    }
   },
   "source": [
    "Run the cell below to enable interactive plots. It should give you a green 'OK' when it's finished."
   ]
  },
  {
   "cell_type": "code",
   "execution_count": 28,
   "metadata": {
    "nbgrader": {
     "grade": false,
     "grade_id": "interact-code",
     "locked": true,
     "schema_version": 2,
     "solution": false
    }
   },
   "outputs": [
    {
     "name": "stdout",
     "output_type": "stream",
     "text": [
      "Enabling notebook extension jupyter-js-widgets/extension...\n",
      "      - Validating: \u001b[32mOK\u001b[0m\n"
     ]
    }
   ],
   "source": [
    "from ipywidgets import interact\n",
    "!jupyter nbextension enable --py widgetsnbextension"
   ]
  },
  {
   "cell_type": "markdown",
   "metadata": {
    "nbgrader": {
     "grade": false,
     "grade_id": "q3d-plot_instructions",
     "locked": true,
     "schema_version": 2,
     "solution": false
    }
   },
   "source": [
    "Now, we can plot the Boxcar and Gaussian kernel functions to see what they look like."
   ]
  },
  {
   "cell_type": "code",
   "execution_count": 31,
   "metadata": {
    "nbgrader": {
     "grade": false,
     "grade_id": "q3d-plot",
     "locked": true,
     "schema_version": 2,
     "solution": false
    }
   },
   "outputs": [
    {
     "data": {
      "application/vnd.jupyter.widget-view+json": {
       "model_id": "ef23266f8e07453fbb8494adf5067c08",
       "version_major": 2,
       "version_minor": 0
      },
      "text/plain": [
       "interactive(children=(FloatSlider(value=5.0, description='alpha', max=10.0, min=1.0), Output()), _dom_classes=…"
      ]
     },
     "metadata": {},
     "output_type": "display_data"
    }
   ],
   "source": [
    "x = np.linspace(-10,10,1000)\n",
    "def f(alpha):\n",
    "    plt.plot(x, boxcar_kernel(alpha,x,0), label='Boxcar')\n",
    "    plt.plot(x, gaussian_kernel(alpha,x,0), label='Gaussian')\n",
    "    plt.legend(title='Kernel Function')\n",
    "    plt.show()\n",
    "interact(f, alpha=(1,10,0.1));"
   ]
  },
  {
   "cell_type": "markdown",
   "metadata": {
    "nbgrader": {
     "grade": false,
     "grade_id": "q3d-interactive",
     "locked": true,
     "schema_version": 2,
     "solution": false
    }
   },
   "source": [
    "Using the interactive plot below compare the the two kernel techniques:  (Generating the KDE plot is slow, so you may expect some latency after you move the slider)"
   ]
  },
  {
   "cell_type": "code",
   "execution_count": 32,
   "metadata": {
    "nbgrader": {
     "grade": false,
     "grade_id": "q3d-interactive_plot",
     "locked": true,
     "schema_version": 2,
     "solution": false
    }
   },
   "outputs": [
    {
     "ename": "KeyError",
     "evalue": "'trans_inc'",
     "output_type": "error",
     "traceback": [
      "\u001b[0;31m---------------------------------------------------------------------------\u001b[0m",
      "\u001b[0;31mKeyError\u001b[0m                                  Traceback (most recent call last)",
      "\u001b[0;32m/srv/conda/envs/data100/lib/python3.6/site-packages/pandas/core/indexes/base.py\u001b[0m in \u001b[0;36mget_loc\u001b[0;34m(self, key, method, tolerance)\u001b[0m\n\u001b[1;32m   2656\u001b[0m             \u001b[0;32mtry\u001b[0m\u001b[0;34m:\u001b[0m\u001b[0;34m\u001b[0m\u001b[0m\n\u001b[0;32m-> 2657\u001b[0;31m                 \u001b[0;32mreturn\u001b[0m \u001b[0mself\u001b[0m\u001b[0;34m.\u001b[0m\u001b[0m_engine\u001b[0m\u001b[0;34m.\u001b[0m\u001b[0mget_loc\u001b[0m\u001b[0;34m(\u001b[0m\u001b[0mkey\u001b[0m\u001b[0;34m)\u001b[0m\u001b[0;34m\u001b[0m\u001b[0m\n\u001b[0m\u001b[1;32m   2658\u001b[0m             \u001b[0;32mexcept\u001b[0m \u001b[0mKeyError\u001b[0m\u001b[0;34m:\u001b[0m\u001b[0;34m\u001b[0m\u001b[0m\n",
      "\u001b[0;32mpandas/_libs/index.pyx\u001b[0m in \u001b[0;36mpandas._libs.index.IndexEngine.get_loc\u001b[0;34m()\u001b[0m\n",
      "\u001b[0;32mpandas/_libs/index.pyx\u001b[0m in \u001b[0;36mpandas._libs.index.IndexEngine.get_loc\u001b[0;34m()\u001b[0m\n",
      "\u001b[0;32mpandas/_libs/hashtable_class_helper.pxi\u001b[0m in \u001b[0;36mpandas._libs.hashtable.PyObjectHashTable.get_item\u001b[0;34m()\u001b[0m\n",
      "\u001b[0;32mpandas/_libs/hashtable_class_helper.pxi\u001b[0m in \u001b[0;36mpandas._libs.hashtable.PyObjectHashTable.get_item\u001b[0;34m()\u001b[0m\n",
      "\u001b[0;31mKeyError\u001b[0m: 'trans_inc'",
      "\nDuring handling of the above exception, another exception occurred:\n",
      "\u001b[0;31mKeyError\u001b[0m                                  Traceback (most recent call last)",
      "\u001b[0;32m<ipython-input-32-b24eecc9e168>\u001b[0m in \u001b[0;36m<module>\u001b[0;34m\u001b[0m\n\u001b[0;32m----> 1\u001b[0;31m \u001b[0mxs\u001b[0m \u001b[0;34m=\u001b[0m \u001b[0mnp\u001b[0m\u001b[0;34m.\u001b[0m\u001b[0mlinspace\u001b[0m\u001b[0;34m(\u001b[0m\u001b[0mdf\u001b[0m\u001b[0;34m[\u001b[0m\u001b[0;34m'trans_inc'\u001b[0m\u001b[0;34m]\u001b[0m\u001b[0;34m.\u001b[0m\u001b[0mmin\u001b[0m\u001b[0;34m(\u001b[0m\u001b[0;34m)\u001b[0m\u001b[0;34m,\u001b[0m \u001b[0mdf\u001b[0m\u001b[0;34m[\u001b[0m\u001b[0;34m'trans_inc'\u001b[0m\u001b[0;34m]\u001b[0m\u001b[0;34m.\u001b[0m\u001b[0mmax\u001b[0m\u001b[0;34m(\u001b[0m\u001b[0;34m)\u001b[0m\u001b[0;34m,\u001b[0m \u001b[0;36m1000\u001b[0m\u001b[0;34m)\u001b[0m\u001b[0;34m\u001b[0m\u001b[0m\n\u001b[0m\u001b[1;32m      2\u001b[0m \u001b[0;32mdef\u001b[0m \u001b[0mf\u001b[0m\u001b[0;34m(\u001b[0m\u001b[0malpha_g\u001b[0m\u001b[0;34m,\u001b[0m \u001b[0malpha_b\u001b[0m\u001b[0;34m)\u001b[0m\u001b[0;34m:\u001b[0m\u001b[0;34m\u001b[0m\u001b[0m\n\u001b[1;32m      3\u001b[0m     \u001b[0mplt\u001b[0m\u001b[0;34m.\u001b[0m\u001b[0mhist\u001b[0m\u001b[0;34m(\u001b[0m\u001b[0mdf\u001b[0m\u001b[0;34m[\u001b[0m\u001b[0;34m'trans_inc'\u001b[0m\u001b[0;34m]\u001b[0m\u001b[0;34m,\u001b[0m \u001b[0mnormed\u001b[0m\u001b[0;34m=\u001b[0m\u001b[0;32mTrue\u001b[0m\u001b[0;34m,\u001b[0m \u001b[0mcolor\u001b[0m\u001b[0;34m=\u001b[0m\u001b[0;34m'orange'\u001b[0m\u001b[0;34m)\u001b[0m\u001b[0;34m\u001b[0m\u001b[0m\n\u001b[1;32m      4\u001b[0m     \u001b[0mg_curve\u001b[0m \u001b[0;34m=\u001b[0m \u001b[0;34m[\u001b[0m\u001b[0mkde\u001b[0m\u001b[0;34m(\u001b[0m\u001b[0mgaussian_kernel\u001b[0m\u001b[0;34m,\u001b[0m \u001b[0malpha_g\u001b[0m\u001b[0;34m,\u001b[0m \u001b[0mx\u001b[0m\u001b[0;34m,\u001b[0m \u001b[0mdf\u001b[0m\u001b[0;34m[\u001b[0m\u001b[0;34m'trans_inc'\u001b[0m\u001b[0;34m]\u001b[0m\u001b[0;34m)\u001b[0m \u001b[0;32mfor\u001b[0m \u001b[0mx\u001b[0m \u001b[0;32min\u001b[0m \u001b[0mxs\u001b[0m\u001b[0;34m]\u001b[0m\u001b[0;34m\u001b[0m\u001b[0m\n\u001b[1;32m      5\u001b[0m     \u001b[0mplt\u001b[0m\u001b[0;34m.\u001b[0m\u001b[0mplot\u001b[0m\u001b[0;34m(\u001b[0m\u001b[0mxs\u001b[0m\u001b[0;34m,\u001b[0m \u001b[0mg_curve\u001b[0m\u001b[0;34m,\u001b[0m \u001b[0;34m'k-'\u001b[0m\u001b[0;34m,\u001b[0m \u001b[0mlabel\u001b[0m\u001b[0;34m=\u001b[0m\u001b[0;34m'Gaussian'\u001b[0m\u001b[0;34m)\u001b[0m\u001b[0;34m\u001b[0m\u001b[0m\n",
      "\u001b[0;32m/srv/conda/envs/data100/lib/python3.6/site-packages/pandas/core/frame.py\u001b[0m in \u001b[0;36m__getitem__\u001b[0;34m(self, key)\u001b[0m\n\u001b[1;32m   2925\u001b[0m             \u001b[0;32mif\u001b[0m \u001b[0mself\u001b[0m\u001b[0;34m.\u001b[0m\u001b[0mcolumns\u001b[0m\u001b[0;34m.\u001b[0m\u001b[0mnlevels\u001b[0m \u001b[0;34m>\u001b[0m \u001b[0;36m1\u001b[0m\u001b[0;34m:\u001b[0m\u001b[0;34m\u001b[0m\u001b[0m\n\u001b[1;32m   2926\u001b[0m                 \u001b[0;32mreturn\u001b[0m \u001b[0mself\u001b[0m\u001b[0;34m.\u001b[0m\u001b[0m_getitem_multilevel\u001b[0m\u001b[0;34m(\u001b[0m\u001b[0mkey\u001b[0m\u001b[0;34m)\u001b[0m\u001b[0;34m\u001b[0m\u001b[0m\n\u001b[0;32m-> 2927\u001b[0;31m             \u001b[0mindexer\u001b[0m \u001b[0;34m=\u001b[0m \u001b[0mself\u001b[0m\u001b[0;34m.\u001b[0m\u001b[0mcolumns\u001b[0m\u001b[0;34m.\u001b[0m\u001b[0mget_loc\u001b[0m\u001b[0;34m(\u001b[0m\u001b[0mkey\u001b[0m\u001b[0;34m)\u001b[0m\u001b[0;34m\u001b[0m\u001b[0m\n\u001b[0m\u001b[1;32m   2928\u001b[0m             \u001b[0;32mif\u001b[0m \u001b[0mis_integer\u001b[0m\u001b[0;34m(\u001b[0m\u001b[0mindexer\u001b[0m\u001b[0;34m)\u001b[0m\u001b[0;34m:\u001b[0m\u001b[0;34m\u001b[0m\u001b[0m\n\u001b[1;32m   2929\u001b[0m                 \u001b[0mindexer\u001b[0m \u001b[0;34m=\u001b[0m \u001b[0;34m[\u001b[0m\u001b[0mindexer\u001b[0m\u001b[0;34m]\u001b[0m\u001b[0;34m\u001b[0m\u001b[0m\n",
      "\u001b[0;32m/srv/conda/envs/data100/lib/python3.6/site-packages/pandas/core/indexes/base.py\u001b[0m in \u001b[0;36mget_loc\u001b[0;34m(self, key, method, tolerance)\u001b[0m\n\u001b[1;32m   2657\u001b[0m                 \u001b[0;32mreturn\u001b[0m \u001b[0mself\u001b[0m\u001b[0;34m.\u001b[0m\u001b[0m_engine\u001b[0m\u001b[0;34m.\u001b[0m\u001b[0mget_loc\u001b[0m\u001b[0;34m(\u001b[0m\u001b[0mkey\u001b[0m\u001b[0;34m)\u001b[0m\u001b[0;34m\u001b[0m\u001b[0m\n\u001b[1;32m   2658\u001b[0m             \u001b[0;32mexcept\u001b[0m \u001b[0mKeyError\u001b[0m\u001b[0;34m:\u001b[0m\u001b[0;34m\u001b[0m\u001b[0m\n\u001b[0;32m-> 2659\u001b[0;31m                 \u001b[0;32mreturn\u001b[0m \u001b[0mself\u001b[0m\u001b[0;34m.\u001b[0m\u001b[0m_engine\u001b[0m\u001b[0;34m.\u001b[0m\u001b[0mget_loc\u001b[0m\u001b[0;34m(\u001b[0m\u001b[0mself\u001b[0m\u001b[0;34m.\u001b[0m\u001b[0m_maybe_cast_indexer\u001b[0m\u001b[0;34m(\u001b[0m\u001b[0mkey\u001b[0m\u001b[0;34m)\u001b[0m\u001b[0;34m)\u001b[0m\u001b[0;34m\u001b[0m\u001b[0m\n\u001b[0m\u001b[1;32m   2660\u001b[0m         \u001b[0mindexer\u001b[0m \u001b[0;34m=\u001b[0m \u001b[0mself\u001b[0m\u001b[0;34m.\u001b[0m\u001b[0mget_indexer\u001b[0m\u001b[0;34m(\u001b[0m\u001b[0;34m[\u001b[0m\u001b[0mkey\u001b[0m\u001b[0;34m]\u001b[0m\u001b[0;34m,\u001b[0m \u001b[0mmethod\u001b[0m\u001b[0;34m=\u001b[0m\u001b[0mmethod\u001b[0m\u001b[0;34m,\u001b[0m \u001b[0mtolerance\u001b[0m\u001b[0;34m=\u001b[0m\u001b[0mtolerance\u001b[0m\u001b[0;34m)\u001b[0m\u001b[0;34m\u001b[0m\u001b[0m\n\u001b[1;32m   2661\u001b[0m         \u001b[0;32mif\u001b[0m \u001b[0mindexer\u001b[0m\u001b[0;34m.\u001b[0m\u001b[0mndim\u001b[0m \u001b[0;34m>\u001b[0m \u001b[0;36m1\u001b[0m \u001b[0;32mor\u001b[0m \u001b[0mindexer\u001b[0m\u001b[0;34m.\u001b[0m\u001b[0msize\u001b[0m \u001b[0;34m>\u001b[0m \u001b[0;36m1\u001b[0m\u001b[0;34m:\u001b[0m\u001b[0;34m\u001b[0m\u001b[0m\n",
      "\u001b[0;32mpandas/_libs/index.pyx\u001b[0m in \u001b[0;36mpandas._libs.index.IndexEngine.get_loc\u001b[0;34m()\u001b[0m\n",
      "\u001b[0;32mpandas/_libs/index.pyx\u001b[0m in \u001b[0;36mpandas._libs.index.IndexEngine.get_loc\u001b[0;34m()\u001b[0m\n",
      "\u001b[0;32mpandas/_libs/hashtable_class_helper.pxi\u001b[0m in \u001b[0;36mpandas._libs.hashtable.PyObjectHashTable.get_item\u001b[0;34m()\u001b[0m\n",
      "\u001b[0;32mpandas/_libs/hashtable_class_helper.pxi\u001b[0m in \u001b[0;36mpandas._libs.hashtable.PyObjectHashTable.get_item\u001b[0;34m()\u001b[0m\n",
      "\u001b[0;31mKeyError\u001b[0m: 'trans_inc'"
     ]
    }
   ],
   "source": [
    "xs = np.linspace(df['trans_inc'].min(), df['trans_inc'].max(), 1000)\n",
    "def f(alpha_g, alpha_b):\n",
    "    plt.hist(df['trans_inc'], normed=True, color='orange')\n",
    "    g_curve = [kde(gaussian_kernel, alpha_g, x, df['trans_inc']) for x in xs]\n",
    "    plt.plot(xs, g_curve, 'k-', label='Gaussian')\n",
    "    b_curve = [kde(boxcar_kernel, alpha_b, x, df['trans_inc']) for x in xs]\n",
    "    plt.plot(xs, b_curve, 'r-', label='Boxcar')\n",
    "    plt.legend(title='Kernel Function')\n",
    "    plt.show()\n",
    "interact(f, alpha_g=(0.01,.5,0.01), alpha_b=(0.01,3,0.1));"
   ]
  },
  {
   "cell_type": "markdown",
   "metadata": {
    "nbgrader": {
     "grade": false,
     "grade_id": "cell-9f2cd3a74f8dfc0c",
     "locked": true,
     "schema_version": 2,
     "solution": false
    }
   },
   "source": [
    "Briefly compare and contrast the Gaussian and Boxcar kernels in the cell below."
   ]
  },
  {
   "cell_type": "markdown",
   "metadata": {
    "nbgrader": {
     "grade": true,
     "grade_id": "cell-27bffa85bddb24a8",
     "locked": false,
     "points": 1,
     "schema_version": 2,
     "solution": true
    }
   },
   "source": []
  },
  {
   "cell_type": "markdown",
   "metadata": {
    "nbgrader": {
     "grade": false,
     "grade_id": "finish",
     "locked": true,
     "schema_version": 2,
     "solution": false
    }
   },
   "source": [
    "**Congrats!** You are finished with this assignment. You do not have to submit this assignment."
   ]
  },
  {
   "cell_type": "markdown",
   "metadata": {
    "deletable": false,
    "editable": false
   },
   "source": [
    "# Submit\n",
    "Make sure you have run all cells in your notebook in order before running the cell below, so that all images/graphs appear in the output.\n",
    "**Please save before submitting!**"
   ]
  },
  {
   "cell_type": "code",
   "execution_count": null,
   "metadata": {
    "deletable": false,
    "editable": false
   },
   "outputs": [],
   "source": [
    "# Save your notebook first, then run this cell to submit.\n",
    "ok.submit()"
   ]
  }
 ],
 "metadata": {
  "_change_revision": 0,
  "_is_fork": false,
  "celltoolbar": "Create Assignment",
  "kernelspec": {
   "display_name": "Python 3",
   "language": "python",
   "name": "python3"
  },
  "language_info": {
   "codemirror_mode": {
    "name": "ipython",
    "version": 3
   },
   "file_extension": ".py",
   "mimetype": "text/x-python",
   "name": "python",
   "nbconvert_exporter": "python",
   "pygments_lexer": "ipython3",
   "version": "3.6.4"
  }
 },
 "nbformat": 4,
 "nbformat_minor": 1
}
